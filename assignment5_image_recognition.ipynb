{
 "cells": [
  {
   "cell_type": "markdown",
   "metadata": {
    "id": "IImW6xGnwobW"
   },
   "source": [
    "## Image recognition\n",
    "Before we start: Runtime / Change runtime type / turn on GPU\n",
    "\n",
    "[1. MNIST](#1.-MNIST) <br>\n",
    "&emsp;&emsp; [1.1. Loading and visualization](#1.1.-Loading-and-visualization) <br>\n",
    "&emsp;&emsp; [1.2. CNN classification](#1.2-CNN-classification) <br>\n",
    "&emsp;&emsp;&emsp;&emsp; - [Data preparation](#Data-preparation) <br>\n",
    "&emsp;&emsp;&emsp;&emsp; - [Network preparation](#Network-preparation) <br>\n",
    "&emsp;&emsp;&emsp;&emsp; - [Training](#Training) <br>\n",
    "&emsp;&emsp;&emsp;&emsp; - [Evaluation](#Evaluation) <br>\n",
    "\n",
    "[2. FASHION MNIST](#2.-FASHION-MNIST) <br>\n",
    "&emsp;&emsp; [2.1. Data loading and preparation](#2.1.-Data-loading-and-preparation) <br>\n",
    "&emsp;&emsp; [2.2. Network preparation and training](#2.2.-Network-preparation-and-training) <br>\n",
    "&emsp;&emsp; [2.3. Evaluation](#2.3.-Evaluation) <br>\n",
    "&emsp;&emsp; [2.4. Early stopping](#2.4.-Early-stopping) <br>\n",
    "&emsp;&emsp; [2.5. Improving the results](#2.5.-Improving-the-results) <br>"
   ]
  },
  {
   "cell_type": "markdown",
   "metadata": {
    "id": "3qW-R-Zn3y5b"
   },
   "source": [
    "### 1. MNIST\n",
    "**MNIST** (Modified National Institute of Standards and Technology), contains 70,000 handwritten digits (28x28 pixels in grayscale with values ​​0-255, i.e. 1 byte per pixel). The set is already divided into training and test data, it is very popular, so it is easy to compare our results with those published on the Internet. \n"
   ]
  },
  {
   "cell_type": "markdown",
   "metadata": {
    "id": "725Tr9dOfTmr"
   },
   "source": [
    "#### 1.1. Loading and visualization\n",
    "Load `mnist` data into `X_train`, `y_train`, `X_test`, `y_test` variables.\n",
    "https://keras.io/datasets/"
   ]
  },
  {
   "cell_type": "code",
   "execution_count": 1,
   "metadata": {
    "colab": {
     "base_uri": "https://localhost:8080/"
    },
    "executionInfo": {
     "elapsed": 3395,
     "status": "ok",
     "timestamp": 1662714826363,
     "user": {
      "displayName": "Grażyna Rozmysłowicz",
      "userId": "11356318807843777886"
     },
     "user_tz": -120
    },
    "id": "j9NGgReMXoyK",
    "outputId": "67240af4-8f5e-4970-8288-41e207c2e970"
   },
   "outputs": [
    {
     "name": "stdout",
     "output_type": "stream",
     "text": [
      "Downloading data from https://storage.googleapis.com/tensorflow/tf-keras-datasets/mnist.npz\n",
      "11493376/11490434 [==============================] - 0s 0us/step\n",
      "11501568/11490434 [==============================] - 0s 0us/step\n"
     ]
    }
   ],
   "source": [
    "from keras.datasets import mnist as dataset\n",
    "import numpy as np \n",
    "\n",
    "(X_train, y_train), (X_test, y_test) = dataset.load_data() \n",
    "# X capital letter, because matrix\n",
    "# y lowercase letter, because vector"
   ]
  },
  {
   "cell_type": "markdown",
   "metadata": {
    "id": "Qtam0UK3HM4t"
   },
   "source": [
    "Now check and write:\n",
    "* how many **training instances** do we have?\n",
    "* how many **test instances** do we have?\n",
    "* what are **pixel dimensions** of one image?\n",
    "* how many **channels** does one picture have?\n",
    "* how many **bytes** does one pixel take?\n",
    "* what is the **minimum** and **maximum pixel value**?\n"
   ]
  },
  {
   "cell_type": "code",
   "execution_count": 2,
   "metadata": {
    "colab": {
     "base_uri": "https://localhost:8080/"
    },
    "executionInfo": {
     "elapsed": 279,
     "status": "ok",
     "timestamp": 1662714831126,
     "user": {
      "displayName": "Grażyna Rozmysłowicz",
      "userId": "11356318807843777886"
     },
     "user_tz": -120
    },
    "id": "H6HW57bUKHEu",
    "outputId": "1fbc7769-91e1-4750-8ae1-92b280232fe5"
   },
   "outputs": [
    {
     "name": "stdout",
     "output_type": "stream",
     "text": [
      "Training instances:  60000\n",
      "Test instances:  10000\n",
      "Pixel dimensions of one image:  (28, 28)  =  (28, 28)\n"
     ]
    }
   ],
   "source": [
    "print('Training instances: ', len(X_train))\n",
    "print('Test instances: ', len(X_test))\n",
    "print('Pixel dimensions of one image: ', X_train.shape[1:3], ' = ', X_train[0].shape)"
   ]
  },
  {
   "cell_type": "markdown",
   "metadata": {
    "id": "IeodGDaZT9Zr"
   },
   "source": [
    "**Channel (digital image)** \n",
    "Color digital images are made of pixels, and pixels are made of combinations of primary colors represented by a series of code. A channel in this context is the grayscale image of the same size as a color image, made of just one of these primary colors. For instance, an image from a standard digital camera will have a <u>red, green and blue channel</u>. A <u>grayscale image has just one channel</u>. \n"
   ]
  },
  {
   "cell_type": "code",
   "execution_count": 3,
   "metadata": {
    "colab": {
     "base_uri": "https://localhost:8080/"
    },
    "executionInfo": {
     "elapsed": 272,
     "status": "ok",
     "timestamp": 1662714962388,
     "user": {
      "displayName": "Grażyna Rozmysłowicz",
      "userId": "11356318807843777886"
     },
     "user_tz": -120
    },
    "id": "yVy-dw0GT9Zr",
    "outputId": "a1dadfa3-5755-4dc1-e3c0-e6e03fdf0ca7"
   },
   "outputs": [
    {
     "name": "stdout",
     "output_type": "stream",
     "text": [
      "1 picture have:  1 channels\n",
      "1 pixel take:  1 bytes\n",
      "minimum pixel value:  0\n",
      "maximum pixel value:  255\n"
     ]
    }
   ],
   "source": [
    "print('1 picture have: ', 1 if len(X_train[0].shape) == 2 else len(X_train[0].shape), 'channels')\n",
    "print('1 pixel take: ',  X_train[0][0][0].nbytes, 'bytes')\n",
    "print('minimum pixel value: ', X_train.min())\n",
    "print('maximum pixel value: ', X_train.max())"
   ]
  },
  {
   "cell_type": "markdown",
   "metadata": {
    "id": "yZpZmpJpbr87"
   },
   "source": [
    "Great, now:\n",
    "* Draw the first 12 elements of training set.\n",
    "* Write or draw labels for these 12 elements.\n",
    " \n",
    "\n",
    "[Here are different color maps.](  \n",
    "https://matplotlib.org/examples/color/colormaps_reference.html), which you can use in `imshow` function."
   ]
  },
  {
   "cell_type": "code",
   "execution_count": 4,
   "metadata": {
    "colab": {
     "base_uri": "https://localhost:8080/",
     "height": 337
    },
    "executionInfo": {
     "elapsed": 1332,
     "status": "ok",
     "timestamp": 1662715402329,
     "user": {
      "displayName": "Grażyna Rozmysłowicz",
      "userId": "11356318807843777886"
     },
     "user_tz": -120
    },
    "id": "nIh_CbLNcRLZ",
    "outputId": "d6fbf82f-a419-44c3-9be8-ffb3dc707f01"
   },
   "outputs": [
    {
     "data": {
      "image/png": "[encoded data removed]",
      "text/plain": [
       "<Figure size 432x288 with 12 Axes>"
      ]
     },
     "metadata": {
      "needs_background": "light"
     },
     "output_type": "display_data"
    },
    {
     "name": "stdout",
     "output_type": "stream",
     "text": [
      "Labels of the above images:\n",
      "[5 0 4 1]\n",
      "[9 2 1 3]\n",
      "[1 4 3 5]\n"
     ]
    }
   ],
   "source": [
    "import matplotlib.pyplot as plt\n",
    "\n",
    "for i in range(12):\n",
    "    plt.subplot(3,4,i+1)\n",
    "    plt.imshow(X_train[i], cmap='inferno')\n",
    "\n",
    "plt.show()\n",
    "\n",
    "print('Labels of the above images:')\n",
    "for i in range(0,12,4):\n",
    "    print(y_train[i:i+4])"
   ]
  },
  {
   "cell_type": "markdown",
   "metadata": {
    "id": "Uu-4YcjdLt5g"
   },
   "source": [
    "Draw your student number using digits of `mnist` set. If your index is e.g. s12345, draw 5 pictures with the numbers '1', '2', '3', '4' and '5' next to each other."
   ]
  },
  {
   "cell_type": "code",
   "execution_count": 5,
   "metadata": {
    "colab": {
     "base_uri": "https://localhost:8080/",
     "height": 134
    },
    "executionInfo": {
     "elapsed": 816,
     "status": "ok",
     "timestamp": 1662715582921,
     "user": {
      "displayName": "Grażyna Rozmysłowicz",
      "userId": "11356318807843777886"
     },
     "user_tz": -120
    },
    "id": "nirtYlFgMgEY",
    "outputId": "19f0c8f6-0541-459a-dbc4-d1af9e37e450"
   },
   "outputs": [
    {
     "name": "stdout",
     "output_type": "stream",
     "text": [
      "Hypothetical student number for the task: s543210\n",
      "Label indexes:  [0, 2, 7, 5, 3, 1]\n"
     ]
    },
    {
     "data": {
      "image/png": "[encoded data removed]",
      "text/plain": [
       "<Figure size 432x288 with 6 Axes>"
      ]
     },
     "metadata": {
      "needs_background": "light"
     },
     "output_type": "display_data"
    }
   ],
   "source": [
    "print(\"Hypothetical student number for the task: s543210\")\n",
    "\n",
    "my_num = [5,4,3,2,1,0]\n",
    "indexes = []\n",
    "\n",
    "for num in my_num:\n",
    "    indexes.append(np.where(y_train == num)[0][0])\n",
    "\n",
    "print('Label indexes: ',indexes)\n",
    "\n",
    "#first way\n",
    "\n",
    "for i in range(len(indexes)):\n",
    "    plt.subplot(1, len(indexes),i+1)\n",
    "    plt.imshow(X_train[indexes[i]], cmap='viridis')\n",
    "plt.show()\n"
   ]
  },
  {
   "cell_type": "code",
   "execution_count": 6,
   "metadata": {
    "colab": {
     "base_uri": "https://localhost:8080/",
     "height": 203
    },
    "executionInfo": {
     "elapsed": 859,
     "status": "ok",
     "timestamp": 1662715614460,
     "user": {
      "displayName": "Grażyna Rozmysłowicz",
      "userId": "11356318807843777886"
     },
     "user_tz": -120
    },
    "id": "w95RtZrAT9Zv",
    "outputId": "52149093-83b8-4f5c-b9b5-93ac82e564ff"
   },
   "outputs": [
    {
     "name": "stdout",
     "output_type": "stream",
     "text": [
      "0 0\n",
      "1 2\n",
      "2 7\n",
      "3 5\n",
      "4 3\n",
      "5 1\n"
     ]
    },
    {
     "data": {
      "image/png": "[encoded data removed]",
      "text/plain": [
       "<Figure size 432x288 with 6 Axes>"
      ]
     },
     "metadata": {
      "needs_background": "light"
     },
     "output_type": "display_data"
    }
   ],
   "source": [
    "#Second way\n",
    "\n",
    "for i,j in enumerate(indexes):\n",
    "    print(i,j)\n",
    "    plt.subplot(1, len(my_num),i+1)\n",
    "    plt.imshow(X_train[j], cmap='magma')\n",
    "plt.show()\n"
   ]
  },
  {
   "cell_type": "markdown",
   "metadata": {
    "id": "0lOBeLJYcAGN"
   },
   "source": [
    "#### 1.2. CNN classification\n",
    "##### **Data preparation**\n",
    "* Edit `X_train` and `X_test` so that all pixel values ​​are within <0,1>  range.\n",
    "* Change type of our pixels to `float32`.\n",
    "\n",
    "*Hint: The `astype` method may come in handy.*"
   ]
  },
  {
   "cell_type": "code",
   "execution_count": 7,
   "metadata": {
    "colab": {
     "base_uri": "https://localhost:8080/"
    },
    "executionInfo": {
     "elapsed": 270,
     "status": "ok",
     "timestamp": 1662716109126,
     "user": {
      "displayName": "Grażyna Rozmysłowicz",
      "userId": "11356318807843777886"
     },
     "user_tz": -120
    },
    "id": "Qp0ZwlCpT9Zx",
    "outputId": "15e5eb8c-d59a-4ca9-a65d-b6c271e35e81"
   },
   "outputs": [
    {
     "name": "stdout",
     "output_type": "stream",
     "text": [
      "Before change:\n",
      "<class 'numpy.float64'>\n",
      "<class 'numpy.float64'>\n",
      "\n",
      "\n",
      "After change:\n",
      "<class 'numpy.float32'>\n",
      "<class 'numpy.float32'>\n"
     ]
    }
   ],
   "source": [
    "X_train = X_train / 255\n",
    "X_test = X_test / 255\n",
    "\n",
    "print('Before change:')\n",
    "print(type(X_train[0][0][0])) # float64, but keras wants float32\n",
    "print(type(X_test[0][0][0]))\n",
    "\n",
    "X_train = X_train.astype('float32')\n",
    "X_test = X_test.astype('float32')\n",
    "\n",
    "print('\\n')\n",
    "print('After change:')\n",
    "print(type(X_train[0][0][0]))\n",
    "print(type(X_test[0][0][0]))"
   ]
  },
  {
   "cell_type": "markdown",
   "metadata": {
    "id": "HQJvnE8NeDgT"
   },
   "source": [
    "We have prepared training data, now we will prepare labels. At the moment it is a vector of numbers - we have one number for each instance. Our network will have 10 values in output (the result for each class), so we need to rewrite our numbers to **one-hot**. If classes of three instances are e.g. [0, 3, 5], in form of one-hot we will have something like this:\n",
    "\n",
    "[1000000000]  \n",
    "[0001000000]  \n",
    "[0000010000]\n",
    "\n",
    "You can use [`to_categorical`](https://keras.io/api/utils/python_utils/) function for this.\n",
    "* Convert labels to one-hot and enter results into `Y_train` and `Y_test` variables.\n",
    "* List the first 10 elements of `Y_train` and `y_train`.\n",
    "* Write how number labels 1, 2 and 4 will be written in new form.\n",
    "* Write down digits of your index number using the above notation."
   ]
  },
  {
   "cell_type": "code",
   "execution_count": 8,
   "metadata": {
    "colab": {
     "base_uri": "https://localhost:8080/"
    },
    "executionInfo": {
     "elapsed": 313,
     "status": "ok",
     "timestamp": 1662718831481,
     "user": {
      "displayName": "Grażyna Rozmysłowicz",
      "userId": "11356318807843777886"
     },
     "user_tz": -120
    },
    "id": "xQUGyHL2cLBp",
    "outputId": "b23c6899-327a-49f8-b38e-528b727baa5b"
   },
   "outputs": [
    {
     "name": "stdout",
     "output_type": "stream",
     "text": [
      "[[0. 0. 0. 0. 0. 1. 0. 0. 0. 0.]\n",
      " [1. 0. 0. 0. 0. 0. 0. 0. 0. 0.]\n",
      " [0. 0. 0. 0. 1. 0. 0. 0. 0. 0.]\n",
      " [0. 1. 0. 0. 0. 0. 0. 0. 0. 0.]\n",
      " [0. 0. 0. 0. 0. 0. 0. 0. 0. 1.]\n",
      " [0. 0. 1. 0. 0. 0. 0. 0. 0. 0.]\n",
      " [0. 1. 0. 0. 0. 0. 0. 0. 0. 0.]\n",
      " [0. 0. 0. 1. 0. 0. 0. 0. 0. 0.]\n",
      " [0. 1. 0. 0. 0. 0. 0. 0. 0. 0.]\n",
      " [0. 0. 0. 0. 1. 0. 0. 0. 0. 0.]]\n",
      "[5 0 4 1 9 2 1 3 1 4]\n"
     ]
    }
   ],
   "source": [
    "from keras.utils.np_utils import to_categorical\n",
    "\n",
    "Y_train = to_categorical(y_train)\n",
    "Y_test = to_categorical(y_test)\n",
    "\n",
    "print(Y_train[:10])\n",
    "print(y_train[:10])"
   ]
  },
  {
   "cell_type": "code",
   "execution_count": 9,
   "metadata": {
    "colab": {
     "base_uri": "https://localhost:8080/"
    },
    "executionInfo": {
     "elapsed": 323,
     "status": "ok",
     "timestamp": 1662718836826,
     "user": {
      "displayName": "Grażyna Rozmysłowicz",
      "userId": "11356318807843777886"
     },
     "user_tz": -120
    },
    "id": "_HmWUBKhT9Zy",
    "outputId": "b208f689-cbbf-46c5-f392-31b0f5be6901"
   },
   "outputs": [
    {
     "name": "stdout",
     "output_type": "stream",
     "text": [
      "1 ->  [0. 1. 0. 0. 0. 0. 0. 0. 0. 0.]\n",
      "2 ->  [0. 0. 1. 0. 0. 0. 0. 0. 0. 0.]\n",
      "4 ->  [0. 0. 0. 0. 1. 0. 0. 0. 0. 0.]\n"
     ]
    }
   ],
   "source": [
    "uniq_nums = to_categorical(np.unique(y_train),num_classes=10)\n",
    "\n",
    "nums = [1,2,4]\n",
    "for num in nums:\n",
    "    print(num, '-> ', uniq_nums[num])"
   ]
  },
  {
   "cell_type": "code",
   "execution_count": 10,
   "metadata": {
    "colab": {
     "base_uri": "https://localhost:8080/"
    },
    "executionInfo": {
     "elapsed": 276,
     "status": "ok",
     "timestamp": 1662718851205,
     "user": {
      "displayName": "Grażyna Rozmysłowicz",
      "userId": "11356318807843777886"
     },
     "user_tz": -120
    },
    "id": "7jx85ZpbT9Zy",
    "outputId": "36d00831-b07d-4a10-8bb1-97a2aaed89e2"
   },
   "outputs": [
    {
     "name": "stdout",
     "output_type": "stream",
     "text": [
      "5 ->  [0. 0. 0. 0. 0. 1. 0. 0. 0. 0.]\n",
      "4 ->  [0. 0. 0. 0. 1. 0. 0. 0. 0. 0.]\n",
      "3 ->  [0. 0. 0. 1. 0. 0. 0. 0. 0. 0.]\n",
      "2 ->  [0. 0. 1. 0. 0. 0. 0. 0. 0. 0.]\n",
      "1 ->  [0. 1. 0. 0. 0. 0. 0. 0. 0. 0.]\n",
      "0 ->  [1. 0. 0. 0. 0. 0. 0. 0. 0. 0.]\n"
     ]
    }
   ],
   "source": [
    "myStudentId = [5,4,3,2,1,0]\n",
    "\n",
    "for num in myStudentId:\n",
    "    print(num, '-> ', uniq_nums[num])"
   ]
  },
  {
   "cell_type": "markdown",
   "metadata": {
    "id": "x4s1Inr0BTaY"
   },
   "source": [
    "First layers of our network will be `Conv2D` type. They take instance data in form of multidimensional arrays. So we don't flatten data into a vector - as we would have to do for `SVM` or `MLP`. This will be done by `Flatten` layer of our network later.\n",
    "\n",
    "We pass instances to network in form of `width x height x channel_num` (`channels_last` format; in case of `channels_first` format array would have dimensions of: `channel_num x width x height`).\n",
    "\n",
    "* Make sure we operate in `channels_last` mode (`keras.backend.image_data_format()`).\n",
    "* Check shape of training and test data once again.\n",
    "* If we are missing the last dimension, let's add it.\n",
    "\n",
    "\n",
    "*Hint: `np.expand_dims(X_train, -1)` should add missing dimension to the end.*\n",
    "\n",
    " "
   ]
  },
  {
   "cell_type": "code",
   "execution_count": null,
   "metadata": {
    "id": "z0cxmoxuT9Zz"
   },
   "outputs": [],
   "source": [
    "from keras import backend as K\n",
    "\n",
    "#keras jest 'nakładką' na inne biblioteki\n",
    "#kiedyś keras biblioteka Theano\n",
    "#keras z defaultu korzysta z Tensorflow, ale można mu podłączyć różnie biblioteki\n",
    "\n",
    "#Channel first czy pixel first - trzeba zawsze wiedzieć które!\n",
    "\n",
    "if K.image_data_format() == 'channels_first':\n",
    "    X_train = X_train.reshape(X_train.shape[0], 1, 28, 28) #gdybyśmy mieli 3 kanały to zamiast 1 byłyby 3\n",
    "    X_test = X_test.reshape(X_test.shape[0], 1, 28, 28)\n",
    "    input_shape = (1, 28, 28)\n",
    "    \n",
    "else: # channels_last\n",
    "    X_train = X_train.reshape(X_train.shape[0], 28, 28, 1)\n",
    "    X_test = X_test.reshape(X_test.shape[0], 28, 28, 1)\n",
    "    input_shape = (28, 28, 1)"
   ]
  },
  {
   "cell_type": "code",
   "execution_count": null,
   "metadata": {
    "colab": {
     "base_uri": "https://localhost:8080/"
    },
    "executionInfo": {
     "elapsed": 263,
     "status": "ok",
     "timestamp": 1654195561145,
     "user": {
      "displayName": "Grażyna Rozmysłowicz",
      "userId": "11356318807843777886"
     },
     "user_tz": -120
    },
    "id": "DN09kvIPT9Z0",
    "outputId": "d756a3c0-1620-4282-c1dc-3800a1b6ccc1"
   },
   "outputs": [
    {
     "name": "stdout",
     "output_type": "stream",
     "text": [
      "(28, 28, 1)\n",
      "(28, 28, 1)\n",
      "(28, 28, 1)\n"
     ]
    }
   ],
   "source": [
    "print(input_shape)\n",
    "print(X_train[0].shape)\n",
    "print(X_test[0].shape)"
   ]
  },
  {
   "cell_type": "markdown",
   "metadata": {
    "id": "C_wFFlj0gNpP"
   },
   "source": [
    "##### **Network preparation**\n",
    "Probably, the following imports will be useful for us.\n",
    "\n",
    "```python\n",
    "from keras.models import Sequential\n",
    "from keras.layers import Dense, Flatten\n",
    "from keras.layers.convolutional import Conv2D, MaxPooling2D\n",
    "```"
   ]
  },
  {
   "cell_type": "code",
   "execution_count": null,
   "metadata": {
    "id": "JLL64i0Ditf3"
   },
   "outputs": [],
   "source": [
    "from keras.models import Sequential\n",
    "from keras.layers import Dense, Flatten\n",
    "from keras.layers.convolutional import Conv2D, MaxPooling2D\n",
    "\n",
    "#Conv2D - jeździ po obrazku (uczy się); filtry; robi sobie mapy aktywacji\n",
    "#MaxPooling2D - ściska obrazek (nie uczy się)\n",
    "#Flatten - z wielu obrazków robi jeden długi wektor (nie uczy się)\n",
    "#Dense - warstwa perceptronów\n",
    "#na końcu też będzie warstwa Dense"
   ]
  },
  {
   "cell_type": "markdown",
   "metadata": {
    "id": "b2rmxjLDVvoZ"
   },
   "source": [
    "Build a network with such layers:\n",
    " * Input [Conv2D](https://keras.io/api/layers/convolution_layers/convolution2d/): 16  filters, kernel 3x3, padding 'same', activation [relu](https://cs-cheatsheet.readthedocs.io/en/latest/_images/activation_functions.png)\n",
    " * [MaxPooling2D](https://keras.io/api/layers/pooling_layers/max_pooling2d/): pool_size 2x2\n",
    " * Conv2D: 32 filtry, kernel 3x3, padding 'same', activation relu\n",
    " * MaxPooling2D: pool_size 2x2\n",
    " * [Flatten](https://keras.io/api/layers/reshaping_layers/flatten/) (we flatten the data into a 1-dimensional vector)\n",
    " * Output [Dense](https://keras.io/api/layers/core_layers/dense/), units as many as classes, [activation softmax](https://qph.fs.quoracdn.net/main-qimg-fda2f008df90ed5d7b6aff89b881e1ac)\n",
    "\n",
    "The first layer will expect to provide shape of data (input_shape). So `width x height x channel_num`."
   ]
  },
  {
   "cell_type": "code",
   "execution_count": null,
   "metadata": {
    "id": "dbQRBxQRVu1e"
   },
   "outputs": [],
   "source": [
    "model = Sequential([\n",
    "    Conv2D(16, kernel_size=(3,3), activation='relu', padding='same', input_shape=input_shape),\n",
    "    MaxPooling2D(pool_size=(2,2)),\n",
    "    Conv2D(32, kernel_size=(3,3), activation='relu', padding='same'),\n",
    "    MaxPooling2D(pool_size=(2,2)),\n",
    "    Flatten(),\n",
    "    Dense(10,activation='softmax')\n",
    "])"
   ]
  },
  {
   "cell_type": "markdown",
   "metadata": {
    "id": "Wgy6vzB_smoT"
   },
   "source": [
    "Check how your network looks like. <br>\n",
    "`model.summary` method and `keras.utils.vis_utils.plot_model` function will be useful."
   ]
  },
  {
   "cell_type": "code",
   "execution_count": null,
   "metadata": {
    "colab": {
     "base_uri": "https://localhost:8080/"
    },
    "executionInfo": {
     "elapsed": 324,
     "status": "ok",
     "timestamp": 1654195586775,
     "user": {
      "displayName": "Grażyna Rozmysłowicz",
      "userId": "11356318807843777886"
     },
     "user_tz": -120
    },
    "id": "YMar0OmRtHfk",
    "outputId": "44389440-9e7a-4a9a-fff7-0731b17614ee"
   },
   "outputs": [
    {
     "name": "stdout",
     "output_type": "stream",
     "text": [
      "Model: \"sequential\"\n",
      "_________________________________________________________________\n",
      " Layer (type)                Output Shape              Param #   \n",
      "=================================================================\n",
      " conv2d (Conv2D)             (None, 28, 28, 16)        160       \n",
      "                                                                 \n",
      " max_pooling2d (MaxPooling2D  (None, 14, 14, 16)       0         \n",
      " )                                                               \n",
      "                                                                 \n",
      " conv2d_1 (Conv2D)           (None, 14, 14, 32)        4640      \n",
      "                                                                 \n",
      " max_pooling2d_1 (MaxPooling  (None, 7, 7, 32)         0         \n",
      " 2D)                                                             \n",
      "                                                                 \n",
      " flatten (Flatten)           (None, 1568)              0         \n",
      "                                                                 \n",
      " dense (Dense)               (None, 10)                15690     \n",
      "                                                                 \n",
      "=================================================================\n",
      "Total params: 20,490\n",
      "Trainable params: 20,490\n",
      "Non-trainable params: 0\n",
      "_________________________________________________________________\n"
     ]
    }
   ],
   "source": [
    "model.summary()"
   ]
  },
  {
   "cell_type": "code",
   "execution_count": null,
   "metadata": {
    "colab": {
     "base_uri": "https://localhost:8080/",
     "height": 754
    },
    "executionInfo": {
     "elapsed": 705,
     "status": "ok",
     "timestamp": 1654195590778,
     "user": {
      "displayName": "Grażyna Rozmysłowicz",
      "userId": "11356318807843777886"
     },
     "user_tz": -120
    },
    "id": "LX3DgVRjT9Z2",
    "outputId": "a4bca230-6c93-4b12-fbe2-a6989be9d7d0"
   },
   "outputs": [
    {
     "data": {
      "image/png": "[encoded data removed]",
      "text/plain": [
       "<IPython.core.display.Image object>"
      ]
     },
     "execution_count": 17,
     "metadata": {},
     "output_type": "execute_result"
    }
   ],
   "source": [
    "from keras.utils.vis_utils import plot_model\n",
    "\n",
    "plot_model(model, to_file='model.png', show_shapes=True)"
   ]
  },
  {
   "cell_type": "markdown",
   "metadata": {
    "id": "R8jgVpESuO2U"
   },
   "source": [
    "Try to **remove** `padding` argument and write down what has changed. **Restore** `padding`."
   ]
  },
  {
   "cell_type": "code",
   "execution_count": null,
   "metadata": {
    "id": "KeQ902DUT9Z2"
   },
   "outputs": [],
   "source": [
    "model1 = Sequential([\n",
    "    Conv2D(16, kernel_size=(3,3), activation='relu', input_shape=input_shape),\n",
    "    MaxPooling2D(pool_size=(2,2)),\n",
    "    Conv2D(32, kernel_size=(3,3), activation='relu'),\n",
    "    MaxPooling2D(pool_size=(2,2)),\n",
    "    Flatten(),\n",
    "    Dense(10,activation='softmax')\n",
    "])"
   ]
  },
  {
   "cell_type": "code",
   "execution_count": null,
   "metadata": {
    "colab": {
     "base_uri": "https://localhost:8080/"
    },
    "executionInfo": {
     "elapsed": 324,
     "status": "ok",
     "timestamp": 1654195607240,
     "user": {
      "displayName": "Grażyna Rozmysłowicz",
      "userId": "11356318807843777886"
     },
     "user_tz": -120
    },
    "id": "jVD8G5u1T9Z2",
    "outputId": "b60e712e-9eff-49d5-f018-95601c868c7f"
   },
   "outputs": [
    {
     "name": "stdout",
     "output_type": "stream",
     "text": [
      "Model: \"sequential_1\"\n",
      "_________________________________________________________________\n",
      " Layer (type)                Output Shape              Param #   \n",
      "=================================================================\n",
      " conv2d_2 (Conv2D)           (None, 26, 26, 16)        160       \n",
      "                                                                 \n",
      " max_pooling2d_2 (MaxPooling  (None, 13, 13, 16)       0         \n",
      " 2D)                                                             \n",
      "                                                                 \n",
      " conv2d_3 (Conv2D)           (None, 11, 11, 32)        4640      \n",
      "                                                                 \n",
      " max_pooling2d_3 (MaxPooling  (None, 5, 5, 32)         0         \n",
      " 2D)                                                             \n",
      "                                                                 \n",
      " flatten_1 (Flatten)         (None, 800)               0         \n",
      "                                                                 \n",
      " dense_1 (Dense)             (None, 10)                8010      \n",
      "                                                                 \n",
      "=================================================================\n",
      "Total params: 12,810\n",
      "Trainable params: 12,810\n",
      "Non-trainable params: 0\n",
      "_________________________________________________________________\n"
     ]
    }
   ],
   "source": [
    "model1.summary()"
   ]
  },
  {
   "cell_type": "markdown",
   "metadata": {
    "id": "Y0vyKqTWT9Z3"
   },
   "source": [
    "**padding**: one of \"valid\" or \"same\" (case-insensitive). `\"valid\"` means no padding. `\"same\"` results in padding with zeros evenly to the left/right or up/down of the input. When padding=\"same\" and strides=1, the output has the same size as the input <br>\n",
    "<br>\n",
    "source: https://keras.io/api/layers/convolution_layers/convolution2d/"
   ]
  },
  {
   "cell_type": "markdown",
   "metadata": {
    "id": "yoiW4UUeT9Z8"
   },
   "source": [
    "What changed when `padding = 'same'` was removed? <br>\n",
    "Output of `Conv2D` (2D Convolution Layer) changed dimensions, more precisely height and width of output matrix (left, right, bottom and top rows)."
   ]
  },
  {
   "cell_type": "markdown",
   "metadata": {
    "id": "WQtBGHl-FYKj"
   },
   "source": [
    "Answer the following questions:\n",
    "* Does `Conv2D` layer learn during training? <br> Yes\n",
    "* Does `MaxPooling2D` layer learn during training? <br> No\n",
    "* Why do we put a `Flatten` layer in front of `Dense` layer(s)? <br>\n",
    "`Flatten` layer gets to process images in the form of a matrix of certain height, width and very large depth, from which it makes one long 1-D vector. This is important because we want to pass this information later to a neural network (to `Dense` layer) which can only get input in 1-dimention.\n",
    "* How many channels / activation maps will we have after passing the image through the first `Conv2D` layer of our network? <br>\n",
    "The first `Conv2D` layer contains 16 filters, so we will have 16 activation maps.\n"
   ]
  },
  {
   "cell_type": "markdown",
   "metadata": {
    "id": "m4w8gGsElbVG"
   },
   "source": [
    "Now run `compile` method: `loss = 'categorical_crossentropy'`, `optimizer = 'adam'`. `metrics` argument  takes an array of strings, we can e.g. track `'accuracy'` there."
   ]
  },
  {
   "cell_type": "code",
   "execution_count": null,
   "metadata": {
    "id": "3ki1a29Zl65r"
   },
   "outputs": [],
   "source": [
    "model.compile(\n",
    "    loss='categorical_crossentropy',\n",
    "    optimizer='adam',\n",
    "    metrics=['accuracy']\n",
    ")"
   ]
  },
  {
   "cell_type": "markdown",
   "metadata": {
    "id": "7DEM-xKbmFNO"
   },
   "source": [
    "##### **Training**\n",
    "Train the network. 100 `epochs`, `batch_size` 256."
   ]
  },
  {
   "cell_type": "code",
   "execution_count": null,
   "metadata": {
    "colab": {
     "base_uri": "https://localhost:8080/"
    },
    "executionInfo": {
     "elapsed": 143059,
     "status": "ok",
     "timestamp": 1654195782497,
     "user": {
      "displayName": "Grażyna Rozmysłowicz",
      "userId": "11356318807843777886"
     },
     "user_tz": -120
    },
    "id": "m1DvkEW2JOA5",
    "outputId": "2d24ba96-b780-46a2-83ea-e9da576a3e66"
   },
   "outputs": [
    {
     "name": "stdout",
     "output_type": "stream",
     "text": [
      "Epoch 1/100\n",
      "235/235 [==============================] - 12s 6ms/step - loss: 0.4836 - accuracy: 0.8778\n",
      "Epoch 2/100\n",
      "235/235 [==============================] - 1s 5ms/step - loss: 0.1202 - accuracy: 0.9645\n",
      "Epoch 3/100\n",
      "235/235 [==============================] - 1s 5ms/step - loss: 0.0843 - accuracy: 0.9746\n",
      "Epoch 4/100\n",
      "235/235 [==============================] - 1s 5ms/step - loss: 0.0679 - accuracy: 0.9794\n",
      "Epoch 5/100\n",
      "235/235 [==============================] - 1s 5ms/step - loss: 0.0584 - accuracy: 0.9819\n",
      "Epoch 6/100\n",
      "235/235 [==============================] - 1s 5ms/step - loss: 0.0517 - accuracy: 0.9848\n",
      "Epoch 7/100\n",
      "235/235 [==============================] - 1s 5ms/step - loss: 0.0462 - accuracy: 0.9858\n",
      "Epoch 8/100\n",
      "235/235 [==============================] - 1s 5ms/step - loss: 0.0423 - accuracy: 0.9872\n",
      "Epoch 9/100\n",
      "235/235 [==============================] - 1s 5ms/step - loss: 0.0391 - accuracy: 0.9881\n",
      "Epoch 10/100\n",
      "235/235 [==============================] - 1s 5ms/step - loss: 0.0361 - accuracy: 0.9887\n",
      "Epoch 11/100\n",
      "235/235 [==============================] - 1s 5ms/step - loss: 0.0335 - accuracy: 0.9901\n",
      "Epoch 12/100\n",
      "235/235 [==============================] - 1s 5ms/step - loss: 0.0317 - accuracy: 0.9904\n",
      "Epoch 13/100\n",
      "235/235 [==============================] - 1s 5ms/step - loss: 0.0280 - accuracy: 0.9916\n",
      "Epoch 14/100\n",
      "235/235 [==============================] - 1s 5ms/step - loss: 0.0263 - accuracy: 0.9921\n",
      "Epoch 15/100\n",
      "235/235 [==============================] - 1s 5ms/step - loss: 0.0252 - accuracy: 0.9921\n",
      "Epoch 16/100\n",
      "235/235 [==============================] - 1s 5ms/step - loss: 0.0238 - accuracy: 0.9925\n",
      "Epoch 17/100\n",
      "235/235 [==============================] - 1s 5ms/step - loss: 0.0214 - accuracy: 0.9932\n",
      "Epoch 18/100\n",
      "235/235 [==============================] - 1s 5ms/step - loss: 0.0204 - accuracy: 0.9937\n",
      "Epoch 19/100\n",
      "235/235 [==============================] - 1s 5ms/step - loss: 0.0186 - accuracy: 0.9941\n",
      "Epoch 20/100\n",
      "235/235 [==============================] - 1s 5ms/step - loss: 0.0189 - accuracy: 0.9941\n",
      "Epoch 21/100\n",
      "235/235 [==============================] - 1s 5ms/step - loss: 0.0172 - accuracy: 0.9945\n",
      "Epoch 22/100\n",
      "235/235 [==============================] - 1s 5ms/step - loss: 0.0158 - accuracy: 0.9952\n",
      "Epoch 23/100\n",
      "235/235 [==============================] - 1s 5ms/step - loss: 0.0139 - accuracy: 0.9960\n",
      "Epoch 24/100\n",
      "235/235 [==============================] - 1s 5ms/step - loss: 0.0128 - accuracy: 0.9962\n",
      "Epoch 25/100\n",
      "235/235 [==============================] - 1s 5ms/step - loss: 0.0131 - accuracy: 0.9959\n",
      "Epoch 26/100\n",
      "235/235 [==============================] - 1s 5ms/step - loss: 0.0118 - accuracy: 0.9963\n",
      "Epoch 27/100\n",
      "235/235 [==============================] - 1s 6ms/step - loss: 0.0108 - accuracy: 0.9969\n",
      "Epoch 28/100\n",
      "235/235 [==============================] - 1s 5ms/step - loss: 0.0109 - accuracy: 0.9966\n",
      "Epoch 29/100\n",
      "235/235 [==============================] - 1s 5ms/step - loss: 0.0093 - accuracy: 0.9975\n",
      "Epoch 30/100\n",
      "235/235 [==============================] - 1s 5ms/step - loss: 0.0096 - accuracy: 0.9971\n",
      "Epoch 31/100\n",
      "235/235 [==============================] - 1s 5ms/step - loss: 0.0094 - accuracy: 0.9973\n",
      "Epoch 32/100\n",
      "235/235 [==============================] - 1s 5ms/step - loss: 0.0079 - accuracy: 0.9977\n",
      "Epoch 33/100\n",
      "235/235 [==============================] - 1s 5ms/step - loss: 0.0071 - accuracy: 0.9980\n",
      "Epoch 34/100\n",
      "235/235 [==============================] - 1s 5ms/step - loss: 0.0080 - accuracy: 0.9974\n",
      "Epoch 35/100\n",
      "235/235 [==============================] - 1s 5ms/step - loss: 0.0054 - accuracy: 0.9987\n",
      "Epoch 36/100\n",
      "235/235 [==============================] - 1s 5ms/step - loss: 0.0051 - accuracy: 0.9987\n",
      "Epoch 37/100\n",
      "235/235 [==============================] - 1s 5ms/step - loss: 0.0085 - accuracy: 0.9970\n",
      "Epoch 38/100\n",
      "235/235 [==============================] - 1s 5ms/step - loss: 0.0049 - accuracy: 0.9987\n",
      "Epoch 39/100\n",
      "235/235 [==============================] - 1s 5ms/step - loss: 0.0045 - accuracy: 0.9988\n",
      "Epoch 40/100\n",
      "235/235 [==============================] - 1s 5ms/step - loss: 0.0042 - accuracy: 0.9987\n",
      "Epoch 41/100\n",
      "235/235 [==============================] - 1s 5ms/step - loss: 0.0036 - accuracy: 0.9992\n",
      "Epoch 42/100\n",
      "235/235 [==============================] - 1s 5ms/step - loss: 0.0049 - accuracy: 0.9986\n",
      "Epoch 43/100\n",
      "235/235 [==============================] - 1s 5ms/step - loss: 0.0042 - accuracy: 0.9987\n",
      "Epoch 44/100\n",
      "235/235 [==============================] - 1s 5ms/step - loss: 0.0036 - accuracy: 0.9991\n",
      "Epoch 45/100\n",
      "235/235 [==============================] - 1s 5ms/step - loss: 0.0029 - accuracy: 0.9992\n",
      "Epoch 46/100\n",
      "235/235 [==============================] - 1s 5ms/step - loss: 0.0026 - accuracy: 0.9993\n",
      "Epoch 47/100\n",
      "235/235 [==============================] - 1s 5ms/step - loss: 0.0028 - accuracy: 0.9992\n",
      "Epoch 48/100\n",
      "235/235 [==============================] - 1s 5ms/step - loss: 0.0061 - accuracy: 0.9979\n",
      "Epoch 49/100\n",
      "235/235 [==============================] - 1s 5ms/step - loss: 0.0039 - accuracy: 0.9985\n",
      "Epoch 50/100\n",
      "235/235 [==============================] - 1s 5ms/step - loss: 0.0027 - accuracy: 0.9991\n",
      "Epoch 51/100\n",
      "235/235 [==============================] - 1s 5ms/step - loss: 0.0019 - accuracy: 0.9995\n",
      "Epoch 52/100\n",
      "235/235 [==============================] - 1s 5ms/step - loss: 0.0010 - accuracy: 0.9998\n",
      "Epoch 53/100\n",
      "235/235 [==============================] - 1s 5ms/step - loss: 7.9721e-04 - accuracy: 0.9999\n",
      "Epoch 54/100\n",
      "235/235 [==============================] - 1s 5ms/step - loss: 5.4621e-04 - accuracy: 1.0000\n",
      "Epoch 55/100\n",
      "235/235 [==============================] - 1s 5ms/step - loss: 5.3482e-04 - accuracy: 0.9999\n",
      "Epoch 56/100\n",
      "235/235 [==============================] - 1s 5ms/step - loss: 0.0064 - accuracy: 0.9980\n",
      "Epoch 57/100\n",
      "235/235 [==============================] - 1s 5ms/step - loss: 0.0107 - accuracy: 0.9964\n",
      "Epoch 58/100\n",
      "235/235 [==============================] - 1s 5ms/step - loss: 0.0021 - accuracy: 0.9993\n",
      "Epoch 59/100\n",
      "235/235 [==============================] - 1s 5ms/step - loss: 7.7003e-04 - accuracy: 0.9999\n",
      "Epoch 60/100\n",
      "235/235 [==============================] - 1s 5ms/step - loss: 5.5033e-04 - accuracy: 1.0000\n",
      "Epoch 61/100\n",
      "235/235 [==============================] - 1s 5ms/step - loss: 3.3276e-04 - accuracy: 1.0000\n",
      "Epoch 62/100\n",
      "235/235 [==============================] - 1s 5ms/step - loss: 2.3903e-04 - accuracy: 1.0000\n",
      "Epoch 63/100\n",
      "235/235 [==============================] - 1s 5ms/step - loss: 2.2804e-04 - accuracy: 1.0000\n",
      "Epoch 64/100\n",
      "235/235 [==============================] - 1s 5ms/step - loss: 1.9022e-04 - accuracy: 1.0000\n",
      "Epoch 65/100\n",
      "235/235 [==============================] - 1s 5ms/step - loss: 1.7388e-04 - accuracy: 1.0000\n",
      "Epoch 66/100\n",
      "235/235 [==============================] - 1s 5ms/step - loss: 2.2275e-04 - accuracy: 1.0000\n",
      "Epoch 67/100\n",
      "235/235 [==============================] - 1s 5ms/step - loss: 1.4254e-04 - accuracy: 1.0000\n",
      "Epoch 68/100\n",
      "235/235 [==============================] - 1s 5ms/step - loss: 1.2375e-04 - accuracy: 1.0000\n",
      "Epoch 69/100\n",
      "235/235 [==============================] - 1s 5ms/step - loss: 1.5803e-04 - accuracy: 1.0000\n",
      "Epoch 70/100\n",
      "235/235 [==============================] - 1s 5ms/step - loss: 0.0160 - accuracy: 0.9951\n",
      "Epoch 71/100\n",
      "235/235 [==============================] - 1s 5ms/step - loss: 0.0043 - accuracy: 0.9984\n",
      "Epoch 72/100\n",
      "235/235 [==============================] - 1s 5ms/step - loss: 0.0021 - accuracy: 0.9993\n",
      "Epoch 73/100\n",
      "235/235 [==============================] - 1s 5ms/step - loss: 8.0419e-04 - accuracy: 0.9999\n",
      "Epoch 74/100\n",
      "235/235 [==============================] - 1s 5ms/step - loss: 5.1891e-04 - accuracy: 0.9999\n",
      "Epoch 75/100\n",
      "235/235 [==============================] - 1s 5ms/step - loss: 2.0458e-04 - accuracy: 1.0000\n",
      "Epoch 76/100\n",
      "235/235 [==============================] - 1s 5ms/step - loss: 1.5656e-04 - accuracy: 1.0000\n",
      "Epoch 77/100\n",
      "235/235 [==============================] - 1s 5ms/step - loss: 1.3356e-04 - accuracy: 1.0000\n",
      "Epoch 78/100\n",
      "235/235 [==============================] - 1s 5ms/step - loss: 1.1745e-04 - accuracy: 1.0000\n",
      "Epoch 79/100\n",
      "235/235 [==============================] - 1s 5ms/step - loss: 1.0516e-04 - accuracy: 1.0000\n",
      "Epoch 80/100\n",
      "235/235 [==============================] - 1s 5ms/step - loss: 9.7095e-05 - accuracy: 1.0000\n",
      "Epoch 81/100\n",
      "235/235 [==============================] - 1s 5ms/step - loss: 8.7195e-05 - accuracy: 1.0000\n",
      "Epoch 82/100\n",
      "235/235 [==============================] - 1s 5ms/step - loss: 8.5795e-05 - accuracy: 1.0000\n",
      "Epoch 83/100\n",
      "235/235 [==============================] - 1s 5ms/step - loss: 7.2541e-05 - accuracy: 1.0000\n",
      "Epoch 84/100\n",
      "235/235 [==============================] - 1s 5ms/step - loss: 6.6318e-05 - accuracy: 1.0000\n",
      "Epoch 85/100\n",
      "235/235 [==============================] - 1s 5ms/step - loss: 6.1985e-05 - accuracy: 1.0000\n",
      "Epoch 86/100\n",
      "235/235 [==============================] - 1s 5ms/step - loss: 5.8894e-05 - accuracy: 1.0000\n",
      "Epoch 87/100\n",
      "235/235 [==============================] - 1s 5ms/step - loss: 5.5157e-05 - accuracy: 1.0000\n",
      "Epoch 88/100\n",
      "235/235 [==============================] - 1s 5ms/step - loss: 4.8321e-05 - accuracy: 1.0000\n",
      "Epoch 89/100\n",
      "235/235 [==============================] - 1s 5ms/step - loss: 2.5807e-04 - accuracy: 0.9999\n",
      "Epoch 90/100\n",
      "235/235 [==============================] - 1s 5ms/step - loss: 0.0201 - accuracy: 0.9944\n",
      "Epoch 91/100\n",
      "235/235 [==============================] - 1s 5ms/step - loss: 0.0050 - accuracy: 0.9982\n",
      "Epoch 92/100\n",
      "235/235 [==============================] - 1s 5ms/step - loss: 0.0013 - accuracy: 0.9996\n",
      "Epoch 93/100\n",
      "235/235 [==============================] - 1s 5ms/step - loss: 4.2865e-04 - accuracy: 1.0000\n",
      "Epoch 94/100\n",
      "235/235 [==============================] - 1s 5ms/step - loss: 2.1482e-04 - accuracy: 1.0000\n",
      "Epoch 95/100\n",
      "235/235 [==============================] - 1s 5ms/step - loss: 1.4810e-04 - accuracy: 1.0000\n",
      "Epoch 96/100\n",
      "235/235 [==============================] - 1s 5ms/step - loss: 1.2317e-04 - accuracy: 1.0000\n",
      "Epoch 97/100\n",
      "235/235 [==============================] - 1s 5ms/step - loss: 1.0971e-04 - accuracy: 1.0000\n",
      "Epoch 98/100\n",
      "235/235 [==============================] - 1s 5ms/step - loss: 1.0028e-04 - accuracy: 1.0000\n",
      "Epoch 99/100\n",
      "235/235 [==============================] - 1s 5ms/step - loss: 8.8775e-05 - accuracy: 1.0000\n",
      "Epoch 100/100\n",
      "235/235 [==============================] - 1s 5ms/step - loss: 7.4175e-05 - accuracy: 1.0000\n"
     ]
    },
    {
     "data": {
      "text/plain": [
       "<keras.callbacks.History at 0x7f76d016a9d0>"
      ]
     },
     "execution_count": 21,
     "metadata": {},
     "output_type": "execute_result"
    }
   ],
   "source": [
    "model.fit(X_train, Y_train, epochs=100, batch_size=256)"
   ]
  },
  {
   "cell_type": "markdown",
   "metadata": {
    "id": "fgxalzmim4Hl"
   },
   "source": [
    "##### **Evaluation**\n",
    "* Make an evaluation of our model on training and test set (`evaluate` method).\n",
    "* Enter results for both sets.\n",
    "* Do the results differ? Why?"
   ]
  },
  {
   "cell_type": "code",
   "execution_count": null,
   "metadata": {
    "colab": {
     "base_uri": "https://localhost:8080/"
    },
    "executionInfo": {
     "elapsed": 1343,
     "status": "ok",
     "timestamp": 1654196087738,
     "user": {
      "displayName": "Grażyna Rozmysłowicz",
      "userId": "11356318807843777886"
     },
     "user_tz": -120
    },
    "id": "HDCHLqc4m4qX",
    "outputId": "36618bc2-d1eb-4705-9cbf-329703bc8ea9"
   },
   "outputs": [
    {
     "name": "stdout",
     "output_type": "stream",
     "text": [
      "313/313 [==============================] - 1s 3ms/step - loss: 0.0679 - accuracy: 0.9890\n"
     ]
    },
    {
     "data": {
      "text/plain": [
       "[0.06787275522947311, 0.9890000224113464]"
      ]
     },
     "execution_count": 22,
     "metadata": {},
     "output_type": "execute_result"
    }
   ],
   "source": [
    "model.evaluate(X_test, Y_test)"
   ]
  },
  {
   "cell_type": "code",
   "execution_count": null,
   "metadata": {
    "colab": {
     "base_uri": "https://localhost:8080/"
    },
    "executionInfo": {
     "elapsed": 5567,
     "status": "ok",
     "timestamp": 1654196098203,
     "user": {
      "displayName": "Grażyna Rozmysłowicz",
      "userId": "11356318807843777886"
     },
     "user_tz": -120
    },
    "id": "7w4bKauZT9Z-",
    "outputId": "a4b9bb73-4497-474d-812e-7435f8993aa5"
   },
   "outputs": [
    {
     "name": "stdout",
     "output_type": "stream",
     "text": [
      "1875/1875 [==============================] - 5s 3ms/step - loss: 6.7388e-05 - accuracy: 1.0000\n"
     ]
    },
    {
     "data": {
      "text/plain": [
       "[6.738795491401106e-05, 1.0]"
      ]
     },
     "execution_count": 23,
     "metadata": {},
     "output_type": "execute_result"
    }
   ],
   "source": [
    "model.evaluate(X_train,Y_train)"
   ]
  },
  {
   "cell_type": "markdown",
   "metadata": {
    "id": "miZfNTbqT9Z-"
   },
   "source": [
    "Training set is a set on which we taught our model, so evaluation on  training set will always be better compared to evaluation on test set, i.e. on data which model has not seen before."
   ]
  },
  {
   "cell_type": "markdown",
   "metadata": {
    "id": "KpYN73AvzHP-"
   },
   "source": [
    "### 2. FASHION MNIST\n",
    "Now we will repeat experiment with a different, but very similar dataset. "
   ]
  },
  {
   "cell_type": "markdown",
   "metadata": {
    "id": "ARZBHpQzzScV"
   },
   "source": [
    "#### 2.1. Data loading and preparation\n",
    "Load `fashion_mnist` set in the same way as `mnist`. Prepare training/test data and labels similar to `mnist`. Display the first 12 training instances. Prepare data and labels for training (same as in `mnist`)."
   ]
  },
  {
   "cell_type": "code",
   "execution_count": 11,
   "metadata": {
    "colab": {
     "base_uri": "https://localhost:8080/"
    },
    "executionInfo": {
     "elapsed": 892,
     "status": "ok",
     "timestamp": 1662723455063,
     "user": {
      "displayName": "Grażyna Rozmysłowicz",
      "userId": "11356318807843777886"
     },
     "user_tz": -120
    },
    "id": "rGXwp8ISzXUX",
    "outputId": "2448ec1c-a7a0-4c7c-a8bf-f4d36cbdc473"
   },
   "outputs": [
    {
     "name": "stdout",
     "output_type": "stream",
     "text": [
      "Downloading data from https://storage.googleapis.com/tensorflow/tf-keras-datasets/train-labels-idx1-ubyte.gz\n",
      "32768/29515 [=================================] - 0s 0us/step\n",
      "40960/29515 [=========================================] - 0s 0us/step\n",
      "Downloading data from https://storage.googleapis.com/tensorflow/tf-keras-datasets/train-images-idx3-ubyte.gz\n",
      "26427392/26421880 [==============================] - 0s 0us/step\n",
      "26435584/26421880 [==============================] - 0s 0us/step\n",
      "Downloading data from https://storage.googleapis.com/tensorflow/tf-keras-datasets/t10k-labels-idx1-ubyte.gz\n",
      "16384/5148 [===============================================================================================] - 0s 0us/step\n",
      "Downloading data from https://storage.googleapis.com/tensorflow/tf-keras-datasets/t10k-images-idx3-ubyte.gz\n",
      "4423680/4422102 [==============================] - 0s 0us/step\n",
      "4431872/4422102 [==============================] - 0s 0us/step\n"
     ]
    }
   ],
   "source": [
    "from keras.datasets import fashion_mnist as dataset\n",
    "import numpy as np\n",
    "\n",
    "(X_train, y_train), (X_test, y_test) = dataset.load_data()"
   ]
  },
  {
   "cell_type": "code",
   "execution_count": 12,
   "metadata": {
    "colab": {
     "base_uri": "https://localhost:8080/",
     "height": 337
    },
    "executionInfo": {
     "elapsed": 1947,
     "status": "ok",
     "timestamp": 1662723462133,
     "user": {
      "displayName": "Grażyna Rozmysłowicz",
      "userId": "11356318807843777886"
     },
     "user_tz": -120
    },
    "id": "dvck7YSXpUbk",
    "outputId": "eb988968-2b73-4e61-9c14-642e2c606a43"
   },
   "outputs": [
    {
     "data": {
      "image/png": "[encoded data removed]",
      "text/plain": [
       "<Figure size 432x288 with 12 Axes>"
      ]
     },
     "metadata": {
      "needs_background": "light"
     },
     "output_type": "display_data"
    },
    {
     "name": "stdout",
     "output_type": "stream",
     "text": [
      "Labels of the above images:\n",
      "[9 0 0 3]\n",
      "[0 2 7 2]\n",
      "[5 5 0 9]\n"
     ]
    }
   ],
   "source": [
    "import matplotlib.pyplot as plt\n",
    "\n",
    "for i in range(12):\n",
    "    plt.subplot(3,4,i+1)\n",
    "    plt.imshow(X_train[i], cmap='viridis')\n",
    "\n",
    "plt.show()\n",
    "\n",
    "print('Labels of the above images:')\n",
    "for i in range(0,12,4):\n",
    "    print(y_train[i:i+4])"
   ]
  },
  {
   "cell_type": "code",
   "execution_count": null,
   "metadata": {
    "id": "PRCzkluipzN9"
   },
   "outputs": [],
   "source": [
    "X_train, X_test = (X_train / 255).astype('float32'), (X_test / 255).astype('float32')\n",
    "\n",
    "Y_train, Y_test = to_categorical(y_train), to_categorical(y_test)"
   ]
  },
  {
   "cell_type": "markdown",
   "metadata": {
    "id": "iLeo5SeS9IcG"
   },
   "source": [
    "#### 2.2. Network preparation and training\n",
    "Create the same network as in `mnist` and do the training."
   ]
  },
  {
   "cell_type": "code",
   "execution_count": null,
   "metadata": {
    "id": "NiaOEpty8cmq"
   },
   "outputs": [],
   "source": [
    "model = Sequential([\n",
    "    Conv2D(16, kernel_size=(3,3), activation='relu', padding='same', input_shape=input_shape),\n",
    "    MaxPooling2D(pool_size=(2,2)),\n",
    "    Conv2D(32, kernel_size=(3,3), activation='relu', padding='same'),\n",
    "    MaxPooling2D(pool_size=(2,2)),\n",
    "    Flatten(),\n",
    "    Dense(10,activation='softmax')\n",
    "])"
   ]
  },
  {
   "cell_type": "code",
   "execution_count": null,
   "metadata": {
    "colab": {
     "base_uri": "https://localhost:8080/"
    },
    "executionInfo": {
     "elapsed": 335,
     "status": "ok",
     "timestamp": 1654196124516,
     "user": {
      "displayName": "Grażyna Rozmysłowicz",
      "userId": "11356318807843777886"
     },
     "user_tz": -120
    },
    "id": "DPzdzl4hT9aC",
    "outputId": "f456a2ae-171b-4695-e5e4-c09a4548d032"
   },
   "outputs": [
    {
     "name": "stdout",
     "output_type": "stream",
     "text": [
      "Model: \"sequential_2\"\n",
      "_________________________________________________________________\n",
      " Layer (type)                Output Shape              Param #   \n",
      "=================================================================\n",
      " conv2d_4 (Conv2D)           (None, 28, 28, 16)        160       \n",
      "                                                                 \n",
      " max_pooling2d_4 (MaxPooling  (None, 14, 14, 16)       0         \n",
      " 2D)                                                             \n",
      "                                                                 \n",
      " conv2d_5 (Conv2D)           (None, 14, 14, 32)        4640      \n",
      "                                                                 \n",
      " max_pooling2d_5 (MaxPooling  (None, 7, 7, 32)         0         \n",
      " 2D)                                                             \n",
      "                                                                 \n",
      " flatten_2 (Flatten)         (None, 1568)              0         \n",
      "                                                                 \n",
      " dense_2 (Dense)             (None, 10)                15690     \n",
      "                                                                 \n",
      "=================================================================\n",
      "Total params: 20,490\n",
      "Trainable params: 20,490\n",
      "Non-trainable params: 0\n",
      "_________________________________________________________________\n"
     ]
    }
   ],
   "source": [
    "model.summary()"
   ]
  },
  {
   "cell_type": "code",
   "execution_count": null,
   "metadata": {
    "colab": {
     "base_uri": "https://localhost:8080/",
     "height": 754
    },
    "executionInfo": {
     "elapsed": 529,
     "status": "ok",
     "timestamp": 1654196127273,
     "user": {
      "displayName": "Grażyna Rozmysłowicz",
      "userId": "11356318807843777886"
     },
     "user_tz": -120
    },
    "id": "igYpSythT9aC",
    "outputId": "e5dee355-de61-40ea-f4eb-b6abb376c06a"
   },
   "outputs": [
    {
     "data": {
      "image/png": "[encoded data removed]",
      "text/plain": [
       "<IPython.core.display.Image object>"
      ]
     },
     "execution_count": 29,
     "metadata": {},
     "output_type": "execute_result"
    }
   ],
   "source": [
    "plot_model(model, to_file='model.png', show_shapes=True)"
   ]
  },
  {
   "cell_type": "code",
   "execution_count": null,
   "metadata": {
    "id": "r3hGZe7KT9aC"
   },
   "outputs": [],
   "source": [
    "model.compile(\n",
    "    loss='categorical_crossentropy',\n",
    "    optimizer='adam',\n",
    "    metrics=['accuracy']\n",
    ")"
   ]
  },
  {
   "cell_type": "code",
   "execution_count": null,
   "metadata": {
    "colab": {
     "base_uri": "https://localhost:8080/"
    },
    "executionInfo": {
     "elapsed": 121145,
     "status": "ok",
     "timestamp": 1654196254051,
     "user": {
      "displayName": "Grażyna Rozmysłowicz",
      "userId": "11356318807843777886"
     },
     "user_tz": -120
    },
    "id": "hM3Ufdt3T9aC",
    "outputId": "5ac498a5-0d45-4061-ab7a-b48183bef53c"
   },
   "outputs": [
    {
     "name": "stdout",
     "output_type": "stream",
     "text": [
      "Epoch 1/100\n",
      "235/235 [==============================] - 2s 5ms/step - loss: 0.7125 - accuracy: 0.7573\n",
      "Epoch 2/100\n",
      "235/235 [==============================] - 1s 5ms/step - loss: 0.4202 - accuracy: 0.8517\n",
      "Epoch 3/100\n",
      "235/235 [==============================] - 1s 5ms/step - loss: 0.3674 - accuracy: 0.8702\n",
      "Epoch 4/100\n",
      "235/235 [==============================] - 1s 5ms/step - loss: 0.3406 - accuracy: 0.8803\n",
      "Epoch 5/100\n",
      "235/235 [==============================] - 1s 5ms/step - loss: 0.3202 - accuracy: 0.8863\n",
      "Epoch 6/100\n",
      "235/235 [==============================] - 1s 5ms/step - loss: 0.3048 - accuracy: 0.8929\n",
      "Epoch 7/100\n",
      "235/235 [==============================] - 1s 5ms/step - loss: 0.2940 - accuracy: 0.8966\n",
      "Epoch 8/100\n",
      "235/235 [==============================] - 1s 5ms/step - loss: 0.2834 - accuracy: 0.9002\n",
      "Epoch 9/100\n",
      "235/235 [==============================] - 1s 5ms/step - loss: 0.2763 - accuracy: 0.9023\n",
      "Epoch 10/100\n",
      "235/235 [==============================] - 1s 5ms/step - loss: 0.2671 - accuracy: 0.9049\n",
      "Epoch 11/100\n",
      "235/235 [==============================] - 1s 5ms/step - loss: 0.2635 - accuracy: 0.9057\n",
      "Epoch 12/100\n",
      "235/235 [==============================] - 1s 5ms/step - loss: 0.2568 - accuracy: 0.9090\n",
      "Epoch 13/100\n",
      "235/235 [==============================] - 1s 5ms/step - loss: 0.2514 - accuracy: 0.9102\n",
      "Epoch 14/100\n",
      "235/235 [==============================] - 1s 5ms/step - loss: 0.2441 - accuracy: 0.9133\n",
      "Epoch 15/100\n",
      "235/235 [==============================] - 1s 5ms/step - loss: 0.2399 - accuracy: 0.9144\n",
      "Epoch 16/100\n",
      "235/235 [==============================] - 1s 5ms/step - loss: 0.2390 - accuracy: 0.9144\n",
      "Epoch 17/100\n",
      "235/235 [==============================] - 1s 5ms/step - loss: 0.2308 - accuracy: 0.9173\n",
      "Epoch 18/100\n",
      "235/235 [==============================] - 1s 5ms/step - loss: 0.2250 - accuracy: 0.9199\n",
      "Epoch 19/100\n",
      "235/235 [==============================] - 1s 5ms/step - loss: 0.2210 - accuracy: 0.9205\n",
      "Epoch 20/100\n",
      "235/235 [==============================] - 1s 5ms/step - loss: 0.2184 - accuracy: 0.9217\n",
      "Epoch 21/100\n",
      "235/235 [==============================] - 1s 5ms/step - loss: 0.2138 - accuracy: 0.9237\n",
      "Epoch 22/100\n",
      "235/235 [==============================] - 1s 5ms/step - loss: 0.2097 - accuracy: 0.9244\n",
      "Epoch 23/100\n",
      "235/235 [==============================] - 1s 5ms/step - loss: 0.2109 - accuracy: 0.9240\n",
      "Epoch 24/100\n",
      "235/235 [==============================] - 1s 5ms/step - loss: 0.2045 - accuracy: 0.9263\n",
      "Epoch 25/100\n",
      "235/235 [==============================] - 1s 5ms/step - loss: 0.1997 - accuracy: 0.9277\n",
      "Epoch 26/100\n",
      "235/235 [==============================] - 1s 5ms/step - loss: 0.1988 - accuracy: 0.9275\n",
      "Epoch 27/100\n",
      "235/235 [==============================] - 1s 5ms/step - loss: 0.1931 - accuracy: 0.9298\n",
      "Epoch 28/100\n",
      "235/235 [==============================] - 1s 5ms/step - loss: 0.1886 - accuracy: 0.9318\n",
      "Epoch 29/100\n",
      "235/235 [==============================] - 1s 5ms/step - loss: 0.1886 - accuracy: 0.9322\n",
      "Epoch 30/100\n",
      "235/235 [==============================] - 1s 5ms/step - loss: 0.1853 - accuracy: 0.9334\n",
      "Epoch 31/100\n",
      "235/235 [==============================] - 1s 5ms/step - loss: 0.1832 - accuracy: 0.9340\n",
      "Epoch 32/100\n",
      "235/235 [==============================] - 1s 5ms/step - loss: 0.1787 - accuracy: 0.9350\n",
      "Epoch 33/100\n",
      "235/235 [==============================] - 1s 5ms/step - loss: 0.1757 - accuracy: 0.9367\n",
      "Epoch 34/100\n",
      "235/235 [==============================] - 1s 5ms/step - loss: 0.1751 - accuracy: 0.9369\n",
      "Epoch 35/100\n",
      "235/235 [==============================] - 1s 5ms/step - loss: 0.1712 - accuracy: 0.9379\n",
      "Epoch 36/100\n",
      "235/235 [==============================] - 1s 5ms/step - loss: 0.1699 - accuracy: 0.9382\n",
      "Epoch 37/100\n",
      "235/235 [==============================] - 1s 5ms/step - loss: 0.1680 - accuracy: 0.9389\n",
      "Epoch 38/100\n",
      "235/235 [==============================] - 1s 5ms/step - loss: 0.1656 - accuracy: 0.9400\n",
      "Epoch 39/100\n",
      "235/235 [==============================] - 1s 5ms/step - loss: 0.1615 - accuracy: 0.9423\n",
      "Epoch 40/100\n",
      "235/235 [==============================] - 1s 5ms/step - loss: 0.1601 - accuracy: 0.9416\n",
      "Epoch 41/100\n",
      "235/235 [==============================] - 1s 5ms/step - loss: 0.1583 - accuracy: 0.9428\n",
      "Epoch 42/100\n",
      "235/235 [==============================] - 1s 5ms/step - loss: 0.1589 - accuracy: 0.9421\n",
      "Epoch 43/100\n",
      "235/235 [==============================] - 1s 5ms/step - loss: 0.1553 - accuracy: 0.9437\n",
      "Epoch 44/100\n",
      "235/235 [==============================] - 1s 5ms/step - loss: 0.1522 - accuracy: 0.9448\n",
      "Epoch 45/100\n",
      "235/235 [==============================] - 1s 5ms/step - loss: 0.1502 - accuracy: 0.9460\n",
      "Epoch 46/100\n",
      "235/235 [==============================] - 1s 5ms/step - loss: 0.1486 - accuracy: 0.9460\n",
      "Epoch 47/100\n",
      "235/235 [==============================] - 1s 5ms/step - loss: 0.1473 - accuracy: 0.9465\n",
      "Epoch 48/100\n",
      "235/235 [==============================] - 1s 5ms/step - loss: 0.1440 - accuracy: 0.9481\n",
      "Epoch 49/100\n",
      "235/235 [==============================] - 1s 5ms/step - loss: 0.1436 - accuracy: 0.9485\n",
      "Epoch 50/100\n",
      "235/235 [==============================] - 1s 5ms/step - loss: 0.1419 - accuracy: 0.9487\n",
      "Epoch 51/100\n",
      "235/235 [==============================] - 1s 5ms/step - loss: 0.1414 - accuracy: 0.9496\n",
      "Epoch 52/100\n",
      "235/235 [==============================] - 1s 5ms/step - loss: 0.1380 - accuracy: 0.9499\n",
      "Epoch 53/100\n",
      "235/235 [==============================] - 1s 5ms/step - loss: 0.1369 - accuracy: 0.9508\n",
      "Epoch 54/100\n",
      "235/235 [==============================] - 1s 5ms/step - loss: 0.1364 - accuracy: 0.9513\n",
      "Epoch 55/100\n",
      "235/235 [==============================] - 1s 5ms/step - loss: 0.1359 - accuracy: 0.9513\n",
      "Epoch 56/100\n",
      "235/235 [==============================] - 1s 5ms/step - loss: 0.1330 - accuracy: 0.9509\n",
      "Epoch 57/100\n",
      "235/235 [==============================] - 1s 5ms/step - loss: 0.1314 - accuracy: 0.9517\n",
      "Epoch 58/100\n",
      "235/235 [==============================] - 1s 5ms/step - loss: 0.1297 - accuracy: 0.9529\n",
      "Epoch 59/100\n",
      "235/235 [==============================] - 1s 5ms/step - loss: 0.1297 - accuracy: 0.9529\n",
      "Epoch 60/100\n",
      "235/235 [==============================] - 1s 5ms/step - loss: 0.1288 - accuracy: 0.9528\n",
      "Epoch 61/100\n",
      "235/235 [==============================] - 1s 5ms/step - loss: 0.1273 - accuracy: 0.9542\n",
      "Epoch 62/100\n",
      "235/235 [==============================] - 1s 5ms/step - loss: 0.1258 - accuracy: 0.9549\n",
      "Epoch 63/100\n",
      "235/235 [==============================] - 1s 5ms/step - loss: 0.1258 - accuracy: 0.9545\n",
      "Epoch 64/100\n",
      "235/235 [==============================] - 1s 5ms/step - loss: 0.1240 - accuracy: 0.9549\n",
      "Epoch 65/100\n",
      "235/235 [==============================] - 1s 5ms/step - loss: 0.1211 - accuracy: 0.9564\n",
      "Epoch 66/100\n",
      "235/235 [==============================] - 1s 5ms/step - loss: 0.1223 - accuracy: 0.9554\n",
      "Epoch 67/100\n",
      "235/235 [==============================] - 1s 5ms/step - loss: 0.1186 - accuracy: 0.9574\n",
      "Epoch 68/100\n",
      "235/235 [==============================] - 1s 5ms/step - loss: 0.1203 - accuracy: 0.9570\n",
      "Epoch 69/100\n",
      "235/235 [==============================] - 1s 5ms/step - loss: 0.1179 - accuracy: 0.9574\n",
      "Epoch 70/100\n",
      "235/235 [==============================] - 1s 5ms/step - loss: 0.1177 - accuracy: 0.9574\n",
      "Epoch 71/100\n",
      "235/235 [==============================] - 1s 5ms/step - loss: 0.1171 - accuracy: 0.9587\n",
      "Epoch 72/100\n",
      "235/235 [==============================] - 1s 5ms/step - loss: 0.1152 - accuracy: 0.9578\n",
      "Epoch 73/100\n",
      "235/235 [==============================] - 1s 5ms/step - loss: 0.1136 - accuracy: 0.9593\n",
      "Epoch 74/100\n",
      "235/235 [==============================] - 1s 5ms/step - loss: 0.1152 - accuracy: 0.9579\n",
      "Epoch 75/100\n",
      "235/235 [==============================] - 1s 5ms/step - loss: 0.1106 - accuracy: 0.9605\n",
      "Epoch 76/100\n",
      "235/235 [==============================] - 1s 5ms/step - loss: 0.1099 - accuracy: 0.9597\n",
      "Epoch 77/100\n",
      "235/235 [==============================] - 1s 5ms/step - loss: 0.1121 - accuracy: 0.9589\n",
      "Epoch 78/100\n",
      "235/235 [==============================] - 1s 5ms/step - loss: 0.1076 - accuracy: 0.9610\n",
      "Epoch 79/100\n",
      "235/235 [==============================] - 1s 5ms/step - loss: 0.1089 - accuracy: 0.9600\n",
      "Epoch 80/100\n",
      "235/235 [==============================] - 1s 5ms/step - loss: 0.1099 - accuracy: 0.9603\n",
      "Epoch 81/100\n",
      "235/235 [==============================] - 1s 5ms/step - loss: 0.1053 - accuracy: 0.9628\n",
      "Epoch 82/100\n",
      "235/235 [==============================] - 1s 5ms/step - loss: 0.1068 - accuracy: 0.9613\n",
      "Epoch 83/100\n",
      "235/235 [==============================] - 1s 5ms/step - loss: 0.1034 - accuracy: 0.9633\n",
      "Epoch 84/100\n",
      "235/235 [==============================] - 1s 5ms/step - loss: 0.1034 - accuracy: 0.9630\n",
      "Epoch 85/100\n",
      "235/235 [==============================] - 1s 5ms/step - loss: 0.1017 - accuracy: 0.9636\n",
      "Epoch 86/100\n",
      "235/235 [==============================] - 1s 5ms/step - loss: 0.1030 - accuracy: 0.9630\n",
      "Epoch 87/100\n",
      "235/235 [==============================] - 1s 5ms/step - loss: 0.1012 - accuracy: 0.9639\n",
      "Epoch 88/100\n",
      "235/235 [==============================] - 1s 5ms/step - loss: 0.1012 - accuracy: 0.9629\n",
      "Epoch 89/100\n",
      "235/235 [==============================] - 1s 5ms/step - loss: 0.0985 - accuracy: 0.9647\n",
      "Epoch 90/100\n",
      "235/235 [==============================] - 1s 5ms/step - loss: 0.0996 - accuracy: 0.9636\n",
      "Epoch 91/100\n",
      "235/235 [==============================] - 1s 5ms/step - loss: 0.0977 - accuracy: 0.9647\n",
      "Epoch 92/100\n",
      "235/235 [==============================] - 1s 5ms/step - loss: 0.0977 - accuracy: 0.9644\n",
      "Epoch 93/100\n",
      "235/235 [==============================] - 1s 5ms/step - loss: 0.0965 - accuracy: 0.9652\n",
      "Epoch 94/100\n",
      "235/235 [==============================] - 1s 5ms/step - loss: 0.0963 - accuracy: 0.9655\n",
      "Epoch 95/100\n",
      "235/235 [==============================] - 1s 5ms/step - loss: 0.0959 - accuracy: 0.9659\n",
      "Epoch 96/100\n",
      "235/235 [==============================] - 1s 5ms/step - loss: 0.0928 - accuracy: 0.9665\n",
      "Epoch 97/100\n",
      "235/235 [==============================] - 1s 5ms/step - loss: 0.0919 - accuracy: 0.9672\n",
      "Epoch 98/100\n",
      "235/235 [==============================] - 1s 5ms/step - loss: 0.0950 - accuracy: 0.9661\n",
      "Epoch 99/100\n",
      "235/235 [==============================] - 1s 5ms/step - loss: 0.0912 - accuracy: 0.9678\n",
      "Epoch 100/100\n",
      "235/235 [==============================] - 1s 5ms/step - loss: 0.0912 - accuracy: 0.9670\n"
     ]
    },
    {
     "data": {
      "text/plain": [
       "<keras.callbacks.History at 0x7f76e7ba6e90>"
      ]
     },
     "execution_count": 31,
     "metadata": {},
     "output_type": "execute_result"
    }
   ],
   "source": [
    "model.fit(X_train, Y_train, epochs=100, batch_size=256)"
   ]
  },
  {
   "cell_type": "markdown",
   "metadata": {
    "id": "8cb5C4zQ80dF"
   },
   "source": [
    "#### 2.3. Evaluation\n",
    "Make an evaluation of our model on training and test set (`evaluate` method). Enter the results for both sets."
   ]
  },
  {
   "cell_type": "code",
   "execution_count": null,
   "metadata": {
    "colab": {
     "base_uri": "https://localhost:8080/"
    },
    "executionInfo": {
     "elapsed": 1338,
     "status": "ok",
     "timestamp": 1654196415951,
     "user": {
      "displayName": "Grażyna Rozmysłowicz",
      "userId": "11356318807843777886"
     },
     "user_tz": -120
    },
    "id": "JRHj84dz9mmh",
    "outputId": "827e3f54-5c7f-4f2a-ec8c-4828450a5a27"
   },
   "outputs": [
    {
     "name": "stdout",
     "output_type": "stream",
     "text": [
      "313/313 [==============================] - 1s 3ms/step - loss: 0.3547 - accuracy: 0.9038\n"
     ]
    },
    {
     "data": {
      "text/plain": [
       "[0.3547145128250122, 0.9038000106811523]"
      ]
     },
     "execution_count": 32,
     "metadata": {},
     "output_type": "execute_result"
    }
   ],
   "source": [
    "model.evaluate(X_test, Y_test)"
   ]
  },
  {
   "cell_type": "code",
   "execution_count": null,
   "metadata": {
    "colab": {
     "base_uri": "https://localhost:8080/"
    },
    "executionInfo": {
     "elapsed": 5329,
     "status": "ok",
     "timestamp": 1654196423162,
     "user": {
      "displayName": "Grażyna Rozmysłowicz",
      "userId": "11356318807843777886"
     },
     "user_tz": -120
    },
    "id": "g1KtzradT9aD",
    "outputId": "bb78884d-5a05-44ee-bd43-ad816267816f"
   },
   "outputs": [
    {
     "name": "stdout",
     "output_type": "stream",
     "text": [
      "1875/1875 [==============================] - 5s 3ms/step - loss: 0.0862 - accuracy: 0.9700\n"
     ]
    },
    {
     "data": {
      "text/plain": [
       "[0.08618155121803284, 0.9700333476066589]"
      ]
     },
     "execution_count": 33,
     "metadata": {},
     "output_type": "execute_result"
    }
   ],
   "source": [
    "model.evaluate(X_train, Y_train)"
   ]
  },
  {
   "cell_type": "markdown",
   "metadata": {
    "id": "Btt8b3Ve9rew"
   },
   "source": [
    "#### 2.4. Early stopping\n",
    "* Let's add a validation set to training - you can use `validation_split` argument of [`fit`](https://keras.io/api/models/model_training_apis/) method. Let's do 10%.\n",
    "* Add [early stopping](https://keras.io/api/callbacks/early_stopping/), patience 5.\n",
    "* Do two trainings - first monitoring `loss` in early stopping  and then `val_loss`. What is the difference?\n",
    "\n",
    "If early stopping didn't work, increase the number of `epochs`. "
   ]
  },
  {
   "cell_type": "code",
   "execution_count": null,
   "metadata": {
    "colab": {
     "base_uri": "https://localhost:8080/"
    },
    "executionInfo": {
     "elapsed": 114257,
     "status": "ok",
     "timestamp": 1654196541798,
     "user": {
      "displayName": "Grażyna Rozmysłowicz",
      "userId": "11356318807843777886"
     },
     "user_tz": -120
    },
    "id": "bNFBJcEe9tCC",
    "outputId": "47725b72-18c3-4a62-94ce-623582d7ef1e"
   },
   "outputs": [
    {
     "name": "stdout",
     "output_type": "stream",
     "text": [
      "Epoch 1/130\n",
      "211/211 [==============================] - 1s 7ms/step - loss: 0.0912 - accuracy: 0.9674 - val_loss: 0.1142 - val_accuracy: 0.9575\n",
      "Epoch 2/130\n",
      "211/211 [==============================] - 1s 5ms/step - loss: 0.0875 - accuracy: 0.9697 - val_loss: 0.0998 - val_accuracy: 0.9617\n",
      "Epoch 3/130\n",
      "211/211 [==============================] - 1s 6ms/step - loss: 0.0878 - accuracy: 0.9695 - val_loss: 0.0962 - val_accuracy: 0.9653\n",
      "Epoch 4/130\n",
      "211/211 [==============================] - 1s 6ms/step - loss: 0.0855 - accuracy: 0.9705 - val_loss: 0.0946 - val_accuracy: 0.9662\n",
      "Epoch 5/130\n",
      "211/211 [==============================] - 1s 5ms/step - loss: 0.0893 - accuracy: 0.9678 - val_loss: 0.1106 - val_accuracy: 0.9557\n",
      "Epoch 6/130\n",
      "211/211 [==============================] - 1s 5ms/step - loss: 0.0884 - accuracy: 0.9686 - val_loss: 0.1080 - val_accuracy: 0.9555\n",
      "Epoch 7/130\n",
      "211/211 [==============================] - 1s 5ms/step - loss: 0.0836 - accuracy: 0.9704 - val_loss: 0.1030 - val_accuracy: 0.9617\n",
      "Epoch 8/130\n",
      "211/211 [==============================] - 1s 5ms/step - loss: 0.0835 - accuracy: 0.9699 - val_loss: 0.1240 - val_accuracy: 0.9547\n",
      "Epoch 9/130\n",
      "211/211 [==============================] - 1s 6ms/step - loss: 0.0834 - accuracy: 0.9699 - val_loss: 0.1129 - val_accuracy: 0.9568\n",
      "Epoch 10/130\n",
      "211/211 [==============================] - 1s 5ms/step - loss: 0.0832 - accuracy: 0.9703 - val_loss: 0.1081 - val_accuracy: 0.9605\n",
      "Epoch 11/130\n",
      "211/211 [==============================] - 1s 6ms/step - loss: 0.0824 - accuracy: 0.9710 - val_loss: 0.1130 - val_accuracy: 0.9543\n",
      "Epoch 12/130\n",
      "211/211 [==============================] - 1s 5ms/step - loss: 0.0812 - accuracy: 0.9708 - val_loss: 0.1142 - val_accuracy: 0.9570\n",
      "Epoch 13/130\n",
      "211/211 [==============================] - 1s 6ms/step - loss: 0.0834 - accuracy: 0.9704 - val_loss: 0.1258 - val_accuracy: 0.9498\n",
      "Epoch 14/130\n",
      "211/211 [==============================] - 1s 6ms/step - loss: 0.0829 - accuracy: 0.9708 - val_loss: 0.1363 - val_accuracy: 0.9482\n",
      "Epoch 15/130\n",
      "211/211 [==============================] - 1s 6ms/step - loss: 0.0785 - accuracy: 0.9726 - val_loss: 0.1204 - val_accuracy: 0.9540\n",
      "Epoch 16/130\n",
      "211/211 [==============================] - 1s 6ms/step - loss: 0.0804 - accuracy: 0.9711 - val_loss: 0.1420 - val_accuracy: 0.9460\n",
      "Epoch 17/130\n",
      "211/211 [==============================] - 1s 5ms/step - loss: 0.0789 - accuracy: 0.9719 - val_loss: 0.1268 - val_accuracy: 0.9538\n",
      "Epoch 18/130\n",
      "211/211 [==============================] - 1s 6ms/step - loss: 0.0766 - accuracy: 0.9726 - val_loss: 0.1222 - val_accuracy: 0.9537\n",
      "Epoch 19/130\n",
      "211/211 [==============================] - 1s 6ms/step - loss: 0.0749 - accuracy: 0.9738 - val_loss: 0.1313 - val_accuracy: 0.9528\n",
      "Epoch 20/130\n",
      "211/211 [==============================] - 1s 6ms/step - loss: 0.0781 - accuracy: 0.9720 - val_loss: 0.1345 - val_accuracy: 0.9473\n",
      "Epoch 21/130\n",
      "211/211 [==============================] - 1s 5ms/step - loss: 0.0752 - accuracy: 0.9739 - val_loss: 0.1353 - val_accuracy: 0.9518\n",
      "Epoch 22/130\n",
      "211/211 [==============================] - 1s 5ms/step - loss: 0.0737 - accuracy: 0.9743 - val_loss: 0.1448 - val_accuracy: 0.9457\n",
      "Epoch 23/130\n",
      "211/211 [==============================] - 1s 6ms/step - loss: 0.0765 - accuracy: 0.9725 - val_loss: 0.1368 - val_accuracy: 0.9485\n",
      "Epoch 24/130\n",
      "211/211 [==============================] - 1s 6ms/step - loss: 0.0761 - accuracy: 0.9728 - val_loss: 0.1438 - val_accuracy: 0.9463\n",
      "Epoch 25/130\n",
      "211/211 [==============================] - 1s 6ms/step - loss: 0.0713 - accuracy: 0.9752 - val_loss: 0.1446 - val_accuracy: 0.9485\n",
      "Epoch 26/130\n",
      "211/211 [==============================] - 1s 5ms/step - loss: 0.0745 - accuracy: 0.9736 - val_loss: 0.1673 - val_accuracy: 0.9397\n",
      "Epoch 27/130\n",
      "211/211 [==============================] - 1s 5ms/step - loss: 0.0700 - accuracy: 0.9762 - val_loss: 0.1415 - val_accuracy: 0.9492\n",
      "Epoch 28/130\n",
      "211/211 [==============================] - 1s 6ms/step - loss: 0.0711 - accuracy: 0.9753 - val_loss: 0.1694 - val_accuracy: 0.9378\n",
      "Epoch 29/130\n",
      "211/211 [==============================] - 1s 5ms/step - loss: 0.0716 - accuracy: 0.9746 - val_loss: 0.1627 - val_accuracy: 0.9388\n",
      "Epoch 30/130\n",
      "211/211 [==============================] - 1s 5ms/step - loss: 0.0671 - accuracy: 0.9776 - val_loss: 0.1508 - val_accuracy: 0.9447\n",
      "Epoch 31/130\n",
      "211/211 [==============================] - 1s 6ms/step - loss: 0.0712 - accuracy: 0.9749 - val_loss: 0.1627 - val_accuracy: 0.9397\n",
      "Epoch 32/130\n",
      "211/211 [==============================] - 1s 6ms/step - loss: 0.0697 - accuracy: 0.9752 - val_loss: 0.1782 - val_accuracy: 0.9355\n",
      "Epoch 33/130\n",
      "211/211 [==============================] - 1s 6ms/step - loss: 0.0683 - accuracy: 0.9760 - val_loss: 0.1489 - val_accuracy: 0.9443\n",
      "Epoch 34/130\n",
      "211/211 [==============================] - 1s 5ms/step - loss: 0.0658 - accuracy: 0.9780 - val_loss: 0.1558 - val_accuracy: 0.9448\n",
      "Epoch 35/130\n",
      "211/211 [==============================] - 1s 6ms/step - loss: 0.0686 - accuracy: 0.9752 - val_loss: 0.1728 - val_accuracy: 0.9398\n",
      "Epoch 36/130\n",
      "211/211 [==============================] - 1s 6ms/step - loss: 0.0693 - accuracy: 0.9759 - val_loss: 0.1731 - val_accuracy: 0.9387\n",
      "Epoch 37/130\n",
      "211/211 [==============================] - 1s 6ms/step - loss: 0.0687 - accuracy: 0.9754 - val_loss: 0.1745 - val_accuracy: 0.9435\n",
      "Epoch 38/130\n",
      "211/211 [==============================] - 1s 6ms/step - loss: 0.0650 - accuracy: 0.9776 - val_loss: 0.1822 - val_accuracy: 0.9363\n",
      "Epoch 39/130\n",
      "211/211 [==============================] - 1s 6ms/step - loss: 0.0673 - accuracy: 0.9753 - val_loss: 0.1730 - val_accuracy: 0.9392\n",
      "Epoch 40/130\n",
      "211/211 [==============================] - 1s 6ms/step - loss: 0.0661 - accuracy: 0.9774 - val_loss: 0.1844 - val_accuracy: 0.9335\n",
      "Epoch 41/130\n",
      "211/211 [==============================] - 1s 6ms/step - loss: 0.0638 - accuracy: 0.9785 - val_loss: 0.1698 - val_accuracy: 0.9412\n",
      "Epoch 42/130\n",
      "211/211 [==============================] - 1s 6ms/step - loss: 0.0637 - accuracy: 0.9780 - val_loss: 0.1922 - val_accuracy: 0.9302\n",
      "Epoch 43/130\n",
      "211/211 [==============================] - 1s 6ms/step - loss: 0.0624 - accuracy: 0.9785 - val_loss: 0.1888 - val_accuracy: 0.9325\n",
      "Epoch 44/130\n",
      "211/211 [==============================] - 1s 5ms/step - loss: 0.0635 - accuracy: 0.9776 - val_loss: 0.1821 - val_accuracy: 0.9417\n",
      "Epoch 45/130\n",
      "211/211 [==============================] - 1s 6ms/step - loss: 0.0609 - accuracy: 0.9789 - val_loss: 0.1759 - val_accuracy: 0.9397\n",
      "Epoch 46/130\n",
      "211/211 [==============================] - 1s 6ms/step - loss: 0.0641 - accuracy: 0.9771 - val_loss: 0.1793 - val_accuracy: 0.9412\n",
      "Epoch 47/130\n",
      "211/211 [==============================] - 1s 6ms/step - loss: 0.0644 - accuracy: 0.9772 - val_loss: 0.2022 - val_accuracy: 0.9357\n",
      "Epoch 48/130\n",
      "211/211 [==============================] - 1s 6ms/step - loss: 0.0632 - accuracy: 0.9775 - val_loss: 0.1869 - val_accuracy: 0.9378\n",
      "Epoch 49/130\n",
      "211/211 [==============================] - 1s 6ms/step - loss: 0.0638 - accuracy: 0.9777 - val_loss: 0.1902 - val_accuracy: 0.9370\n",
      "Epoch 50/130\n",
      "211/211 [==============================] - 1s 6ms/step - loss: 0.0598 - accuracy: 0.9791 - val_loss: 0.1876 - val_accuracy: 0.9360\n",
      "Epoch 51/130\n",
      "211/211 [==============================] - 1s 6ms/step - loss: 0.0586 - accuracy: 0.9798 - val_loss: 0.2067 - val_accuracy: 0.9333\n",
      "Epoch 52/130\n",
      "211/211 [==============================] - 1s 6ms/step - loss: 0.0570 - accuracy: 0.9807 - val_loss: 0.1980 - val_accuracy: 0.9385\n",
      "Epoch 53/130\n",
      "211/211 [==============================] - 1s 6ms/step - loss: 0.0585 - accuracy: 0.9802 - val_loss: 0.1943 - val_accuracy: 0.9377\n",
      "Epoch 54/130\n",
      "211/211 [==============================] - 1s 5ms/step - loss: 0.0563 - accuracy: 0.9809 - val_loss: 0.1952 - val_accuracy: 0.9362\n",
      "Epoch 55/130\n",
      "211/211 [==============================] - 1s 6ms/step - loss: 0.0592 - accuracy: 0.9797 - val_loss: 0.1967 - val_accuracy: 0.9357\n",
      "Epoch 56/130\n",
      "211/211 [==============================] - 1s 6ms/step - loss: 0.0625 - accuracy: 0.9778 - val_loss: 0.2012 - val_accuracy: 0.9355\n",
      "Epoch 57/130\n",
      "211/211 [==============================] - 1s 6ms/step - loss: 0.0571 - accuracy: 0.9799 - val_loss: 0.1954 - val_accuracy: 0.9342\n",
      "Epoch 58/130\n",
      "211/211 [==============================] - 1s 6ms/step - loss: 0.0576 - accuracy: 0.9796 - val_loss: 0.2128 - val_accuracy: 0.9325\n",
      "Epoch 59/130\n",
      "211/211 [==============================] - 1s 5ms/step - loss: 0.0557 - accuracy: 0.9811 - val_loss: 0.2058 - val_accuracy: 0.9343\n",
      "Epoch 60/130\n",
      "211/211 [==============================] - 1s 6ms/step - loss: 0.0540 - accuracy: 0.9815 - val_loss: 0.2197 - val_accuracy: 0.9270\n",
      "Epoch 61/130\n",
      "211/211 [==============================] - 1s 5ms/step - loss: 0.0544 - accuracy: 0.9812 - val_loss: 0.2210 - val_accuracy: 0.9302\n",
      "Epoch 62/130\n",
      "211/211 [==============================] - 1s 6ms/step - loss: 0.0556 - accuracy: 0.9804 - val_loss: 0.2130 - val_accuracy: 0.9357\n",
      "Epoch 63/130\n",
      "211/211 [==============================] - 1s 6ms/step - loss: 0.0580 - accuracy: 0.9789 - val_loss: 0.2203 - val_accuracy: 0.9292\n",
      "Epoch 64/130\n",
      "211/211 [==============================] - 1s 6ms/step - loss: 0.0530 - accuracy: 0.9823 - val_loss: 0.2189 - val_accuracy: 0.9352\n",
      "Epoch 65/130\n",
      "211/211 [==============================] - 1s 6ms/step - loss: 0.0518 - accuracy: 0.9823 - val_loss: 0.2309 - val_accuracy: 0.9302\n",
      "Epoch 66/130\n",
      "211/211 [==============================] - 1s 6ms/step - loss: 0.0519 - accuracy: 0.9825 - val_loss: 0.2201 - val_accuracy: 0.9337\n",
      "Epoch 67/130\n",
      "211/211 [==============================] - 1s 5ms/step - loss: 0.0514 - accuracy: 0.9822 - val_loss: 0.2244 - val_accuracy: 0.9307\n",
      "Epoch 68/130\n",
      "211/211 [==============================] - 1s 5ms/step - loss: 0.0504 - accuracy: 0.9832 - val_loss: 0.2350 - val_accuracy: 0.9250\n",
      "Epoch 69/130\n",
      "211/211 [==============================] - 1s 5ms/step - loss: 0.0511 - accuracy: 0.9824 - val_loss: 0.2384 - val_accuracy: 0.9315\n",
      "Epoch 70/130\n",
      "211/211 [==============================] - 1s 5ms/step - loss: 0.0499 - accuracy: 0.9834 - val_loss: 0.2364 - val_accuracy: 0.9303\n",
      "Epoch 71/130\n",
      "211/211 [==============================] - 1s 6ms/step - loss: 0.0509 - accuracy: 0.9821 - val_loss: 0.2433 - val_accuracy: 0.9305\n",
      "Epoch 72/130\n",
      "211/211 [==============================] - 1s 6ms/step - loss: 0.0513 - accuracy: 0.9822 - val_loss: 0.2642 - val_accuracy: 0.9227\n",
      "Epoch 73/130\n",
      "211/211 [==============================] - 1s 6ms/step - loss: 0.0503 - accuracy: 0.9828 - val_loss: 0.2330 - val_accuracy: 0.9317\n",
      "Epoch 74/130\n",
      "211/211 [==============================] - 1s 6ms/step - loss: 0.0488 - accuracy: 0.9836 - val_loss: 0.2424 - val_accuracy: 0.9298\n",
      "Epoch 75/130\n",
      "211/211 [==============================] - 1s 6ms/step - loss: 0.0498 - accuracy: 0.9829 - val_loss: 0.2403 - val_accuracy: 0.9302\n",
      "Epoch 76/130\n",
      "211/211 [==============================] - 1s 5ms/step - loss: 0.0504 - accuracy: 0.9826 - val_loss: 0.2428 - val_accuracy: 0.9320\n",
      "Epoch 77/130\n",
      "211/211 [==============================] - 1s 6ms/step - loss: 0.0528 - accuracy: 0.9804 - val_loss: 0.2365 - val_accuracy: 0.9325\n",
      "Epoch 78/130\n",
      "211/211 [==============================] - 1s 5ms/step - loss: 0.0465 - accuracy: 0.9847 - val_loss: 0.2453 - val_accuracy: 0.9260\n",
      "Epoch 79/130\n",
      "211/211 [==============================] - 1s 6ms/step - loss: 0.0492 - accuracy: 0.9832 - val_loss: 0.2565 - val_accuracy: 0.9268\n",
      "Epoch 80/130\n",
      "211/211 [==============================] - 1s 6ms/step - loss: 0.0481 - accuracy: 0.9838 - val_loss: 0.2711 - val_accuracy: 0.9238\n",
      "Epoch 81/130\n",
      "211/211 [==============================] - 1s 6ms/step - loss: 0.0482 - accuracy: 0.9834 - val_loss: 0.2499 - val_accuracy: 0.9328\n",
      "Epoch 82/130\n",
      "211/211 [==============================] - 1s 6ms/step - loss: 0.0436 - accuracy: 0.9862 - val_loss: 0.2565 - val_accuracy: 0.9288\n",
      "Epoch 83/130\n",
      "211/211 [==============================] - 1s 6ms/step - loss: 0.0454 - accuracy: 0.9848 - val_loss: 0.2579 - val_accuracy: 0.9278\n",
      "Epoch 84/130\n",
      "211/211 [==============================] - 1s 6ms/step - loss: 0.0451 - accuracy: 0.9848 - val_loss: 0.2631 - val_accuracy: 0.9283\n",
      "Epoch 85/130\n",
      "211/211 [==============================] - 1s 6ms/step - loss: 0.0463 - accuracy: 0.9840 - val_loss: 0.2593 - val_accuracy: 0.9267\n",
      "Epoch 86/130\n",
      "211/211 [==============================] - 1s 6ms/step - loss: 0.0428 - accuracy: 0.9857 - val_loss: 0.2621 - val_accuracy: 0.9297\n",
      "Epoch 87/130\n",
      "211/211 [==============================] - 1s 6ms/step - loss: 0.0460 - accuracy: 0.9843 - val_loss: 0.2599 - val_accuracy: 0.9275\n",
      "Epoch 88/130\n",
      "211/211 [==============================] - 1s 6ms/step - loss: 0.0471 - accuracy: 0.9833 - val_loss: 0.2696 - val_accuracy: 0.9277\n",
      "Epoch 89/130\n",
      "211/211 [==============================] - 1s 6ms/step - loss: 0.0422 - accuracy: 0.9860 - val_loss: 0.2694 - val_accuracy: 0.9283\n",
      "Epoch 90/130\n",
      "211/211 [==============================] - 1s 6ms/step - loss: 0.0444 - accuracy: 0.9850 - val_loss: 0.2640 - val_accuracy: 0.9282\n",
      "Epoch 91/130\n",
      "211/211 [==============================] - 1s 6ms/step - loss: 0.0439 - accuracy: 0.9852 - val_loss: 0.2808 - val_accuracy: 0.9263\n",
      "Epoch 92/130\n",
      "211/211 [==============================] - 1s 6ms/step - loss: 0.0423 - accuracy: 0.9859 - val_loss: 0.2726 - val_accuracy: 0.9258\n",
      "Epoch 93/130\n",
      "211/211 [==============================] - 1s 6ms/step - loss: 0.0422 - accuracy: 0.9857 - val_loss: 0.2774 - val_accuracy: 0.9285\n",
      "Epoch 94/130\n",
      "211/211 [==============================] - 1s 6ms/step - loss: 0.0425 - accuracy: 0.9854 - val_loss: 0.2914 - val_accuracy: 0.9247\n"
     ]
    },
    {
     "data": {
      "text/plain": [
       "<keras.callbacks.History at 0x7f76e82223d0>"
      ]
     },
     "execution_count": 34,
     "metadata": {},
     "output_type": "execute_result"
    }
   ],
   "source": [
    "from keras.callbacks import EarlyStopping \n",
    "\n",
    "es_loss = EarlyStopping(monitor='loss', patience=5, mode='min')\n",
    "\n",
    "model.fit(X_train, Y_train, epochs=130, batch_size=256, validation_split=0.1, callbacks=[es_loss])"
   ]
  },
  {
   "cell_type": "code",
   "execution_count": null,
   "metadata": {
    "colab": {
     "base_uri": "https://localhost:8080/"
    },
    "executionInfo": {
     "elapsed": 1682,
     "status": "ok",
     "timestamp": 1654196588714,
     "user": {
      "displayName": "Grażyna Rozmysłowicz",
      "userId": "11356318807843777886"
     },
     "user_tz": -120
    },
    "id": "s0LyAqd9T9aE",
    "outputId": "872c045e-b13a-4e82-e7eb-febc05408d21"
   },
   "outputs": [
    {
     "name": "stdout",
     "output_type": "stream",
     "text": [
      "313/313 [==============================] - 1s 3ms/step - loss: 0.5626 - accuracy: 0.9012\n"
     ]
    },
    {
     "data": {
      "text/plain": [
       "[0.5626116991043091, 0.901199996471405]"
      ]
     },
     "execution_count": 35,
     "metadata": {},
     "output_type": "execute_result"
    }
   ],
   "source": [
    "model.evaluate(X_test, Y_test)"
   ]
  },
  {
   "cell_type": "code",
   "execution_count": null,
   "metadata": {
    "colab": {
     "base_uri": "https://localhost:8080/"
    },
    "executionInfo": {
     "elapsed": 5155,
     "status": "ok",
     "timestamp": 1654196595433,
     "user": {
      "displayName": "Grażyna Rozmysłowicz",
      "userId": "11356318807843777886"
     },
     "user_tz": -120
    },
    "id": "D70rWaMDT9aE",
    "outputId": "99b7ace2-960d-47d5-885f-8bfe7a73a24c"
   },
   "outputs": [
    {
     "name": "stdout",
     "output_type": "stream",
     "text": [
      "1875/1875 [==============================] - 5s 3ms/step - loss: 0.0651 - accuracy: 0.9806\n"
     ]
    },
    {
     "data": {
      "text/plain": [
       "[0.06507965177297592, 0.9805999994277954]"
      ]
     },
     "execution_count": 36,
     "metadata": {},
     "output_type": "execute_result"
    }
   ],
   "source": [
    "model.evaluate(X_train, Y_train)"
   ]
  },
  {
   "cell_type": "code",
   "execution_count": null,
   "metadata": {
    "colab": {
     "base_uri": "https://localhost:8080/"
    },
    "executionInfo": {
     "elapsed": 8612,
     "status": "ok",
     "timestamp": 1654196611006,
     "user": {
      "displayName": "Grażyna Rozmysłowicz",
      "userId": "11356318807843777886"
     },
     "user_tz": -120
    },
    "id": "3pnRX5PsT9aF",
    "outputId": "829fbab2-565e-46aa-9d2f-21cd9f6a84e9"
   },
   "outputs": [
    {
     "name": "stdout",
     "output_type": "stream",
     "text": [
      "Epoch 1/130\n",
      "211/211 [==============================] - 1s 6ms/step - loss: 0.0443 - accuracy: 0.9843 - val_loss: 0.2951 - val_accuracy: 0.9220\n",
      "Epoch 2/130\n",
      "211/211 [==============================] - 1s 6ms/step - loss: 0.0397 - accuracy: 0.9873 - val_loss: 0.2814 - val_accuracy: 0.9273\n",
      "Epoch 3/130\n",
      "211/211 [==============================] - 1s 6ms/step - loss: 0.0415 - accuracy: 0.9861 - val_loss: 0.2979 - val_accuracy: 0.9225\n",
      "Epoch 4/130\n",
      "211/211 [==============================] - 1s 5ms/step - loss: 0.0426 - accuracy: 0.9854 - val_loss: 0.2878 - val_accuracy: 0.9267\n",
      "Epoch 5/130\n",
      "211/211 [==============================] - 1s 6ms/step - loss: 0.0435 - accuracy: 0.9858 - val_loss: 0.2950 - val_accuracy: 0.9212\n",
      "Epoch 6/130\n",
      "211/211 [==============================] - 1s 6ms/step - loss: 0.0413 - accuracy: 0.9863 - val_loss: 0.3034 - val_accuracy: 0.9283\n",
      "Epoch 7/130\n",
      "211/211 [==============================] - 1s 5ms/step - loss: 0.0422 - accuracy: 0.9856 - val_loss: 0.2882 - val_accuracy: 0.9262\n"
     ]
    },
    {
     "data": {
      "text/plain": [
       "<keras.callbacks.History at 0x7f76e8317d50>"
      ]
     },
     "execution_count": 37,
     "metadata": {},
     "output_type": "execute_result"
    }
   ],
   "source": [
    "es_val_loss = EarlyStopping(monitor='val_loss', patience=5, mode='min')\n",
    "\n",
    "model.fit(X_train, Y_train, epochs=130, batch_size=256, validation_split=0.1, callbacks=[es_val_loss])"
   ]
  },
  {
   "cell_type": "code",
   "execution_count": null,
   "metadata": {
    "colab": {
     "base_uri": "https://localhost:8080/"
    },
    "executionInfo": {
     "elapsed": 1755,
     "status": "ok",
     "timestamp": 1654196616640,
     "user": {
      "displayName": "Grażyna Rozmysłowicz",
      "userId": "11356318807843777886"
     },
     "user_tz": -120
    },
    "id": "SmsawoIET9aF",
    "outputId": "f561d0bf-ea7e-4aac-e35f-262d81b20a73"
   },
   "outputs": [
    {
     "name": "stdout",
     "output_type": "stream",
     "text": [
      "313/313 [==============================] - 1s 2ms/step - loss: 0.5693 - accuracy: 0.9009\n"
     ]
    },
    {
     "data": {
      "text/plain": [
       "[0.5693358778953552, 0.9009000062942505]"
      ]
     },
     "execution_count": 38,
     "metadata": {},
     "output_type": "execute_result"
    }
   ],
   "source": [
    "model.evaluate(X_test, Y_test)"
   ]
  },
  {
   "cell_type": "code",
   "execution_count": null,
   "metadata": {
    "colab": {
     "base_uri": "https://localhost:8080/"
    },
    "executionInfo": {
     "elapsed": 5185,
     "status": "ok",
     "timestamp": 1654196623667,
     "user": {
      "displayName": "Grażyna Rozmysłowicz",
      "userId": "11356318807843777886"
     },
     "user_tz": -120
    },
    "id": "2w7_maJPT9aF",
    "outputId": "56b679aa-3e74-4e59-cc70-ea5667180193"
   },
   "outputs": [
    {
     "name": "stdout",
     "output_type": "stream",
     "text": [
      "1875/1875 [==============================] - 5s 3ms/step - loss: 0.0575 - accuracy: 0.9849\n"
     ]
    },
    {
     "data": {
      "text/plain": [
       "[0.05750519782304764, 0.9848999977111816]"
      ]
     },
     "execution_count": 39,
     "metadata": {},
     "output_type": "execute_result"
    }
   ],
   "source": [
    "model.evaluate(X_train, Y_train)"
   ]
  },
  {
   "cell_type": "markdown",
   "metadata": {
    "id": "Jy-3Yf64T9aG"
   },
   "source": [
    "Observations:\n",
    "- when monitoring `loss`: EarlyStopping stopped training after 81 epochs.\n",
    "- when monitoring `val_loss`: EarlyStopping stopped training after 7 epochs.\n",
    "\n",
    "\n",
    "`val_loss` is the value of cost function for your cross-validation data and `loss` is the value of cost function for your training data (source: https://datascience.stackexchange.com/questions/25267/keras-difference-beetween-val-loss-and-loss-during-training) <br>\n",
    "<br>\n",
    "We want to **avoid overfitting**."
   ]
  },
  {
   "cell_type": "markdown",
   "metadata": {
    "id": "EZr1nupSBcYP"
   },
   "source": [
    "#### 2.5. Improving the results\n",
    "* Try to create 3 NN that will score better on `fashion_mnist`. You can modify our simple network or design a completely new one.\n",
    "* Experiment with modifying `Conv2D` layers (e.g. changing number of filters), adding `Conv2D` and `Dense` layers. You can also add `Dropout`.\n",
    "* For each of these networks, conduct an evaluation and write down the results."
   ]
  },
  {
   "cell_type": "code",
   "execution_count": null,
   "metadata": {
    "id": "xkUVjs5FBfSo"
   },
   "outputs": [],
   "source": [
    "from keras.callbacks import EarlyStopping, ModelCheckpoint"
   ]
  },
  {
   "cell_type": "code",
   "execution_count": null,
   "metadata": {
    "colab": {
     "base_uri": "https://localhost:8080/"
    },
    "executionInfo": {
     "elapsed": 80019,
     "status": "ok",
     "timestamp": 1654198456627,
     "user": {
      "displayName": "Grażyna Rozmysłowicz",
      "userId": "11356318807843777886"
     },
     "user_tz": -120
    },
    "id": "_ftae8e8T9aG",
    "outputId": "75cdf246-73a3-4ef3-fc4e-8fec9038a0ca"
   },
   "outputs": [
    {
     "name": "stdout",
     "output_type": "stream",
     "text": [
      "Epoch 1/100\n",
      "211/211 [==============================] - ETA: 0s - loss: 0.7050 - accuracy: 0.7433\n",
      "Epoch 1: val_loss improved from inf to 0.49114, saving model to model1.h5\n",
      "211/211 [==============================] - 5s 20ms/step - loss: 0.7050 - accuracy: 0.7433 - val_loss: 0.4911 - val_accuracy: 0.8222\n",
      "Epoch 2/100\n",
      "211/211 [==============================] - ETA: 0s - loss: 0.3997 - accuracy: 0.8567\n",
      "Epoch 2: val_loss improved from 0.49114 to 0.35991, saving model to model1.h5\n",
      "211/211 [==============================] - 4s 18ms/step - loss: 0.3997 - accuracy: 0.8567 - val_loss: 0.3599 - val_accuracy: 0.8663\n",
      "Epoch 3/100\n",
      "209/211 [============================>.] - ETA: 0s - loss: 0.3462 - accuracy: 0.8755\n",
      "Epoch 3: val_loss improved from 0.35991 to 0.33283, saving model to model1.h5\n",
      "211/211 [==============================] - 4s 17ms/step - loss: 0.3461 - accuracy: 0.8756 - val_loss: 0.3328 - val_accuracy: 0.8737\n",
      "Epoch 4/100\n",
      "209/211 [============================>.] - ETA: 0s - loss: 0.3068 - accuracy: 0.8886\n",
      "Epoch 4: val_loss improved from 0.33283 to 0.31599, saving model to model1.h5\n",
      "211/211 [==============================] - 4s 17ms/step - loss: 0.3066 - accuracy: 0.8887 - val_loss: 0.3160 - val_accuracy: 0.8855\n",
      "Epoch 5/100\n",
      "210/211 [============================>.] - ETA: 0s - loss: 0.2819 - accuracy: 0.8983\n",
      "Epoch 5: val_loss improved from 0.31599 to 0.30810, saving model to model1.h5\n",
      "211/211 [==============================] - 4s 18ms/step - loss: 0.2816 - accuracy: 0.8984 - val_loss: 0.3081 - val_accuracy: 0.8873\n",
      "Epoch 6/100\n",
      "210/211 [============================>.] - ETA: 0s - loss: 0.2653 - accuracy: 0.9043\n",
      "Epoch 6: val_loss improved from 0.30810 to 0.28465, saving model to model1.h5\n",
      "211/211 [==============================] - 4s 17ms/step - loss: 0.2652 - accuracy: 0.9044 - val_loss: 0.2847 - val_accuracy: 0.8977\n",
      "Epoch 7/100\n",
      "211/211 [==============================] - ETA: 0s - loss: 0.2497 - accuracy: 0.9083\n",
      "Epoch 7: val_loss did not improve from 0.28465\n",
      "211/211 [==============================] - 4s 19ms/step - loss: 0.2497 - accuracy: 0.9083 - val_loss: 0.2977 - val_accuracy: 0.8910\n",
      "Epoch 8/100\n",
      "208/211 [============================>.] - ETA: 0s - loss: 0.2343 - accuracy: 0.9149\n",
      "Epoch 8: val_loss improved from 0.28465 to 0.27737, saving model to model1.h5\n",
      "211/211 [==============================] - 4s 18ms/step - loss: 0.2348 - accuracy: 0.9148 - val_loss: 0.2774 - val_accuracy: 0.8988\n",
      "Epoch 9/100\n",
      "210/211 [============================>.] - ETA: 0s - loss: 0.2193 - accuracy: 0.9200\n",
      "Epoch 9: val_loss improved from 0.27737 to 0.25757, saving model to model1.h5\n",
      "211/211 [==============================] - 4s 19ms/step - loss: 0.2193 - accuracy: 0.9200 - val_loss: 0.2576 - val_accuracy: 0.9077\n",
      "Epoch 10/100\n",
      "210/211 [============================>.] - ETA: 0s - loss: 0.2120 - accuracy: 0.9228\n",
      "Epoch 10: val_loss did not improve from 0.25757\n",
      "211/211 [==============================] - 4s 17ms/step - loss: 0.2121 - accuracy: 0.9228 - val_loss: 0.2614 - val_accuracy: 0.9070\n",
      "Epoch 11/100\n",
      "210/211 [============================>.] - ETA: 0s - loss: 0.2031 - accuracy: 0.9273\n",
      "Epoch 11: val_loss improved from 0.25757 to 0.24399, saving model to model1.h5\n",
      "211/211 [==============================] - 4s 17ms/step - loss: 0.2030 - accuracy: 0.9274 - val_loss: 0.2440 - val_accuracy: 0.9137\n",
      "Epoch 12/100\n",
      "211/211 [==============================] - ETA: 0s - loss: 0.1878 - accuracy: 0.9317\n",
      "Epoch 12: val_loss did not improve from 0.24399\n",
      "211/211 [==============================] - 4s 17ms/step - loss: 0.1878 - accuracy: 0.9317 - val_loss: 0.2441 - val_accuracy: 0.9125\n",
      "Epoch 13/100\n",
      "211/211 [==============================] - ETA: 0s - loss: 0.1802 - accuracy: 0.9351\n",
      "Epoch 13: val_loss did not improve from 0.24399\n",
      "211/211 [==============================] - 4s 18ms/step - loss: 0.1802 - accuracy: 0.9351 - val_loss: 0.2608 - val_accuracy: 0.9072\n",
      "Epoch 14/100\n",
      "208/211 [============================>.] - ETA: 0s - loss: 0.1736 - accuracy: 0.9362\n",
      "Epoch 14: val_loss did not improve from 0.24399\n",
      "211/211 [==============================] - 4s 18ms/step - loss: 0.1737 - accuracy: 0.9363 - val_loss: 0.2479 - val_accuracy: 0.9113\n",
      "Epoch 15/100\n",
      "208/211 [============================>.] - ETA: 0s - loss: 0.1631 - accuracy: 0.9415\n",
      "Epoch 15: val_loss did not improve from 0.24399\n",
      "211/211 [==============================] - 4s 18ms/step - loss: 0.1632 - accuracy: 0.9414 - val_loss: 0.2450 - val_accuracy: 0.9137\n",
      "Epoch 16/100\n",
      "210/211 [============================>.] - ETA: 0s - loss: 0.1541 - accuracy: 0.9429\n",
      "Epoch 16: val_loss did not improve from 0.24399\n",
      "211/211 [==============================] - 4s 17ms/step - loss: 0.1541 - accuracy: 0.9429 - val_loss: 0.2487 - val_accuracy: 0.9115\n",
      "Epoch 17/100\n",
      "208/211 [============================>.] - ETA: 0s - loss: 0.1484 - accuracy: 0.9454\n",
      "Epoch 17: val_loss did not improve from 0.24399\n",
      "211/211 [==============================] - 4s 18ms/step - loss: 0.1489 - accuracy: 0.9453 - val_loss: 0.2472 - val_accuracy: 0.9135\n",
      "Epoch 18/100\n",
      "211/211 [==============================] - ETA: 0s - loss: 0.1418 - accuracy: 0.9488\n",
      "Epoch 18: val_loss did not improve from 0.24399\n",
      "211/211 [==============================] - 4s 17ms/step - loss: 0.1418 - accuracy: 0.9488 - val_loss: 0.2524 - val_accuracy: 0.9110\n",
      "Epoch 19/100\n",
      "211/211 [==============================] - ETA: 0s - loss: 0.1292 - accuracy: 0.9536\n",
      "Epoch 19: val_loss did not improve from 0.24399\n",
      "211/211 [==============================] - 4s 17ms/step - loss: 0.1292 - accuracy: 0.9536 - val_loss: 0.2852 - val_accuracy: 0.9005\n",
      "Epoch 20/100\n",
      "211/211 [==============================] - ETA: 0s - loss: 0.1294 - accuracy: 0.9532\n",
      "Epoch 20: val_loss did not improve from 0.24399\n",
      "211/211 [==============================] - 4s 18ms/step - loss: 0.1294 - accuracy: 0.9532 - val_loss: 0.2530 - val_accuracy: 0.9158\n",
      "Epoch 21/100\n",
      "211/211 [==============================] - ETA: 0s - loss: 0.1203 - accuracy: 0.9561\n",
      "Epoch 21: val_loss did not improve from 0.24399\n",
      "211/211 [==============================] - 4s 17ms/step - loss: 0.1203 - accuracy: 0.9561 - val_loss: 0.2459 - val_accuracy: 0.9178\n"
     ]
    }
   ],
   "source": [
    "#model1 (NN 1)\n",
    "\n",
    "model1 = Sequential([\n",
    "    Conv2D(128, kernel_size=(3,3), activation='relu', padding='same', input_shape=(28,28,1)),\n",
    "    MaxPooling2D(pool_size=(2,2)),\n",
    "    Conv2D(64, kernel_size=(3,3), activation='relu', padding='same'),\n",
    "    MaxPooling2D(pool_size=(2,2)),\n",
    "    Conv2D(64, kernel_size=(3,3), activation='relu', padding='same'),\n",
    "    MaxPooling2D(pool_size=(2,2)),\n",
    "    Conv2D(32, kernel_size=(3,3), activation='relu', padding='same'),\n",
    "    MaxPooling2D(pool_size=(2,2)),\n",
    "    Flatten(),\n",
    "    Dense(10,activation='softmax')\n",
    "])\n",
    "\n",
    "model1.compile(loss='categorical_crossentropy', optimizer='adam', metrics=['accuracy'])\n",
    "\n",
    "es1 = EarlyStopping(monitor='val_loss', mode='min', patience=10)\n",
    "\n",
    "mch1 = ModelCheckpoint(\n",
    "    #save the best model observed during training for later use\n",
    "    filepath=\"model1.h5\",\n",
    "    monitor='val_loss',\n",
    "    mode='min',\n",
    "    verbose=1, #=1 know the value of the performance measure and at what epoch the model was saved\n",
    "    save_best_only=True\n",
    ") \n",
    "\n",
    "model1.fit(X_train, Y_train, epochs=100, batch_size=256, validation_split=0.1, callbacks=[es1, mch1])\n",
    "\n",
    "model1.load_weights('model1.h5')"
   ]
  },
  {
   "cell_type": "code",
   "execution_count": null,
   "metadata": {
    "colab": {
     "base_uri": "https://localhost:8080/"
    },
    "executionInfo": {
     "elapsed": 7773,
     "status": "ok",
     "timestamp": 1654199717785,
     "user": {
      "displayName": "Grażyna Rozmysłowicz",
      "userId": "11356318807843777886"
     },
     "user_tz": -120
    },
    "id": "trJYh8Wx9vYc",
    "outputId": "0f1ef6e7-1e44-43c4-cee9-f82464fa15c8"
   },
   "outputs": [
    {
     "name": "stdout",
     "output_type": "stream",
     "text": [
      "313/313 [==============================] - 1s 3ms/step - loss: 0.2516 - accuracy: 0.9108\n",
      "1875/1875 [==============================] - 6s 3ms/step - loss: 0.1824 - accuracy: 0.9354\n"
     ]
    }
   ],
   "source": [
    "m1_eval_test = model1.evaluate(X_test, Y_test)[1] #accuracy\n",
    "m1_eval_train = model1.evaluate(X_train, Y_train)[1] "
   ]
  },
  {
   "cell_type": "code",
   "execution_count": null,
   "metadata": {
    "colab": {
     "base_uri": "https://localhost:8080/"
    },
    "executionInfo": {
     "elapsed": 174745,
     "status": "ok",
     "timestamp": 1654199182470,
     "user": {
      "displayName": "Grażyna Rozmysłowicz",
      "userId": "11356318807843777886"
     },
     "user_tz": -120
    },
    "id": "kVK2hj10T9aH",
    "outputId": "944ad648-8a47-42b1-da92-1ab980a1af75"
   },
   "outputs": [
    {
     "name": "stdout",
     "output_type": "stream",
     "text": [
      "Epoch 1/100\n",
      "211/211 [==============================] - ETA: 0s - loss: 0.6222 - accuracy: 0.7722\n",
      "Epoch 1: val_loss improved from inf to 0.37871, saving model to model2.h5\n",
      "211/211 [==============================] - 9s 37ms/step - loss: 0.6222 - accuracy: 0.7722 - val_loss: 0.3787 - val_accuracy: 0.8623\n",
      "Epoch 2/100\n",
      "211/211 [==============================] - ETA: 0s - loss: 0.3434 - accuracy: 0.8754\n",
      "Epoch 2: val_loss improved from 0.37871 to 0.31369, saving model to model2.h5\n",
      "211/211 [==============================] - 7s 33ms/step - loss: 0.3434 - accuracy: 0.8754 - val_loss: 0.3137 - val_accuracy: 0.8847\n",
      "Epoch 3/100\n",
      "211/211 [==============================] - ETA: 0s - loss: 0.2947 - accuracy: 0.8927\n",
      "Epoch 3: val_loss did not improve from 0.31369\n",
      "211/211 [==============================] - 7s 33ms/step - loss: 0.2947 - accuracy: 0.8927 - val_loss: 0.3252 - val_accuracy: 0.8800\n",
      "Epoch 4/100\n",
      "211/211 [==============================] - ETA: 0s - loss: 0.2608 - accuracy: 0.9055\n",
      "Epoch 4: val_loss improved from 0.31369 to 0.27540, saving model to model2.h5\n",
      "211/211 [==============================] - 7s 34ms/step - loss: 0.2608 - accuracy: 0.9055 - val_loss: 0.2754 - val_accuracy: 0.8985\n",
      "Epoch 5/100\n",
      "211/211 [==============================] - ETA: 0s - loss: 0.2384 - accuracy: 0.9123\n",
      "Epoch 5: val_loss improved from 0.27540 to 0.26219, saving model to model2.h5\n",
      "211/211 [==============================] - 7s 34ms/step - loss: 0.2384 - accuracy: 0.9123 - val_loss: 0.2622 - val_accuracy: 0.9052\n",
      "Epoch 6/100\n",
      "211/211 [==============================] - ETA: 0s - loss: 0.2197 - accuracy: 0.9201\n",
      "Epoch 6: val_loss improved from 0.26219 to 0.25096, saving model to model2.h5\n",
      "211/211 [==============================] - 7s 34ms/step - loss: 0.2197 - accuracy: 0.9201 - val_loss: 0.2510 - val_accuracy: 0.9072\n",
      "Epoch 7/100\n",
      "211/211 [==============================] - ETA: 0s - loss: 0.1986 - accuracy: 0.9274\n",
      "Epoch 7: val_loss improved from 0.25096 to 0.23510, saving model to model2.h5\n",
      "211/211 [==============================] - 7s 34ms/step - loss: 0.1986 - accuracy: 0.9274 - val_loss: 0.2351 - val_accuracy: 0.9150\n",
      "Epoch 8/100\n",
      "211/211 [==============================] - ETA: 0s - loss: 0.1840 - accuracy: 0.9328\n",
      "Epoch 8: val_loss improved from 0.23510 to 0.22097, saving model to model2.h5\n",
      "211/211 [==============================] - 7s 34ms/step - loss: 0.1840 - accuracy: 0.9328 - val_loss: 0.2210 - val_accuracy: 0.9197\n",
      "Epoch 9/100\n",
      "211/211 [==============================] - ETA: 0s - loss: 0.1709 - accuracy: 0.9371\n",
      "Epoch 9: val_loss did not improve from 0.22097\n",
      "211/211 [==============================] - 7s 34ms/step - loss: 0.1709 - accuracy: 0.9371 - val_loss: 0.2357 - val_accuracy: 0.9183\n",
      "Epoch 10/100\n",
      "211/211 [==============================] - ETA: 0s - loss: 0.1524 - accuracy: 0.9436\n",
      "Epoch 10: val_loss did not improve from 0.22097\n",
      "211/211 [==============================] - 7s 34ms/step - loss: 0.1524 - accuracy: 0.9436 - val_loss: 0.2226 - val_accuracy: 0.9165\n",
      "Epoch 11/100\n",
      "211/211 [==============================] - ETA: 0s - loss: 0.1396 - accuracy: 0.9493\n",
      "Epoch 11: val_loss did not improve from 0.22097\n",
      "211/211 [==============================] - 7s 34ms/step - loss: 0.1396 - accuracy: 0.9493 - val_loss: 0.2515 - val_accuracy: 0.9158\n",
      "Epoch 12/100\n",
      "211/211 [==============================] - ETA: 0s - loss: 0.1268 - accuracy: 0.9543\n",
      "Epoch 12: val_loss did not improve from 0.22097\n",
      "211/211 [==============================] - 7s 34ms/step - loss: 0.1268 - accuracy: 0.9543 - val_loss: 0.2247 - val_accuracy: 0.9202\n",
      "Epoch 13/100\n",
      "211/211 [==============================] - ETA: 0s - loss: 0.1179 - accuracy: 0.9564\n",
      "Epoch 13: val_loss did not improve from 0.22097\n",
      "211/211 [==============================] - 7s 34ms/step - loss: 0.1179 - accuracy: 0.9564 - val_loss: 0.2396 - val_accuracy: 0.9203\n",
      "Epoch 14/100\n",
      "211/211 [==============================] - ETA: 0s - loss: 0.1081 - accuracy: 0.9606\n",
      "Epoch 14: val_loss improved from 0.22097 to 0.21722, saving model to model2.h5\n",
      "211/211 [==============================] - 7s 34ms/step - loss: 0.1081 - accuracy: 0.9606 - val_loss: 0.2172 - val_accuracy: 0.9270\n",
      "Epoch 15/100\n",
      "211/211 [==============================] - ETA: 0s - loss: 0.0920 - accuracy: 0.9670\n",
      "Epoch 15: val_loss did not improve from 0.21722\n",
      "211/211 [==============================] - 8s 36ms/step - loss: 0.0920 - accuracy: 0.9670 - val_loss: 0.2297 - val_accuracy: 0.9218\n",
      "Epoch 16/100\n",
      "210/211 [============================>.] - ETA: 0s - loss: 0.0836 - accuracy: 0.9698\n",
      "Epoch 16: val_loss did not improve from 0.21722\n",
      "211/211 [==============================] - 7s 34ms/step - loss: 0.0837 - accuracy: 0.9698 - val_loss: 0.2650 - val_accuracy: 0.9180\n",
      "Epoch 17/100\n",
      "211/211 [==============================] - ETA: 0s - loss: 0.0758 - accuracy: 0.9713\n",
      "Epoch 17: val_loss did not improve from 0.21722\n",
      "211/211 [==============================] - 7s 34ms/step - loss: 0.0758 - accuracy: 0.9713 - val_loss: 0.2605 - val_accuracy: 0.9193\n",
      "Epoch 18/100\n",
      "211/211 [==============================] - ETA: 0s - loss: 0.0661 - accuracy: 0.9751\n",
      "Epoch 18: val_loss did not improve from 0.21722\n",
      "211/211 [==============================] - 7s 34ms/step - loss: 0.0661 - accuracy: 0.9751 - val_loss: 0.2607 - val_accuracy: 0.9177\n",
      "Epoch 19/100\n",
      "211/211 [==============================] - ETA: 0s - loss: 0.0605 - accuracy: 0.9789\n",
      "Epoch 19: val_loss did not improve from 0.21722\n",
      "211/211 [==============================] - 7s 34ms/step - loss: 0.0605 - accuracy: 0.9789 - val_loss: 0.2824 - val_accuracy: 0.9240\n",
      "Epoch 20/100\n",
      "211/211 [==============================] - ETA: 0s - loss: 0.0505 - accuracy: 0.9823\n",
      "Epoch 20: val_loss did not improve from 0.21722\n",
      "211/211 [==============================] - 7s 34ms/step - loss: 0.0505 - accuracy: 0.9823 - val_loss: 0.2968 - val_accuracy: 0.9182\n",
      "Epoch 21/100\n",
      "211/211 [==============================] - ETA: 0s - loss: 0.0494 - accuracy: 0.9825\n",
      "Epoch 21: val_loss did not improve from 0.21722\n",
      "211/211 [==============================] - 8s 36ms/step - loss: 0.0494 - accuracy: 0.9825 - val_loss: 0.3061 - val_accuracy: 0.9195\n",
      "Epoch 22/100\n",
      "211/211 [==============================] - ETA: 0s - loss: 0.0410 - accuracy: 0.9853\n",
      "Epoch 22: val_loss did not improve from 0.21722\n",
      "211/211 [==============================] - 7s 34ms/step - loss: 0.0410 - accuracy: 0.9853 - val_loss: 0.3109 - val_accuracy: 0.9182\n",
      "Epoch 23/100\n",
      "211/211 [==============================] - ETA: 0s - loss: 0.0448 - accuracy: 0.9842\n",
      "Epoch 23: val_loss did not improve from 0.21722\n",
      "211/211 [==============================] - 7s 34ms/step - loss: 0.0448 - accuracy: 0.9842 - val_loss: 0.3774 - val_accuracy: 0.9108\n",
      "Epoch 24/100\n",
      "211/211 [==============================] - ETA: 0s - loss: 0.0387 - accuracy: 0.9858\n",
      "Epoch 24: val_loss did not improve from 0.21722\n",
      "211/211 [==============================] - 7s 34ms/step - loss: 0.0387 - accuracy: 0.9858 - val_loss: 0.3444 - val_accuracy: 0.9162\n"
     ]
    }
   ],
   "source": [
    "#model2 (NN 2)\n",
    "\n",
    "model2 = Sequential([\n",
    "    Conv2D(256, kernel_size=(3,3), activation='relu', padding='same', input_shape=(28,28,1)),\n",
    "    MaxPooling2D(pool_size=(2,2)),\n",
    "    Conv2D(128, kernel_size=(3,3), activation='relu', padding='same'),\n",
    "    MaxPooling2D(pool_size=(2,2)),\n",
    "    Conv2D(128, kernel_size=(3,3), activation='relu', padding='same'),\n",
    "    MaxPooling2D(pool_size=(2,2)),\n",
    "    Conv2D(64, kernel_size=(3,3), activation='relu', padding='same'),\n",
    "    MaxPooling2D(pool_size=(2,2)),\n",
    "    Flatten(),\n",
    "    Dense(10,activation='softmax')\n",
    "])\n",
    "\n",
    "model2.compile(loss='categorical_crossentropy', optimizer='adam', metrics=['accuracy'])\n",
    "\n",
    "es2 = EarlyStopping(monitor='val_loss', mode='min', patience=10)\n",
    "mch2 = ModelCheckpoint(filepath=\"model2.h5\", monitor='val_loss', mode='min', verbose=1, save_best_only=True) \n",
    "\n",
    "model2.fit(X_train, Y_train, epochs=100, batch_size=256, validation_split=0.1, callbacks=[es2, mch2])\n",
    "\n",
    "model2.load_weights('model2.h5')"
   ]
  },
  {
   "cell_type": "code",
   "execution_count": null,
   "metadata": {
    "colab": {
     "base_uri": "https://localhost:8080/"
    },
    "executionInfo": {
     "elapsed": 12261,
     "status": "ok",
     "timestamp": 1654199746376,
     "user": {
      "displayName": "Grażyna Rozmysłowicz",
      "userId": "11356318807843777886"
     },
     "user_tz": -120
    },
    "id": "2ElNRsZw92a_",
    "outputId": "8dc30c09-279e-4529-c79a-e6800e382986"
   },
   "outputs": [
    {
     "name": "stdout",
     "output_type": "stream",
     "text": [
      "313/313 [==============================] - 1s 4ms/step - loss: 0.2517 - accuracy: 0.9210\n",
      "1875/1875 [==============================] - 7s 4ms/step - loss: 0.0935 - accuracy: 0.9682\n"
     ]
    }
   ],
   "source": [
    "m2_eval_test = model2.evaluate(X_test, Y_test)[1] #accuracy\n",
    "m2_eval_train = model2.evaluate(X_train, Y_train)[1] "
   ]
  },
  {
   "cell_type": "code",
   "execution_count": null,
   "metadata": {
    "colab": {
     "base_uri": "https://localhost:8080/"
    },
    "executionInfo": {
     "elapsed": 149335,
     "status": "ok",
     "timestamp": 1654199563189,
     "user": {
      "displayName": "Grażyna Rozmysłowicz",
      "userId": "11356318807843777886"
     },
     "user_tz": -120
    },
    "id": "HtkecuPHT9aH",
    "outputId": "6e2ab036-4376-47bc-d84c-6ade05c4065f"
   },
   "outputs": [
    {
     "name": "stdout",
     "output_type": "stream",
     "text": [
      "Epoch 1/100\n",
      "211/211 [==============================] - ETA: 0s - loss: 0.8818 - accuracy: 0.6687\n",
      "Epoch 1: val_loss improved from inf to 0.50226, saving model to model3.h5\n",
      "211/211 [==============================] - 8s 36ms/step - loss: 0.8818 - accuracy: 0.6687 - val_loss: 0.5023 - val_accuracy: 0.8038\n",
      "Epoch 2/100\n",
      "211/211 [==============================] - ETA: 0s - loss: 0.4642 - accuracy: 0.8246\n",
      "Epoch 2: val_loss improved from 0.50226 to 0.40359, saving model to model3.h5\n",
      "211/211 [==============================] - 7s 34ms/step - loss: 0.4642 - accuracy: 0.8246 - val_loss: 0.4036 - val_accuracy: 0.8513\n",
      "Epoch 3/100\n",
      "211/211 [==============================] - ETA: 0s - loss: 0.3758 - accuracy: 0.8626\n",
      "Epoch 3: val_loss improved from 0.40359 to 0.36279, saving model to model3.h5\n",
      "211/211 [==============================] - 7s 34ms/step - loss: 0.3758 - accuracy: 0.8626 - val_loss: 0.3628 - val_accuracy: 0.8673\n",
      "Epoch 4/100\n",
      "211/211 [==============================] - ETA: 0s - loss: 0.3218 - accuracy: 0.8821\n",
      "Epoch 4: val_loss improved from 0.36279 to 0.30765, saving model to model3.h5\n",
      "211/211 [==============================] - 8s 36ms/step - loss: 0.3218 - accuracy: 0.8821 - val_loss: 0.3077 - val_accuracy: 0.8852\n",
      "Epoch 5/100\n",
      "211/211 [==============================] - ETA: 0s - loss: 0.2925 - accuracy: 0.8938\n",
      "Epoch 5: val_loss improved from 0.30765 to 0.29906, saving model to model3.h5\n",
      "211/211 [==============================] - 7s 34ms/step - loss: 0.2925 - accuracy: 0.8938 - val_loss: 0.2991 - val_accuracy: 0.8878\n",
      "Epoch 6/100\n",
      "210/211 [============================>.] - ETA: 0s - loss: 0.2640 - accuracy: 0.9034\n",
      "Epoch 6: val_loss improved from 0.29906 to 0.29664, saving model to model3.h5\n",
      "211/211 [==============================] - 7s 35ms/step - loss: 0.2640 - accuracy: 0.9034 - val_loss: 0.2966 - val_accuracy: 0.8872\n",
      "Epoch 7/100\n",
      "211/211 [==============================] - ETA: 0s - loss: 0.2417 - accuracy: 0.9124\n",
      "Epoch 7: val_loss improved from 0.29664 to 0.27285, saving model to model3.h5\n",
      "211/211 [==============================] - 7s 34ms/step - loss: 0.2417 - accuracy: 0.9124 - val_loss: 0.2728 - val_accuracy: 0.9007\n",
      "Epoch 8/100\n",
      "211/211 [==============================] - ETA: 0s - loss: 0.2280 - accuracy: 0.9166\n",
      "Epoch 8: val_loss improved from 0.27285 to 0.25879, saving model to model3.h5\n",
      "211/211 [==============================] - 7s 34ms/step - loss: 0.2280 - accuracy: 0.9166 - val_loss: 0.2588 - val_accuracy: 0.9078\n",
      "Epoch 9/100\n",
      "211/211 [==============================] - ETA: 0s - loss: 0.2091 - accuracy: 0.9228\n",
      "Epoch 9: val_loss did not improve from 0.25879\n",
      "211/211 [==============================] - 8s 36ms/step - loss: 0.2091 - accuracy: 0.9228 - val_loss: 0.2639 - val_accuracy: 0.9033\n",
      "Epoch 10/100\n",
      "211/211 [==============================] - ETA: 0s - loss: 0.1949 - accuracy: 0.9278\n",
      "Epoch 10: val_loss improved from 0.25879 to 0.23256, saving model to model3.h5\n",
      "211/211 [==============================] - 7s 35ms/step - loss: 0.1949 - accuracy: 0.9278 - val_loss: 0.2326 - val_accuracy: 0.9205\n",
      "Epoch 11/100\n",
      "211/211 [==============================] - ETA: 0s - loss: 0.1840 - accuracy: 0.9319\n",
      "Epoch 11: val_loss did not improve from 0.23256\n",
      "211/211 [==============================] - 7s 34ms/step - loss: 0.1840 - accuracy: 0.9319 - val_loss: 0.2443 - val_accuracy: 0.9122\n",
      "Epoch 12/100\n",
      "211/211 [==============================] - ETA: 0s - loss: 0.1717 - accuracy: 0.9368\n",
      "Epoch 12: val_loss did not improve from 0.23256\n",
      "211/211 [==============================] - 7s 34ms/step - loss: 0.1717 - accuracy: 0.9368 - val_loss: 0.2507 - val_accuracy: 0.9108\n",
      "Epoch 13/100\n",
      "211/211 [==============================] - ETA: 0s - loss: 0.1579 - accuracy: 0.9424\n",
      "Epoch 13: val_loss did not improve from 0.23256\n",
      "211/211 [==============================] - 8s 36ms/step - loss: 0.1579 - accuracy: 0.9424 - val_loss: 0.2534 - val_accuracy: 0.9105\n",
      "Epoch 14/100\n",
      "211/211 [==============================] - ETA: 0s - loss: 0.1460 - accuracy: 0.9456\n",
      "Epoch 14: val_loss did not improve from 0.23256\n",
      "211/211 [==============================] - 8s 36ms/step - loss: 0.1460 - accuracy: 0.9456 - val_loss: 0.2568 - val_accuracy: 0.9170\n",
      "Epoch 15/100\n",
      "211/211 [==============================] - ETA: 0s - loss: 0.1380 - accuracy: 0.9482\n",
      "Epoch 15: val_loss did not improve from 0.23256\n",
      "211/211 [==============================] - 8s 36ms/step - loss: 0.1380 - accuracy: 0.9482 - val_loss: 0.2335 - val_accuracy: 0.9207\n",
      "Epoch 16/100\n",
      "211/211 [==============================] - ETA: 0s - loss: 0.1275 - accuracy: 0.9525\n",
      "Epoch 16: val_loss did not improve from 0.23256\n",
      "211/211 [==============================] - 7s 34ms/step - loss: 0.1275 - accuracy: 0.9525 - val_loss: 0.2521 - val_accuracy: 0.9168\n",
      "Epoch 17/100\n",
      "211/211 [==============================] - ETA: 0s - loss: 0.1178 - accuracy: 0.9573\n",
      "Epoch 17: val_loss did not improve from 0.23256\n",
      "211/211 [==============================] - 8s 36ms/step - loss: 0.1178 - accuracy: 0.9573 - val_loss: 0.2716 - val_accuracy: 0.9118\n",
      "Epoch 18/100\n",
      "211/211 [==============================] - ETA: 0s - loss: 0.1047 - accuracy: 0.9620\n",
      "Epoch 18: val_loss did not improve from 0.23256\n",
      "211/211 [==============================] - 7s 34ms/step - loss: 0.1047 - accuracy: 0.9620 - val_loss: 0.2628 - val_accuracy: 0.9192\n",
      "Epoch 19/100\n",
      "211/211 [==============================] - ETA: 0s - loss: 0.1019 - accuracy: 0.9612\n",
      "Epoch 19: val_loss did not improve from 0.23256\n",
      "211/211 [==============================] - 8s 36ms/step - loss: 0.1019 - accuracy: 0.9612 - val_loss: 0.2802 - val_accuracy: 0.9143\n",
      "Epoch 20/100\n",
      "211/211 [==============================] - ETA: 0s - loss: 0.0925 - accuracy: 0.9660\n",
      "Epoch 20: val_loss did not improve from 0.23256\n",
      "211/211 [==============================] - 8s 36ms/step - loss: 0.0925 - accuracy: 0.9660 - val_loss: 0.2771 - val_accuracy: 0.9162\n"
     ]
    }
   ],
   "source": [
    "#model3 (NN 3)\n",
    "\n",
    "model3 = Sequential([\n",
    "    Conv2D(256, kernel_size=(3,3), activation='relu', padding='same', input_shape=(28,28,1)),\n",
    "    MaxPooling2D(pool_size=(2,2)),\n",
    "    Conv2D(128, kernel_size=(3,3), activation='relu', padding='same'),\n",
    "    MaxPooling2D(pool_size=(2,2)),\n",
    "    Conv2D(128, kernel_size=(3,3), activation='relu', padding='same'),\n",
    "    MaxPooling2D(pool_size=(2,2)),\n",
    "    Conv2D(64, kernel_size=(3,3), activation='relu', padding='same'),\n",
    "    MaxPooling2D(pool_size=(2,2)),\n",
    "    Flatten(),\n",
    "    Dense(128,activation='relu'),\n",
    "    Dense(64,activation='relu'),\n",
    "    Dense(32,activation='relu'),\n",
    "    Dense(16,activation='relu'),\n",
    "    Dense(10,activation='softmax')\n",
    "])\n",
    "\n",
    "model3.compile(loss='categorical_crossentropy', optimizer='adam', metrics=['accuracy'])\n",
    "\n",
    "es3 = EarlyStopping(monitor='val_loss', mode='min', patience=10)\n",
    "mch3 = ModelCheckpoint(filepath=\"model3.h5\", monitor='val_loss', mode='min', verbose=1, save_best_only=True) \n",
    "\n",
    "model3.fit(X_train, Y_train, epochs=100, batch_size=256, validation_split=0.1, callbacks=[es3, mch3])\n",
    "\n",
    "model3.load_weights('model3.h5')"
   ]
  },
  {
   "cell_type": "code",
   "execution_count": null,
   "metadata": {
    "colab": {
     "base_uri": "https://localhost:8080/"
    },
    "executionInfo": {
     "elapsed": 10352,
     "status": "ok",
     "timestamp": 1654199773074,
     "user": {
      "displayName": "Grażyna Rozmysłowicz",
      "userId": "11356318807843777886"
     },
     "user_tz": -120
    },
    "id": "PGLOPn_e-riO",
    "outputId": "4c52d072-1959-4561-cda1-e695499a52e3"
   },
   "outputs": [
    {
     "name": "stdout",
     "output_type": "stream",
     "text": [
      "313/313 [==============================] - 1s 4ms/step - loss: 0.2503 - accuracy: 0.9126\n",
      "1875/1875 [==============================] - 8s 4ms/step - loss: 0.1694 - accuracy: 0.9395\n"
     ]
    }
   ],
   "source": [
    "m3_eval_test = model3.evaluate(X_test, Y_test)[1] #accuracy\n",
    "m3_eval_train = model3.evaluate(X_train, Y_train)[1] "
   ]
  },
  {
   "cell_type": "markdown",
   "metadata": {
    "id": "cs68EC2T_VnG"
   },
   "source": [
    "**Summary**"
   ]
  },
  {
   "cell_type": "code",
   "execution_count": null,
   "metadata": {
    "colab": {
     "base_uri": "https://localhost:8080/"
    },
    "executionInfo": {
     "elapsed": 6564,
     "status": "ok",
     "timestamp": 1654200032183,
     "user": {
      "displayName": "Grażyna Rozmysłowicz",
      "userId": "11356318807843777886"
     },
     "user_tz": -120
    },
    "id": "VX6vv3g5_XZF",
    "outputId": "beef6502-c008-40a9-abe9-ea4860035499"
   },
   "outputs": [
    {
     "name": "stdout",
     "output_type": "stream",
     "text": [
      "Model 1:\n",
      "- accuracy (test set):  0.9107999801635742\n",
      "- accuracy (train set):  0.9353500008583069\n",
      "\n",
      "\n",
      "Model 2:\n",
      "- accuracy (test set):  0.9210000038146973\n",
      "- accuracy (train set):  0.9682000279426575\n",
      "\n",
      "\n",
      "Model 3:\n",
      "- accuracy (test set):  0.9125999808311462\n",
      "- accuracy (train set):  0.93954998254776\n",
      "\n",
      "\n",
      "Model 0:\n",
      "313/313 [==============================] - 1s 3ms/step - loss: 0.5693 - accuracy: 0.9009\n",
      "- accuracy (test set):  0.9009000062942505\n",
      "1875/1875 [==============================] - 5s 3ms/step - loss: 0.0575 - accuracy: 0.9849\n",
      "- accuracy (train set):  0.9848999977111816\n"
     ]
    }
   ],
   "source": [
    "print('Model 1:')\n",
    "print('- accuracy (test set): ', m1_eval_test)\n",
    "print('- accuracy (train set): ', m1_eval_train)\n",
    "print('\\n')\n",
    "print('Model 2:')\n",
    "print('- accuracy (test set): ', m2_eval_test)\n",
    "print('- accuracy (train set): ', m2_eval_train)\n",
    "print('\\n')\n",
    "print('Model 3:')\n",
    "print('- accuracy (test set): ', m3_eval_test)\n",
    "print('- accuracy (train set): ', m3_eval_train)\n",
    "print('\\n')\n",
    "print('Model 0:')\n",
    "print('- accuracy (test set): ', model.evaluate(X_test, Y_test)[1])\n",
    "print('- accuracy (train set): ', model.evaluate(X_train, Y_train)[1])"
   ]
  }
 ],
 "metadata": {
  "accelerator": "GPU",
  "colab": {
   "collapsed_sections": [],
   "provenance": [],
   "toc_visible": true
  },
  "kernelspec": {
   "display_name": "Python 3",
   "language": "python",
   "name": "python3"
  },
  "language_info": {
   "codemirror_mode": {
    "name": "ipython",
    "version": 3
   },
   "file_extension": ".py",
   "mimetype": "text/x-python",
   "name": "python",
   "nbconvert_exporter": "python",
   "pygments_lexer": "ipython3",
   "version": "3.8.5"
  }
 },
 "nbformat": 4,
 "nbformat_minor": 1
}
