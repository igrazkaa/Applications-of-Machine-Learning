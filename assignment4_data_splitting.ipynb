{
 "cells": [
  {
   "cell_type": "markdown",
   "metadata": {
    "id": "yIIrmjGE-Fee"
   },
   "source": [
    "### Test data splitting and quality measures\n",
    "\n",
    "[1. Introduction](#1.-Introduction) <br>\n",
    "[2. Data splitting](#2.-Data-splitting) <br>\n",
    "[3. Cross-validation](#3.-Cross-validation)<br>\n",
    "[4. ROC and AUC](#4.-ROC-and-AUC)<br>\n",
    "<br>\n",
    "[Task 1 - multi-label classification](#Task-1---multi-label-classification)<br>\n",
    "[Task 2 - hyperparameter optimisation ](#Task-2---hyperparameter-optimisation)<br> \n",
    "\n",
    "<br>\n",
    "\n",
    "#### 1. Introduction \n",
    "\n",
    "Run the following code."
   ]
  },
  {
   "cell_type": "code",
   "execution_count": 1,
   "metadata": {
    "colab": {
     "base_uri": "https://localhost:8080/"
    },
    "executionInfo": {
     "elapsed": 12,
     "status": "ok",
     "timestamp": 1662561139714,
     "user": {
      "displayName": "Grażyna Rozmysłowicz",
      "userId": "11356318807843777886"
     },
     "user_tz": -120
    },
    "id": "6I9j1MNC60uY",
    "outputId": "8c5164e4-742a-4dba-9d68-139d357cb77c"
   },
   "outputs": [
    {
     "name": "stdout",
     "output_type": "stream",
     "text": [
      "Populating the interactive namespace from numpy and matplotlib\n"
     ]
    }
   ],
   "source": [
    "import warnings\n",
    "warnings.filterwarnings(\"ignore\", category=FutureWarning) \n",
    "warnings.filterwarnings(\"ignore\", category=RuntimeWarning)  \n",
    "%pylab inline"
   ]
  },
  {
   "cell_type": "markdown",
   "metadata": {
    "id": "HmARYkEC-Cj_"
   },
   "source": [
    "Let's start by reading the dataset from the `sklearn.datasets` library. Save the result of the `load_breast_cancer` function to a variable."
   ]
  },
  {
   "cell_type": "code",
   "execution_count": 2,
   "metadata": {
    "colab": {
     "base_uri": "https://localhost:8080/",
     "height": 334
    },
    "executionInfo": {
     "elapsed": 1935,
     "status": "ok",
     "timestamp": 1662561145806,
     "user": {
      "displayName": "Grażyna Rozmysłowicz",
      "userId": "11356318807843777886"
     },
     "user_tz": -120
    },
    "id": "Ntz-Nng9Oi0p",
    "outputId": "ad6739fa-8046-4a74-bba8-eb4b43aabe39"
   },
   "outputs": [
    {
     "data": {
      "text/html": [
       "\n",
       "  <div id=\"df-5f959826-ae48-4a76-8d5c-c56721237b05\">\n",
       "    <div class=\"colab-df-container\">\n",
       "      <div>\n",
       "<style scoped>\n",
       "    .dataframe tbody tr th:only-of-type {\n",
       "        vertical-align: middle;\n",
       "    }\n",
       "\n",
       "    .dataframe tbody tr th {\n",
       "        vertical-align: top;\n",
       "    }\n",
       "\n",
       "    .dataframe thead th {\n",
       "        text-align: right;\n",
       "    }\n",
       "</style>\n",
       "<table border=\"1\" class=\"dataframe\">\n",
       "  <thead>\n",
       "    <tr style=\"text-align: right;\">\n",
       "      <th></th>\n",
       "      <th>mean radius</th>\n",
       "      <th>mean texture</th>\n",
       "      <th>mean perimeter</th>\n",
       "      <th>mean area</th>\n",
       "      <th>mean smoothness</th>\n",
       "      <th>mean compactness</th>\n",
       "      <th>mean concavity</th>\n",
       "      <th>mean concave points</th>\n",
       "      <th>mean symmetry</th>\n",
       "      <th>mean fractal dimension</th>\n",
       "      <th>...</th>\n",
       "      <th>worst radius</th>\n",
       "      <th>worst texture</th>\n",
       "      <th>worst perimeter</th>\n",
       "      <th>worst area</th>\n",
       "      <th>worst smoothness</th>\n",
       "      <th>worst compactness</th>\n",
       "      <th>worst concavity</th>\n",
       "      <th>worst concave points</th>\n",
       "      <th>worst symmetry</th>\n",
       "      <th>worst fractal dimension</th>\n",
       "    </tr>\n",
       "  </thead>\n",
       "  <tbody>\n",
       "    <tr>\n",
       "      <th>0</th>\n",
       "      <td>17.99</td>\n",
       "      <td>10.38</td>\n",
       "      <td>122.80</td>\n",
       "      <td>1001.0</td>\n",
       "      <td>0.11840</td>\n",
       "      <td>0.27760</td>\n",
       "      <td>0.3001</td>\n",
       "      <td>0.14710</td>\n",
       "      <td>0.2419</td>\n",
       "      <td>0.07871</td>\n",
       "      <td>...</td>\n",
       "      <td>25.38</td>\n",
       "      <td>17.33</td>\n",
       "      <td>184.60</td>\n",
       "      <td>2019.0</td>\n",
       "      <td>0.1622</td>\n",
       "      <td>0.6656</td>\n",
       "      <td>0.7119</td>\n",
       "      <td>0.2654</td>\n",
       "      <td>0.4601</td>\n",
       "      <td>0.11890</td>\n",
       "    </tr>\n",
       "    <tr>\n",
       "      <th>1</th>\n",
       "      <td>20.57</td>\n",
       "      <td>17.77</td>\n",
       "      <td>132.90</td>\n",
       "      <td>1326.0</td>\n",
       "      <td>0.08474</td>\n",
       "      <td>0.07864</td>\n",
       "      <td>0.0869</td>\n",
       "      <td>0.07017</td>\n",
       "      <td>0.1812</td>\n",
       "      <td>0.05667</td>\n",
       "      <td>...</td>\n",
       "      <td>24.99</td>\n",
       "      <td>23.41</td>\n",
       "      <td>158.80</td>\n",
       "      <td>1956.0</td>\n",
       "      <td>0.1238</td>\n",
       "      <td>0.1866</td>\n",
       "      <td>0.2416</td>\n",
       "      <td>0.1860</td>\n",
       "      <td>0.2750</td>\n",
       "      <td>0.08902</td>\n",
       "    </tr>\n",
       "    <tr>\n",
       "      <th>2</th>\n",
       "      <td>19.69</td>\n",
       "      <td>21.25</td>\n",
       "      <td>130.00</td>\n",
       "      <td>1203.0</td>\n",
       "      <td>0.10960</td>\n",
       "      <td>0.15990</td>\n",
       "      <td>0.1974</td>\n",
       "      <td>0.12790</td>\n",
       "      <td>0.2069</td>\n",
       "      <td>0.05999</td>\n",
       "      <td>...</td>\n",
       "      <td>23.57</td>\n",
       "      <td>25.53</td>\n",
       "      <td>152.50</td>\n",
       "      <td>1709.0</td>\n",
       "      <td>0.1444</td>\n",
       "      <td>0.4245</td>\n",
       "      <td>0.4504</td>\n",
       "      <td>0.2430</td>\n",
       "      <td>0.3613</td>\n",
       "      <td>0.08758</td>\n",
       "    </tr>\n",
       "    <tr>\n",
       "      <th>3</th>\n",
       "      <td>11.42</td>\n",
       "      <td>20.38</td>\n",
       "      <td>77.58</td>\n",
       "      <td>386.1</td>\n",
       "      <td>0.14250</td>\n",
       "      <td>0.28390</td>\n",
       "      <td>0.2414</td>\n",
       "      <td>0.10520</td>\n",
       "      <td>0.2597</td>\n",
       "      <td>0.09744</td>\n",
       "      <td>...</td>\n",
       "      <td>14.91</td>\n",
       "      <td>26.50</td>\n",
       "      <td>98.87</td>\n",
       "      <td>567.7</td>\n",
       "      <td>0.2098</td>\n",
       "      <td>0.8663</td>\n",
       "      <td>0.6869</td>\n",
       "      <td>0.2575</td>\n",
       "      <td>0.6638</td>\n",
       "      <td>0.17300</td>\n",
       "    </tr>\n",
       "    <tr>\n",
       "      <th>4</th>\n",
       "      <td>20.29</td>\n",
       "      <td>14.34</td>\n",
       "      <td>135.10</td>\n",
       "      <td>1297.0</td>\n",
       "      <td>0.10030</td>\n",
       "      <td>0.13280</td>\n",
       "      <td>0.1980</td>\n",
       "      <td>0.10430</td>\n",
       "      <td>0.1809</td>\n",
       "      <td>0.05883</td>\n",
       "      <td>...</td>\n",
       "      <td>22.54</td>\n",
       "      <td>16.67</td>\n",
       "      <td>152.20</td>\n",
       "      <td>1575.0</td>\n",
       "      <td>0.1374</td>\n",
       "      <td>0.2050</td>\n",
       "      <td>0.4000</td>\n",
       "      <td>0.1625</td>\n",
       "      <td>0.2364</td>\n",
       "      <td>0.07678</td>\n",
       "    </tr>\n",
       "  </tbody>\n",
       "</table>\n",
       "<p>5 rows × 30 columns</p>\n",
       "</div>\n",
       "      <button class=\"colab-df-convert\" onclick=\"convertToInteractive('df-5f959826-ae48-4a76-8d5c-c56721237b05')\"\n",
       "              title=\"Convert this dataframe to an interactive table.\"\n",
       "              style=\"display:none;\">\n",
       "        \n",
       "  <svg xmlns=\"http://www.w3.org/2000/svg\" height=\"24px\"viewBox=\"0 0 24 24\"\n",
       "       width=\"24px\">\n",
       "    <path d=\"M0 0h24v24H0V0z\" fill=\"none\"/>\n",
       "    <path d=\"M18.56 5.44l.94 2.06.94-2.06 2.06-.94-2.06-.94-.94-2.06-.94 2.06-2.06.94zm-11 1L8.5 8.5l.94-2.06 2.06-.94-2.06-.94L8.5 2.5l-.94 2.06-2.06.94zm10 10l.94 2.06.94-2.06 2.06-.94-2.06-.94-.94-2.06-.94 2.06-2.06.94z\"/><path d=\"M17.41 7.96l-1.37-1.37c-.4-.4-.92-.59-1.43-.59-.52 0-1.04.2-1.43.59L10.3 9.45l-7.72 7.72c-.78.78-.78 2.05 0 2.83L4 21.41c.39.39.9.59 1.41.59.51 0 1.02-.2 1.41-.59l7.78-7.78 2.81-2.81c.8-.78.8-2.07 0-2.86zM5.41 20L4 18.59l7.72-7.72 1.47 1.35L5.41 20z\"/>\n",
       "  </svg>\n",
       "      </button>\n",
       "      \n",
       "  <style>\n",
       "    .colab-df-container {\n",
       "      display:flex;\n",
       "      flex-wrap:wrap;\n",
       "      gap: 12px;\n",
       "    }\n",
       "\n",
       "    .colab-df-convert {\n",
       "      background-color: #E8F0FE;\n",
       "      border: none;\n",
       "      border-radius: 50%;\n",
       "      cursor: pointer;\n",
       "      display: none;\n",
       "      fill: #1967D2;\n",
       "      height: 32px;\n",
       "      padding: 0 0 0 0;\n",
       "      width: 32px;\n",
       "    }\n",
       "\n",
       "    .colab-df-convert:hover {\n",
       "      background-color: #E2EBFA;\n",
       "      box-shadow: 0px 1px 2px rgba(60, 64, 67, 0.3), 0px 1px 3px 1px rgba(60, 64, 67, 0.15);\n",
       "      fill: #174EA6;\n",
       "    }\n",
       "\n",
       "    [theme=dark] .colab-df-convert {\n",
       "      background-color: #3B4455;\n",
       "      fill: #D2E3FC;\n",
       "    }\n",
       "\n",
       "    [theme=dark] .colab-df-convert:hover {\n",
       "      background-color: #434B5C;\n",
       "      box-shadow: 0px 1px 3px 1px rgba(0, 0, 0, 0.15);\n",
       "      filter: drop-shadow(0px 1px 2px rgba(0, 0, 0, 0.3));\n",
       "      fill: #FFFFFF;\n",
       "    }\n",
       "  </style>\n",
       "\n",
       "      <script>\n",
       "        const buttonEl =\n",
       "          document.querySelector('#df-5f959826-ae48-4a76-8d5c-c56721237b05 button.colab-df-convert');\n",
       "        buttonEl.style.display =\n",
       "          google.colab.kernel.accessAllowed ? 'block' : 'none';\n",
       "\n",
       "        async function convertToInteractive(key) {\n",
       "          const element = document.querySelector('#df-5f959826-ae48-4a76-8d5c-c56721237b05');\n",
       "          const dataTable =\n",
       "            await google.colab.kernel.invokeFunction('convertToInteractive',\n",
       "                                                     [key], {});\n",
       "          if (!dataTable) return;\n",
       "\n",
       "          const docLinkHtml = 'Like what you see? Visit the ' +\n",
       "            '<a target=\"_blank\" href=https://colab.research.google.com/notebooks/data_table.ipynb>data table notebook</a>'\n",
       "            + ' to learn more about interactive tables.';\n",
       "          element.innerHTML = '';\n",
       "          dataTable['output_type'] = 'display_data';\n",
       "          await google.colab.output.renderOutput(dataTable, element);\n",
       "          const docLink = document.createElement('div');\n",
       "          docLink.innerHTML = docLinkHtml;\n",
       "          element.appendChild(docLink);\n",
       "        }\n",
       "      </script>\n",
       "    </div>\n",
       "  </div>\n",
       "  "
      ],
      "text/plain": [
       "   mean radius  mean texture  mean perimeter  mean area  mean smoothness  \\\n",
       "0        17.99         10.38          122.80     1001.0          0.11840   \n",
       "1        20.57         17.77          132.90     1326.0          0.08474   \n",
       "2        19.69         21.25          130.00     1203.0          0.10960   \n",
       "3        11.42         20.38           77.58      386.1          0.14250   \n",
       "4        20.29         14.34          135.10     1297.0          0.10030   \n",
       "\n",
       "   mean compactness  mean concavity  mean concave points  mean symmetry  \\\n",
       "0           0.27760          0.3001              0.14710         0.2419   \n",
       "1           0.07864          0.0869              0.07017         0.1812   \n",
       "2           0.15990          0.1974              0.12790         0.2069   \n",
       "3           0.28390          0.2414              0.10520         0.2597   \n",
       "4           0.13280          0.1980              0.10430         0.1809   \n",
       "\n",
       "   mean fractal dimension  ...  worst radius  worst texture  worst perimeter  \\\n",
       "0                 0.07871  ...         25.38          17.33           184.60   \n",
       "1                 0.05667  ...         24.99          23.41           158.80   \n",
       "2                 0.05999  ...         23.57          25.53           152.50   \n",
       "3                 0.09744  ...         14.91          26.50            98.87   \n",
       "4                 0.05883  ...         22.54          16.67           152.20   \n",
       "\n",
       "   worst area  worst smoothness  worst compactness  worst concavity  \\\n",
       "0      2019.0            0.1622             0.6656           0.7119   \n",
       "1      1956.0            0.1238             0.1866           0.2416   \n",
       "2      1709.0            0.1444             0.4245           0.4504   \n",
       "3       567.7            0.2098             0.8663           0.6869   \n",
       "4      1575.0            0.1374             0.2050           0.4000   \n",
       "\n",
       "   worst concave points  worst symmetry  worst fractal dimension  \n",
       "0                0.2654          0.4601                  0.11890  \n",
       "1                0.1860          0.2750                  0.08902  \n",
       "2                0.2430          0.3613                  0.08758  \n",
       "3                0.2575          0.6638                  0.17300  \n",
       "4                0.1625          0.2364                  0.07678  \n",
       "\n",
       "[5 rows x 30 columns]"
      ]
     },
     "execution_count": 2,
     "metadata": {},
     "output_type": "execute_result"
    }
   ],
   "source": [
    "from sklearn.datasets import load_breast_cancer\n",
    "import pandas as pd\n",
    "\n",
    "data = load_breast_cancer()\n",
    "pd.DataFrame(data.data, columns=data.feature_names).head()"
   ]
  },
  {
   "cell_type": "code",
   "execution_count": 3,
   "metadata": {
    "colab": {
     "base_uri": "https://localhost:8080/",
     "height": 206
    },
    "executionInfo": {
     "elapsed": 824,
     "status": "ok",
     "timestamp": 1662561154307,
     "user": {
      "displayName": "Grażyna Rozmysłowicz",
      "userId": "11356318807843777886"
     },
     "user_tz": -120
    },
    "id": "_vUwapqHUJwJ",
    "outputId": "62dad4bc-1d8a-4f02-d138-0f5c74e71fea"
   },
   "outputs": [
    {
     "data": {
      "text/html": [
       "\n",
       "  <div id=\"df-0db1a2c3-d468-4386-b438-e80a70f5c27b\">\n",
       "    <div class=\"colab-df-container\">\n",
       "      <div>\n",
       "<style scoped>\n",
       "    .dataframe tbody tr th:only-of-type {\n",
       "        vertical-align: middle;\n",
       "    }\n",
       "\n",
       "    .dataframe tbody tr th {\n",
       "        vertical-align: top;\n",
       "    }\n",
       "\n",
       "    .dataframe thead th {\n",
       "        text-align: right;\n",
       "    }\n",
       "</style>\n",
       "<table border=\"1\" class=\"dataframe\">\n",
       "  <thead>\n",
       "    <tr style=\"text-align: right;\">\n",
       "      <th></th>\n",
       "      <th>0</th>\n",
       "    </tr>\n",
       "  </thead>\n",
       "  <tbody>\n",
       "    <tr>\n",
       "      <th>0</th>\n",
       "      <td>0</td>\n",
       "    </tr>\n",
       "    <tr>\n",
       "      <th>1</th>\n",
       "      <td>0</td>\n",
       "    </tr>\n",
       "    <tr>\n",
       "      <th>2</th>\n",
       "      <td>0</td>\n",
       "    </tr>\n",
       "    <tr>\n",
       "      <th>3</th>\n",
       "      <td>0</td>\n",
       "    </tr>\n",
       "    <tr>\n",
       "      <th>4</th>\n",
       "      <td>0</td>\n",
       "    </tr>\n",
       "  </tbody>\n",
       "</table>\n",
       "</div>\n",
       "      <button class=\"colab-df-convert\" onclick=\"convertToInteractive('df-0db1a2c3-d468-4386-b438-e80a70f5c27b')\"\n",
       "              title=\"Convert this dataframe to an interactive table.\"\n",
       "              style=\"display:none;\">\n",
       "        \n",
       "  <svg xmlns=\"http://www.w3.org/2000/svg\" height=\"24px\"viewBox=\"0 0 24 24\"\n",
       "       width=\"24px\">\n",
       "    <path d=\"M0 0h24v24H0V0z\" fill=\"none\"/>\n",
       "    <path d=\"M18.56 5.44l.94 2.06.94-2.06 2.06-.94-2.06-.94-.94-2.06-.94 2.06-2.06.94zm-11 1L8.5 8.5l.94-2.06 2.06-.94-2.06-.94L8.5 2.5l-.94 2.06-2.06.94zm10 10l.94 2.06.94-2.06 2.06-.94-2.06-.94-.94-2.06-.94 2.06-2.06.94z\"/><path d=\"M17.41 7.96l-1.37-1.37c-.4-.4-.92-.59-1.43-.59-.52 0-1.04.2-1.43.59L10.3 9.45l-7.72 7.72c-.78.78-.78 2.05 0 2.83L4 21.41c.39.39.9.59 1.41.59.51 0 1.02-.2 1.41-.59l7.78-7.78 2.81-2.81c.8-.78.8-2.07 0-2.86zM5.41 20L4 18.59l7.72-7.72 1.47 1.35L5.41 20z\"/>\n",
       "  </svg>\n",
       "      </button>\n",
       "      \n",
       "  <style>\n",
       "    .colab-df-container {\n",
       "      display:flex;\n",
       "      flex-wrap:wrap;\n",
       "      gap: 12px;\n",
       "    }\n",
       "\n",
       "    .colab-df-convert {\n",
       "      background-color: #E8F0FE;\n",
       "      border: none;\n",
       "      border-radius: 50%;\n",
       "      cursor: pointer;\n",
       "      display: none;\n",
       "      fill: #1967D2;\n",
       "      height: 32px;\n",
       "      padding: 0 0 0 0;\n",
       "      width: 32px;\n",
       "    }\n",
       "\n",
       "    .colab-df-convert:hover {\n",
       "      background-color: #E2EBFA;\n",
       "      box-shadow: 0px 1px 2px rgba(60, 64, 67, 0.3), 0px 1px 3px 1px rgba(60, 64, 67, 0.15);\n",
       "      fill: #174EA6;\n",
       "    }\n",
       "\n",
       "    [theme=dark] .colab-df-convert {\n",
       "      background-color: #3B4455;\n",
       "      fill: #D2E3FC;\n",
       "    }\n",
       "\n",
       "    [theme=dark] .colab-df-convert:hover {\n",
       "      background-color: #434B5C;\n",
       "      box-shadow: 0px 1px 3px 1px rgba(0, 0, 0, 0.15);\n",
       "      filter: drop-shadow(0px 1px 2px rgba(0, 0, 0, 0.3));\n",
       "      fill: #FFFFFF;\n",
       "    }\n",
       "  </style>\n",
       "\n",
       "      <script>\n",
       "        const buttonEl =\n",
       "          document.querySelector('#df-0db1a2c3-d468-4386-b438-e80a70f5c27b button.colab-df-convert');\n",
       "        buttonEl.style.display =\n",
       "          google.colab.kernel.accessAllowed ? 'block' : 'none';\n",
       "\n",
       "        async function convertToInteractive(key) {\n",
       "          const element = document.querySelector('#df-0db1a2c3-d468-4386-b438-e80a70f5c27b');\n",
       "          const dataTable =\n",
       "            await google.colab.kernel.invokeFunction('convertToInteractive',\n",
       "                                                     [key], {});\n",
       "          if (!dataTable) return;\n",
       "\n",
       "          const docLinkHtml = 'Like what you see? Visit the ' +\n",
       "            '<a target=\"_blank\" href=https://colab.research.google.com/notebooks/data_table.ipynb>data table notebook</a>'\n",
       "            + ' to learn more about interactive tables.';\n",
       "          element.innerHTML = '';\n",
       "          dataTable['output_type'] = 'display_data';\n",
       "          await google.colab.output.renderOutput(dataTable, element);\n",
       "          const docLink = document.createElement('div');\n",
       "          docLink.innerHTML = docLinkHtml;\n",
       "          element.appendChild(docLink);\n",
       "        }\n",
       "      </script>\n",
       "    </div>\n",
       "  </div>\n",
       "  "
      ],
      "text/plain": [
       "   0\n",
       "0  0\n",
       "1  0\n",
       "2  0\n",
       "3  0\n",
       "4  0"
      ]
     },
     "execution_count": 3,
     "metadata": {},
     "output_type": "execute_result"
    }
   ],
   "source": [
    "pd.DataFrame(data.target).head()"
   ]
  },
  {
   "cell_type": "markdown",
   "metadata": {
    "id": "2ehB8jor-kf2"
   },
   "source": [
    "List all `keys()` members of the set."
   ]
  },
  {
   "cell_type": "code",
   "execution_count": 4,
   "metadata": {
    "colab": {
     "base_uri": "https://localhost:8080/"
    },
    "executionInfo": {
     "elapsed": 734,
     "status": "ok",
     "timestamp": 1662561239481,
     "user": {
      "displayName": "Grażyna Rozmysłowicz",
      "userId": "11356318807843777886"
     },
     "user_tz": -120
    },
    "id": "Nt6oOEYRPGkQ",
    "outputId": "e59f5d77-e218-4810-ee5a-9fcf6c7e3d80"
   },
   "outputs": [
    {
     "name": "stdout",
     "output_type": "stream",
     "text": [
      "dict_keys(['data', 'target', 'frame', 'target_names', 'DESCR', 'feature_names', 'filename', 'data_module'])\n"
     ]
    }
   ],
   "source": [
    "print(data.keys())"
   ]
  },
  {
   "cell_type": "markdown",
   "metadata": {
    "id": "VNrE4rE_-r5l"
   },
   "source": [
    "Let's see the `DESCR` component."
   ]
  },
  {
   "cell_type": "code",
   "execution_count": 5,
   "metadata": {
    "colab": {
     "base_uri": "https://localhost:8080/"
    },
    "executionInfo": {
     "elapsed": 276,
     "status": "ok",
     "timestamp": 1662561267336,
     "user": {
      "displayName": "Grażyna Rozmysłowicz",
      "userId": "11356318807843777886"
     },
     "user_tz": -120
    },
    "id": "u9LwcsQ_PHPi",
    "outputId": "be4467ce-990f-4142-f276-6a93b023f620"
   },
   "outputs": [
    {
     "name": "stdout",
     "output_type": "stream",
     "text": [
      ".. _breast_cancer_dataset:\n",
      "\n",
      "Breast cancer wisconsin (diagnostic) dataset\n",
      "--------------------------------------------\n",
      "\n",
      "**Data Set Characteristics:**\n",
      "\n",
      "    :Number of Instances: 569\n",
      "\n",
      "    :Number of Attributes: 30 numeric, predictive attributes and the class\n",
      "\n",
      "    :Attribute Information:\n",
      "        - radius (mean of distances from center to points on the perimeter)\n",
      "        - texture (standard deviation of gray-scale values)\n",
      "        - perimeter\n",
      "        - area\n",
      "        - smoothness (local variation in radius lengths)\n",
      "        - compactness (perimeter^2 / area - 1.0)\n",
      "        - concavity (severity of concave portions of the contour)\n",
      "        - concave points (number of concave portions of the contour)\n",
      "        - symmetry\n",
      "        - fractal dimension (\"coastline approximation\" - 1)\n",
      "\n",
      "        The mean, standard error, and \"worst\" or largest (mean of the three\n",
      "        worst/largest values) of these features were computed for each image,\n",
      "        resulting in 30 features.  For instance, field 0 is Mean Radius, field\n",
      "        10 is Radius SE, field 20 is Worst Radius.\n",
      "\n",
      "        - class:\n",
      "                - WDBC-Malignant\n",
      "                - WDBC-Benign\n",
      "\n",
      "    :Summary Statistics:\n",
      "\n",
      "    ===================================== ====== ======\n",
      "                                           Min    Max\n",
      "    ===================================== ====== ======\n",
      "    radius (mean):                        6.981  28.11\n",
      "    texture (mean):                       9.71   39.28\n",
      "    perimeter (mean):                     43.79  188.5\n",
      "    area (mean):                          143.5  2501.0\n",
      "    smoothness (mean):                    0.053  0.163\n",
      "    compactness (mean):                   0.019  0.345\n",
      "    concavity (mean):                     0.0    0.427\n",
      "    concave points (mean):                0.0    0.201\n",
      "    symmetry (mean):                      0.106  0.304\n",
      "    fractal dimension (mean):             0.05   0.097\n",
      "    radius (standard error):              0.112  2.873\n",
      "    texture (standard error):             0.36   4.885\n",
      "    perimeter (standard error):           0.757  21.98\n",
      "    area (standard error):                6.802  542.2\n",
      "    smoothness (standard error):          0.002  0.031\n",
      "    compactness (standard error):         0.002  0.135\n",
      "    concavity (standard error):           0.0    0.396\n",
      "    concave points (standard error):      0.0    0.053\n",
      "    symmetry (standard error):            0.008  0.079\n",
      "    fractal dimension (standard error):   0.001  0.03\n",
      "    radius (worst):                       7.93   36.04\n",
      "    texture (worst):                      12.02  49.54\n",
      "    perimeter (worst):                    50.41  251.2\n",
      "    area (worst):                         185.2  4254.0\n",
      "    smoothness (worst):                   0.071  0.223\n",
      "    compactness (worst):                  0.027  1.058\n",
      "    concavity (worst):                    0.0    1.252\n",
      "    concave points (worst):               0.0    0.291\n",
      "    symmetry (worst):                     0.156  0.664\n",
      "    fractal dimension (worst):            0.055  0.208\n",
      "    ===================================== ====== ======\n",
      "\n",
      "    :Missing Attribute Values: None\n",
      "\n",
      "    :Class Distribution: 212 - Malignant, 357 - Benign\n",
      "\n",
      "    :Creator:  Dr. William H. Wolberg, W. Nick Street, Olvi L. Mangasarian\n",
      "\n",
      "    :Donor: Nick Street\n",
      "\n",
      "    :Date: November, 1995\n",
      "\n",
      "This is a copy of UCI ML Breast Cancer Wisconsin (Diagnostic) datasets.\n",
      "https://goo.gl/U2Uwz2\n",
      "\n",
      "Features are computed from a digitized image of a fine needle\n",
      "aspirate (FNA) of a breast mass.  They describe\n",
      "characteristics of the cell nuclei present in the image.\n",
      "\n",
      "Separating plane described above was obtained using\n",
      "Multisurface Method-Tree (MSM-T) [K. P. Bennett, \"Decision Tree\n",
      "Construction Via Linear Programming.\" Proceedings of the 4th\n",
      "Midwest Artificial Intelligence and Cognitive Science Society,\n",
      "pp. 97-101, 1992], a classification method which uses linear\n",
      "programming to construct a decision tree.  Relevant features\n",
      "were selected using an exhaustive search in the space of 1-4\n",
      "features and 1-3 separating planes.\n",
      "\n",
      "The actual linear program used to obtain the separating plane\n",
      "in the 3-dimensional space is that described in:\n",
      "[K. P. Bennett and O. L. Mangasarian: \"Robust Linear\n",
      "Programming Discrimination of Two Linearly Inseparable Sets\",\n",
      "Optimization Methods and Software 1, 1992, 23-34].\n",
      "\n",
      "This database is also available through the UW CS ftp server:\n",
      "\n",
      "ftp ftp.cs.wisc.edu\n",
      "cd math-prog/cpo-dataset/machine-learn/WDBC/\n",
      "\n",
      ".. topic:: References\n",
      "\n",
      "   - W.N. Street, W.H. Wolberg and O.L. Mangasarian. Nuclear feature extraction \n",
      "     for breast tumor diagnosis. IS&T/SPIE 1993 International Symposium on \n",
      "     Electronic Imaging: Science and Technology, volume 1905, pages 861-870,\n",
      "     San Jose, CA, 1993.\n",
      "   - O.L. Mangasarian, W.N. Street and W.H. Wolberg. Breast cancer diagnosis and \n",
      "     prognosis via linear programming. Operations Research, 43(4), pages 570-577, \n",
      "     July-August 1995.\n",
      "   - W.H. Wolberg, W.N. Street, and O.L. Mangasarian. Machine learning techniques\n",
      "     to diagnose breast cancer from fine-needle aspirates. Cancer Letters 77 (1994) \n",
      "     163-171.\n"
     ]
    }
   ],
   "source": [
    "print(data.DESCR)"
   ]
  },
  {
   "cell_type": "markdown",
   "metadata": {
    "id": "x20SpfQW-yC6"
   },
   "source": [
    "It is a collection intended for binary classification of real numerical data. <br>\n",
    "Display names of features (`feature_names`) and classes (`target_names`)."
   ]
  },
  {
   "cell_type": "code",
   "execution_count": 6,
   "metadata": {
    "colab": {
     "base_uri": "https://localhost:8080/"
    },
    "executionInfo": {
     "elapsed": 291,
     "status": "ok",
     "timestamp": 1662561337947,
     "user": {
      "displayName": "Grażyna Rozmysłowicz",
      "userId": "11356318807843777886"
     },
     "user_tz": -120
    },
    "id": "Xdobxsx4PWfk",
    "outputId": "a1c7ad14-1dd6-49a7-b19b-efb9ceac3729"
   },
   "outputs": [
    {
     "data": {
      "text/plain": [
       "['mean radius',\n",
       " 'mean texture',\n",
       " 'mean perimeter',\n",
       " 'mean area',\n",
       " 'mean smoothness',\n",
       " 'mean compactness',\n",
       " 'mean concavity',\n",
       " 'mean concave points',\n",
       " 'mean symmetry',\n",
       " 'mean fractal dimension',\n",
       " 'radius error',\n",
       " 'texture error',\n",
       " 'perimeter error',\n",
       " 'area error',\n",
       " 'smoothness error',\n",
       " 'compactness error',\n",
       " 'concavity error',\n",
       " 'concave points error',\n",
       " 'symmetry error',\n",
       " 'fractal dimension error',\n",
       " 'worst radius',\n",
       " 'worst texture',\n",
       " 'worst perimeter',\n",
       " 'worst area',\n",
       " 'worst smoothness',\n",
       " 'worst compactness',\n",
       " 'worst concavity',\n",
       " 'worst concave points',\n",
       " 'worst symmetry',\n",
       " 'worst fractal dimension']"
      ]
     },
     "execution_count": 6,
     "metadata": {},
     "output_type": "execute_result"
    }
   ],
   "source": [
    "list(data.feature_names)"
   ]
  },
  {
   "cell_type": "code",
   "execution_count": 7,
   "metadata": {
    "colab": {
     "base_uri": "https://localhost:8080/"
    },
    "executionInfo": {
     "elapsed": 310,
     "status": "ok",
     "timestamp": 1662561342212,
     "user": {
      "displayName": "Grażyna Rozmysłowicz",
      "userId": "11356318807843777886"
     },
     "user_tz": -120
    },
    "id": "0yICwS7JUJwg",
    "outputId": "f8ebce27-ff3f-4d04-eb77-5ac69da7f49c"
   },
   "outputs": [
    {
     "data": {
      "text/plain": [
       "['malignant', 'benign']"
      ]
     },
     "execution_count": 7,
     "metadata": {},
     "output_type": "execute_result"
    }
   ],
   "source": [
    "list(data.target_names)"
   ]
  },
  {
   "cell_type": "markdown",
   "metadata": {
    "id": "5RT6lDh5-_qA"
   },
   "source": [
    "Display sizes of data arrays (`data`) and classes (`target`)."
   ]
  },
  {
   "cell_type": "code",
   "execution_count": 8,
   "metadata": {
    "colab": {
     "base_uri": "https://localhost:8080/"
    },
    "executionInfo": {
     "elapsed": 310,
     "status": "ok",
     "timestamp": 1662561575502,
     "user": {
      "displayName": "Grażyna Rozmysłowicz",
      "userId": "11356318807843777886"
     },
     "user_tz": -120
    },
    "id": "Arsm2cE-UJwo",
    "outputId": "4daba18c-3dbf-4dd8-f6b8-1925376a27f5"
   },
   "outputs": [
    {
     "name": "stdout",
     "output_type": "stream",
     "text": [
      "(569, 30)\n",
      "(569,)\n"
     ]
    }
   ],
   "source": [
    "print(data.data.shape)\n",
    "print(data.target.shape)"
   ]
  },
  {
   "cell_type": "code",
   "execution_count": 9,
   "metadata": {
    "colab": {
     "base_uri": "https://localhost:8080/"
    },
    "executionInfo": {
     "elapsed": 257,
     "status": "ok",
     "timestamp": 1662561579783,
     "user": {
      "displayName": "Grażyna Rozmysłowicz",
      "userId": "11356318807843777886"
     },
     "user_tz": -120
    },
    "id": "WEf9j0pg2y_n",
    "outputId": "36c5a93d-fa6e-4a03-cf96-96db6dbf8114"
   },
   "outputs": [
    {
     "name": "stdout",
     "output_type": "stream",
     "text": [
      "Data array \"data\":\n",
      "[[1.799e+01 1.038e+01 1.228e+02 ... 2.654e-01 4.601e-01 1.189e-01]\n",
      " [2.057e+01 1.777e+01 1.329e+02 ... 1.860e-01 2.750e-01 8.902e-02]\n",
      " [1.969e+01 2.125e+01 1.300e+02 ... 2.430e-01 3.613e-01 8.758e-02]\n",
      " ...\n",
      " [1.660e+01 2.808e+01 1.083e+02 ... 1.418e-01 2.218e-01 7.820e-02]\n",
      " [2.060e+01 2.933e+01 1.401e+02 ... 2.650e-01 4.087e-01 1.240e-01]\n",
      " [7.760e+00 2.454e+01 4.792e+01 ... 0.000e+00 2.871e-01 7.039e-02]]\n",
      "- shape:  (569, 30)\n",
      "- elements:  569\n",
      "- element length:  30\n",
      "\n",
      "\n",
      "Data array \"target\":\n",
      "[0 0 0 0 0 0 0 0 0 0 0 0 0 0 0 0 0 0 0 1 1 1 0 0 0 0 0 0 0 0 0 0 0 0 0 0 0\n",
      " 1 0 0 0 0 0 0 0 0 1 0 1 1 1 1 1 0 0 1 0 0 1 1 1 1 0 1 0 0 1 1 1 1 0 1 0 0\n",
      " 1 0 1 0 0 1 1 1 0 0 1 0 0 0 1 1 1 0 1 1 0 0 1 1 1 0 0 1 1 1 1 0 1 1 0 1 1\n",
      " 1 1 1 1 1 1 0 0 0 1 0 0 1 1 1 0 0 1 0 1 0 0 1 0 0 1 1 0 1 1 0 1 1 1 1 0 1\n",
      " 1 1 1 1 1 1 1 1 0 1 1 1 1 0 0 1 0 1 1 0 0 1 1 0 0 1 1 1 1 0 1 1 0 0 0 1 0\n",
      " 1 0 1 1 1 0 1 1 0 0 1 0 0 0 0 1 0 0 0 1 0 1 0 1 1 0 1 0 0 0 0 1 1 0 0 1 1\n",
      " 1 0 1 1 1 1 1 0 0 1 1 0 1 1 0 0 1 0 1 1 1 1 0 1 1 1 1 1 0 1 0 0 0 0 0 0 0\n",
      " 0 0 0 0 0 0 0 1 1 1 1 1 1 0 1 0 1 1 0 1 1 0 1 0 0 1 1 1 1 1 1 1 1 1 1 1 1\n",
      " 1 0 1 1 0 1 0 1 1 1 1 1 1 1 1 1 1 1 1 1 1 0 1 1 1 0 1 0 1 1 1 1 0 0 0 1 1\n",
      " 1 1 0 1 0 1 0 1 1 1 0 1 1 1 1 1 1 1 0 0 0 1 1 1 1 1 1 1 1 1 1 1 0 0 1 0 0\n",
      " 0 1 0 0 1 1 1 1 1 0 1 1 1 1 1 0 1 1 1 0 1 1 0 0 1 1 1 1 1 1 0 1 1 1 1 1 1\n",
      " 1 0 1 1 1 1 1 0 1 1 0 1 1 1 1 1 1 1 1 1 1 1 1 0 1 0 0 1 0 1 1 1 1 1 0 1 1\n",
      " 0 1 0 1 1 0 1 0 1 1 1 1 1 1 1 1 0 0 1 1 1 1 1 1 0 1 1 1 1 1 1 1 1 1 1 0 1\n",
      " 1 1 1 1 1 1 0 1 0 1 1 0 1 1 1 1 1 0 0 1 0 1 0 1 1 1 1 1 0 1 1 0 1 0 1 0 0\n",
      " 1 1 1 0 1 1 1 1 1 1 1 1 1 1 1 0 1 0 0 1 1 1 1 1 1 1 1 1 1 1 1 1 1 1 1 1 1\n",
      " 1 1 1 1 1 1 1 0 0 0 0 0 0 1]\n",
      "- shape:  (569,)\n",
      "- elements:  569\n",
      "- element length: 1\n"
     ]
    }
   ],
   "source": [
    "print('Data array \"data\":')\n",
    "print(data.data)\n",
    "print('- shape: ', data.data.shape)\n",
    "print('- elements: ', len(data.data))\n",
    "print('- element length: ', len(data.data[0]))\n",
    "\n",
    "print('\\n')\n",
    "\n",
    "print('Data array \"target\":')\n",
    "print(data.target)\n",
    "print('- shape: ', data.target.shape)\n",
    "print('- elements: ', len(data.target))\n",
    "print('- element length: 1')"
   ]
  },
  {
   "cell_type": "markdown",
   "metadata": {
    "id": "5ykrQRQD_mT8"
   },
   "source": [
    "#### 2. Data splitting\n",
    "Use the `train_test_split` method from the `sklearn.model_selection` module to divide the set into training (90%) and test (10%) parts. Use the **stratification** in data splitting."
   ]
  },
  {
   "cell_type": "code",
   "execution_count": null,
   "metadata": {
    "id": "uo9XsNShP2pG"
   },
   "outputs": [],
   "source": [
    "from sklearn.model_selection import train_test_split\n",
    "\n",
    "X = data.data\n",
    "y = data.target\n",
    "X_train, X_test, y_train, y_test = train_test_split(X, y, test_size=0.10, random_state=42, stratify=y)"
   ]
  },
  {
   "cell_type": "markdown",
   "metadata": {
    "id": "ZRJ8VIfhAAiI"
   },
   "source": [
    "Load the following classifiers:\n",
    "\n",
    "```\n",
    "from sklearn.linear_model import LinearRegression\n",
    "from sklearn.gaussian_process import GaussianProcessClassifier\n",
    "from sklearn.naive_bayes import GaussianNB\n",
    "from sklearn.neural_network import MLPClassifier\n",
    "from sklearn.svm import SVC\n",
    "from sklearn.neighbors import KNeighborsClassifier\n",
    "from sklearn.linear_model import SGDClassifier\n",
    "```"
   ]
  },
  {
   "cell_type": "code",
   "execution_count": null,
   "metadata": {
    "id": "_KAwHzPCRqv_"
   },
   "outputs": [],
   "source": [
    "from sklearn.linear_model import LinearRegression\n",
    "from sklearn.gaussian_process import GaussianProcessClassifier\n",
    "from sklearn.naive_bayes import GaussianNB\n",
    "from sklearn.neural_network import MLPClassifier\n",
    "from sklearn.svm import SVC\n",
    "from sklearn.neighbors import KNeighborsClassifier\n",
    "from sklearn.linear_model import SGDClassifier"
   ]
  },
  {
   "cell_type": "markdown",
   "metadata": {
    "id": "3IZAQAAgALnD"
   },
   "source": [
    "For each classifier (constructed with `default` parameters), use the `fit` method on the training data and the `score` method on the test data to obtain its accuracy. It is recommended to make a dictionary of individual models and run everything in a `for` loop. What happens when we change the data split (we use the `split` method again)?"
   ]
  },
  {
   "cell_type": "code",
   "execution_count": null,
   "metadata": {
    "id": "ryQp-qLLS6Cx",
    "outputId": "f0551e3c-855e-4808-ee78-910503d8a867"
   },
   "outputs": [
    {
     "name": "stdout",
     "output_type": "stream",
     "text": [
      "LR :  0.6970003216389791\n",
      "GP :  0.9298245614035088\n",
      "NB :  0.9824561403508771\n",
      "MLP :  0.9122807017543859\n",
      "SVC :  0.9298245614035088\n",
      "KNN :  0.9122807017543859\n",
      "SGD :  0.9122807017543859\n"
     ]
    }
   ],
   "source": [
    "models = {\n",
    "    'LR': LinearRegression(),\n",
    "    'GP': GaussianProcessClassifier(),\n",
    "    'NB': GaussianNB(),\n",
    "    'MLP': MLPClassifier(),\n",
    "    'SVC': SVC(),\n",
    "    'KNN': KNeighborsClassifier(),\n",
    "    'SGD': SGDClassifier()\n",
    "}\n",
    "\n",
    "for model in models.keys():\n",
    "    models[model].fit(X_train, y_train)\n",
    "    print(model,': ', models[model].score(X_test, y_test))"
   ]
  },
  {
   "cell_type": "markdown",
   "metadata": {
    "id": "qCrlIHqRUJw7"
   },
   "source": [
    "What happens when we change the data split (we use the `split` method again)?\n",
    "- when `random_state` is the same: data division is the same\n",
    "- when `random_state` is different: random split"
   ]
  },
  {
   "cell_type": "markdown",
   "metadata": {
    "id": "oTu04IqeAdde"
   },
   "source": [
    "#### 3. Cross-validation\n",
    "With a small data set, it is difficult to isolate a representative test set. One way is to run the entire process several times and report the averages and deviations of the results obtained.\n",
    "\n",
    "A better way is to split the entire dataset into `K` packages and iteratively use each package as test data and all the others (in each iteration) as training data.\n",
    "\n",
    "Use the `StratifiedKFold` class from the `sklearn.model_selection` module to split the set into 5 parts and repeat the previous experiment to calculate the accuracy of the models. As a result, give the **mean** value and **standard deviation** for all divisions of the given model."
   ]
  },
  {
   "cell_type": "code",
   "execution_count": null,
   "metadata": {
    "id": "X19cYwSUY6yi",
    "outputId": "95f7859f-2ad4-4a39-c911-82ee7074ed85"
   },
   "outputs": [
    {
     "name": "stdout",
     "output_type": "stream",
     "text": [
      "LR :\n",
      "- mean : 0.7408173313601669\n",
      "- stdev:  0.029987826576266068\n",
      "\n",
      "\n",
      "GP :\n",
      "- mean : 0.9068622884645241\n",
      "- stdev:  0.021973671290398487\n",
      "\n",
      "\n",
      "NB :\n",
      "- mean : 0.9385188635305076\n",
      "- stdev:  0.016307637526154637\n",
      "\n",
      "\n",
      "MLP :\n",
      "- mean : 0.9191585157584226\n",
      "- stdev:  0.01567527929669289\n",
      "\n",
      "\n",
      "SVC :\n",
      "- mean : 0.9121720229777984\n",
      "- stdev:  0.03962723267191617\n",
      "\n",
      "\n",
      "KNN :\n",
      "- mean : 0.9279459711224965\n",
      "- stdev:  0.024331509914315864\n",
      "\n",
      "\n",
      "SGD :\n",
      "- mean : 0.8840552709206645\n",
      "- stdev:  0.02712211106011847\n",
      "\n",
      "\n",
      "{'LR': [0.6975311412537788, 0.7296217594109057, 0.7658941157861314, 0.7391357972558976, 0.771903843094121], 'GP': [0.868421052631579, 0.9210526315789473, 0.9122807017543859, 0.9210526315789473, 0.911504424778761], 'NB': [0.9210526315789473, 0.9210526315789473, 0.9473684210526315, 0.9473684210526315, 0.9557522123893806], 'MLP': [0.8947368421052632, 0.9210526315789473, 0.9385964912280702, 0.9210526315789473, 0.9203539823008849], 'SVC': [0.8508771929824561, 0.8947368421052632, 0.9298245614035088, 0.9473684210526315, 0.9380530973451328], 'KNN': [0.8859649122807017, 0.9385964912280702, 0.9385964912280702, 0.9473684210526315, 0.9292035398230089], 'SGD': [0.8859649122807017, 0.9035087719298246, 0.8771929824561403, 0.8421052631578947, 0.911504424778761]}\n"
     ]
    },
    {
     "name": "stderr",
     "output_type": "stream",
     "text": [
      "C:\\ProgramData\\Anaconda3\\lib\\site-packages\\sklearn\\neural_network\\_multilayer_perceptron.py:582: ConvergenceWarning: Stochastic Optimizer: Maximum iterations (200) reached and the optimization hasn't converged yet.\n",
      "  warnings.warn(\n"
     ]
    }
   ],
   "source": [
    "from sklearn.model_selection import StratifiedKFold\n",
    "from statistics import mean, stdev\n",
    "\n",
    "SKF = StratifiedKFold(n_splits=5)\n",
    "\n",
    "models = {\n",
    "    'LR': LinearRegression(),\n",
    "    'GP': GaussianProcessClassifier(),\n",
    "    'NB': GaussianNB(),\n",
    "    'MLP': MLPClassifier(),\n",
    "    'SVC': SVC(),\n",
    "    'KNN': KNeighborsClassifier(),\n",
    "    'SGD': SGDClassifier()\n",
    "}\n",
    "\n",
    "accuracies = {\n",
    "    'LR': [],\n",
    "    'GP': [],\n",
    "    'NB': [],\n",
    "    'MLP': [],\n",
    "    'SVC': [],\n",
    "    'KNN': [],\n",
    "    'SGD': []\n",
    "}\n",
    "\n",
    "for model in models.keys():\n",
    "    for train_index, test_index in SKF.split(X, y):\n",
    "        X_train, X_test = X[train_index], X[test_index]\n",
    "        y_train, y_test = y[train_index], y[test_index]\n",
    "        models[model].fit(X_train, y_train)\n",
    "        accuracies[model].append(models[model].score(X_test,y_test))\n",
    "    \n",
    "    print(model,':')\n",
    "    print('- mean :', mean(accuracies[model]))\n",
    "    print('- stdev: ', stdev(accuracies[model]))\n",
    "    print('\\n')\n",
    "    \n",
    "print(accuracies)"
   ]
  },
  {
   "cell_type": "markdown",
   "metadata": {
    "id": "Nkd_xpDxBBXV"
   },
   "source": [
    "Natural question is what value choose for parameter `K`. The more packages we use, the greater variance in results. Lots of packages means less bias risk in experiments, but tests are done with less data and therefore more chaotic. Fewer packages mean more accurate test results, but there is a risk that the data in given divisions will be less representative of overall problem. In an extreme case, we can use as many packages as there are samples - this method is called `Leave-One-Out`.\n",
    "\n",
    "Repeat the same experiments as before using the class `LeaveOneOut`, but to save time use only one classifier (e.g. SVC)."
   ]
  },
  {
   "cell_type": "code",
   "execution_count": null,
   "metadata": {
    "id": "2zLUjI_ubI9E",
    "outputId": "ce318b38-b93d-4dbb-8225-892a151c668d"
   },
   "outputs": [
    {
     "name": "stdout",
     "output_type": "stream",
     "text": [
      "SVC:\n",
      "- mean : 0.9121265377855887\n",
      "- stdev:  0.2833598931225475\n",
      "\n",
      "\n",
      "[1.0, 1.0, 1.0, 0.0, 1.0, 0.0, 1.0, 1.0, 0.0, 0.0, 1.0, 1.0, 1.0, 0.0, 0.0, 1.0, 1.0, 1.0, 1.0, 1.0, 1.0, 1.0, 1.0, 1.0, 1.0, 1.0, 0.0, 1.0, 1.0, 1.0, 1.0, 1.0, 1.0, 1.0, 1.0, 1.0, 0.0, 1.0, 0.0, 0.0, 0.0, 0.0, 1.0, 1.0, 0.0, 1.0, 1.0, 0.0, 1.0, 1.0, 1.0, 1.0, 1.0, 1.0, 1.0, 1.0, 1.0, 1.0, 1.0, 1.0, 1.0, 1.0, 1.0, 1.0, 1.0, 1.0, 1.0, 1.0, 1.0, 1.0, 1.0, 1.0, 1.0, 0.0, 1.0, 1.0, 1.0, 1.0, 1.0, 1.0, 1.0, 1.0, 1.0, 1.0, 1.0, 1.0, 0.0, 1.0, 1.0, 1.0, 1.0, 0.0, 1.0, 1.0, 1.0, 1.0, 1.0, 1.0, 1.0, 0.0, 1.0, 1.0, 1.0, 1.0, 1.0, 0.0, 1.0, 1.0, 1.0, 1.0, 1.0, 1.0, 1.0, 1.0, 1.0, 1.0, 1.0, 1.0, 1.0, 1.0, 1.0, 1.0, 1.0, 1.0, 1.0, 1.0, 0.0, 1.0, 1.0, 1.0, 1.0, 1.0, 1.0, 0.0, 1.0, 0.0, 1.0, 1.0, 1.0, 1.0, 1.0, 1.0, 1.0, 1.0, 1.0, 1.0, 0.0, 1.0, 1.0, 1.0, 1.0, 1.0, 1.0, 1.0, 1.0, 1.0, 1.0, 0.0, 1.0, 1.0, 1.0, 1.0, 1.0, 1.0, 1.0, 1.0, 1.0, 1.0, 1.0, 1.0, 1.0, 1.0, 1.0, 1.0, 1.0, 1.0, 1.0, 1.0, 1.0, 1.0, 1.0, 1.0, 1.0, 1.0, 1.0, 1.0, 1.0, 1.0, 1.0, 1.0, 0.0, 1.0, 1.0, 0.0, 0.0, 1.0, 0.0, 1.0, 1.0, 1.0, 1.0, 1.0, 1.0, 1.0, 1.0, 1.0, 1.0, 1.0, 1.0, 0.0, 1.0, 1.0, 1.0, 1.0, 0.0, 0.0, 1.0, 1.0, 1.0, 1.0, 1.0, 1.0, 1.0, 1.0, 1.0, 1.0, 1.0, 1.0, 1.0, 0.0, 1.0, 1.0, 1.0, 1.0, 1.0, 1.0, 1.0, 1.0, 1.0, 1.0, 1.0, 1.0, 1.0, 1.0, 1.0, 1.0, 1.0, 1.0, 1.0, 1.0, 1.0, 1.0, 1.0, 1.0, 1.0, 0.0, 1.0, 1.0, 1.0, 1.0, 1.0, 1.0, 1.0, 1.0, 1.0, 1.0, 1.0, 1.0, 1.0, 1.0, 1.0, 1.0, 1.0, 1.0, 1.0, 1.0, 1.0, 1.0, 1.0, 1.0, 1.0, 1.0, 1.0, 1.0, 1.0, 1.0, 1.0, 1.0, 1.0, 1.0, 1.0, 1.0, 1.0, 1.0, 1.0, 1.0, 1.0, 0.0, 1.0, 1.0, 1.0, 1.0, 1.0, 1.0, 1.0, 1.0, 1.0, 1.0, 1.0, 1.0, 1.0, 1.0, 1.0, 1.0, 1.0, 1.0, 1.0, 1.0, 1.0, 1.0, 1.0, 1.0, 1.0, 1.0, 1.0, 1.0, 1.0, 1.0, 1.0, 1.0, 1.0, 1.0, 1.0, 1.0, 1.0, 1.0, 1.0, 1.0, 1.0, 1.0, 1.0, 1.0, 1.0, 1.0, 1.0, 1.0, 1.0, 1.0, 1.0, 1.0, 1.0, 0.0, 1.0, 1.0, 1.0, 1.0, 1.0, 1.0, 1.0, 1.0, 1.0, 1.0, 1.0, 0.0, 1.0, 1.0, 1.0, 1.0, 1.0, 1.0, 1.0, 1.0, 1.0, 1.0, 1.0, 1.0, 1.0, 1.0, 1.0, 0.0, 1.0, 1.0, 1.0, 1.0, 1.0, 0.0, 1.0, 1.0, 1.0, 1.0, 1.0, 1.0, 1.0, 1.0, 1.0, 1.0, 1.0, 1.0, 1.0, 1.0, 1.0, 1.0, 1.0, 1.0, 1.0, 1.0, 0.0, 1.0, 1.0, 1.0, 1.0, 1.0, 1.0, 1.0, 1.0, 1.0, 1.0, 1.0, 1.0, 1.0, 1.0, 1.0, 1.0, 1.0, 1.0, 1.0, 1.0, 1.0, 1.0, 1.0, 0.0, 1.0, 1.0, 1.0, 1.0, 0.0, 1.0, 1.0, 1.0, 1.0, 1.0, 1.0, 1.0, 1.0, 1.0, 1.0, 1.0, 1.0, 1.0, 1.0, 1.0, 1.0, 1.0, 1.0, 1.0, 1.0, 1.0, 1.0, 1.0, 1.0, 1.0, 1.0, 1.0, 1.0, 1.0, 1.0, 1.0, 1.0, 1.0, 1.0, 1.0, 1.0, 0.0, 1.0, 1.0, 1.0, 1.0, 1.0, 1.0, 0.0, 1.0, 1.0, 1.0, 1.0, 1.0, 1.0, 1.0, 1.0, 1.0, 1.0, 1.0, 0.0, 1.0, 1.0, 1.0, 1.0, 1.0, 1.0, 1.0, 1.0, 1.0, 0.0, 1.0, 1.0, 1.0, 1.0, 1.0, 1.0, 0.0, 0.0, 1.0, 1.0, 0.0, 1.0, 1.0, 1.0, 1.0, 1.0, 1.0, 1.0, 1.0, 1.0, 1.0, 1.0, 1.0, 1.0, 1.0, 1.0, 1.0, 1.0, 1.0, 1.0, 1.0, 1.0, 1.0, 1.0, 0.0, 1.0, 1.0, 1.0, 1.0, 1.0, 1.0, 1.0, 1.0, 1.0, 1.0, 1.0, 1.0, 1.0, 1.0, 1.0, 1.0, 1.0, 1.0, 1.0, 1.0, 1.0, 1.0, 1.0, 1.0, 1.0, 0.0, 1.0, 1.0, 1.0, 1.0, 1.0, 1.0]\n"
     ]
    }
   ],
   "source": [
    "from sklearn.model_selection import LeaveOneOut\n",
    "from statistics import mean, stdev\n",
    "\n",
    "LOO = LeaveOneOut()\n",
    "\n",
    "model = SVC()\n",
    "accuracies_LOO = []\n",
    "\n",
    "for train_index, test_index in LOO.split(X):\n",
    "    X_train, X_test = X[train_index], X[test_index]\n",
    "    y_train, y_test = y[train_index], y[test_index]\n",
    "    model.fit(X_train, y_train)\n",
    "    accuracies_LOO.append(model.score(X_test,y_test))\n",
    "    \n",
    "print('SVC:')\n",
    "print('- mean :', mean(accuracies_LOO))\n",
    "print('- stdev: ', stdev(accuracies_LOO))\n",
    "print('\\n')\n",
    "    \n",
    "print(accuracies_LOO)"
   ]
  },
  {
   "cell_type": "code",
   "execution_count": null,
   "metadata": {
    "id": "vBe2JnHqUJxF",
    "outputId": "43319c6a-474f-4a8b-d2af-cd5e54ba0968"
   },
   "outputs": [
    {
     "name": "stdout",
     "output_type": "stream",
     "text": [
      "569\n"
     ]
    }
   ],
   "source": [
    "print(len(accuracies_LOO))"
   ]
  },
  {
   "cell_type": "markdown",
   "metadata": {
    "id": "GG36TOpFBVRl"
   },
   "source": [
    "#### Model quality measures\n",
    "\n",
    "Load the following methods:\n",
    "```\n",
    "from sklearn.metrics import precision_recall_fscore_support, accuracy_score, confusion_matrix, roc_curve, roc_auc_score, classification_report\n",
    "```\n",
    "Split data: 90/10 (train/test). For all models, except linear regression, use `fit` method on training data and `predict` method on test data. Then calculate `accuracy_score`, `precision`, `recall`, `f-score` and `confusion matrix` for each classifier, respectively. Also use `classification_report` method to view the general report."
   ]
  },
  {
   "cell_type": "code",
   "execution_count": null,
   "metadata": {
    "id": "12-EfRooc8VY",
    "outputId": "88536598-3d78-4b8b-9821-f62755aa6f1d"
   },
   "outputs": [
    {
     "name": "stdout",
     "output_type": "stream",
     "text": [
      "GP :\n",
      "- accuracy_score:  0.9649122807017544\n",
      "- precision:  1.0\n",
      "- recall:  0.95\n",
      "- f1:  0.9743589743589743\n",
      "- confusion matrix: \n",
      " [[17  0]\n",
      " [ 2 38]]\n",
      "- classification_report: \n",
      "              precision    recall  f1-score   support\n",
      "\n",
      "           0       0.89      1.00      0.94        17\n",
      "           1       1.00      0.95      0.97        40\n",
      "\n",
      "    accuracy                           0.96        57\n",
      "   macro avg       0.95      0.97      0.96        57\n",
      "weighted avg       0.97      0.96      0.97        57\n",
      "\n",
      "\n",
      "\n",
      "NB :\n",
      "- accuracy_score:  0.9824561403508771\n",
      "- precision:  0.975609756097561\n",
      "- recall:  1.0\n",
      "- f1:  0.9876543209876543\n",
      "- confusion matrix: \n",
      " [[16  1]\n",
      " [ 0 40]]\n",
      "- classification_report: \n",
      "              precision    recall  f1-score   support\n",
      "\n",
      "           0       1.00      0.94      0.97        17\n",
      "           1       0.98      1.00      0.99        40\n",
      "\n",
      "    accuracy                           0.98        57\n",
      "   macro avg       0.99      0.97      0.98        57\n",
      "weighted avg       0.98      0.98      0.98        57\n",
      "\n",
      "\n",
      "\n",
      "MLP :\n",
      "- accuracy_score:  0.9473684210526315\n",
      "- precision:  1.0\n",
      "- recall:  0.925\n",
      "- f1:  0.961038961038961\n",
      "- confusion matrix: \n",
      " [[17  0]\n",
      " [ 3 37]]\n",
      "- classification_report: \n",
      "              precision    recall  f1-score   support\n",
      "\n",
      "           0       0.85      1.00      0.92        17\n",
      "           1       1.00      0.93      0.96        40\n",
      "\n",
      "    accuracy                           0.95        57\n",
      "   macro avg       0.93      0.96      0.94        57\n",
      "weighted avg       0.96      0.95      0.95        57\n",
      "\n",
      "\n",
      "\n",
      "SVC :\n",
      "- accuracy_score:  0.9824561403508771\n",
      "- precision:  0.975609756097561\n",
      "- recall:  1.0\n",
      "- f1:  0.9876543209876543\n",
      "- confusion matrix: \n",
      " [[16  1]\n",
      " [ 0 40]]\n",
      "- classification_report: \n",
      "              precision    recall  f1-score   support\n",
      "\n",
      "           0       1.00      0.94      0.97        17\n",
      "           1       0.98      1.00      0.99        40\n",
      "\n",
      "    accuracy                           0.98        57\n",
      "   macro avg       0.99      0.97      0.98        57\n",
      "weighted avg       0.98      0.98      0.98        57\n",
      "\n",
      "\n",
      "\n",
      "KNN :\n",
      "- accuracy_score:  0.9649122807017544\n",
      "- precision:  0.975\n",
      "- recall:  0.975\n",
      "- f1:  0.975\n",
      "- confusion matrix: \n",
      " [[16  1]\n",
      " [ 1 39]]\n",
      "- classification_report: \n",
      "              precision    recall  f1-score   support\n",
      "\n",
      "           0       0.94      0.94      0.94        17\n",
      "           1       0.97      0.97      0.97        40\n",
      "\n",
      "    accuracy                           0.96        57\n",
      "   macro avg       0.96      0.96      0.96        57\n",
      "weighted avg       0.96      0.96      0.96        57\n",
      "\n",
      "\n",
      "\n",
      "SGD :\n",
      "- accuracy_score:  1.0\n",
      "- precision:  1.0\n",
      "- recall:  1.0\n",
      "- f1:  1.0\n",
      "- confusion matrix: \n",
      " [[17  0]\n",
      " [ 0 40]]\n",
      "- classification_report: \n",
      "              precision    recall  f1-score   support\n",
      "\n",
      "           0       1.00      1.00      1.00        17\n",
      "           1       1.00      1.00      1.00        40\n",
      "\n",
      "    accuracy                           1.00        57\n",
      "   macro avg       1.00      1.00      1.00        57\n",
      "weighted avg       1.00      1.00      1.00        57\n",
      "\n",
      "\n",
      "\n"
     ]
    }
   ],
   "source": [
    "from sklearn.metrics import precision_recall_fscore_support, accuracy_score, confusion_matrix, roc_curve, roc_auc_score, classification_report\n",
    "from sklearn.metrics import precision_score, recall_score, f1_score\n",
    "\n",
    "X_train, X_test, y_train, y_test = train_test_split(X, y, test_size=0.1, random_state=42)\n",
    "\n",
    "models = {\n",
    "    'GP': GaussianProcessClassifier(),\n",
    "    'NB': GaussianNB(),\n",
    "    'MLP': MLPClassifier(),\n",
    "    'SVC': SVC(),\n",
    "    'KNN': KNeighborsClassifier(),\n",
    "    'SGD': SGDClassifier()\n",
    "}\n",
    "\n",
    "for model in models.keys():\n",
    "    models[model].fit(X_train,y_train)\n",
    "    y_pred = models[model].predict(X_test)\n",
    "    \n",
    "    print(model,':')\n",
    "    print('- accuracy_score: ', accuracy_score(y_test,y_pred))\n",
    "    print('- precision: ', precision_score(y_test,y_pred))\n",
    "    print('- recall: ', recall_score(y_test,y_pred))\n",
    "    print('- f1: ', f1_score(y_test,y_pred))\n",
    "    print('- confusion matrix: \\n', confusion_matrix(y_test,y_pred))\n",
    "    print('- classification_report: ')\n",
    "    print(classification_report(y_test,y_pred))\n",
    "    print('\\n')"
   ]
  },
  {
   "cell_type": "markdown",
   "metadata": {
    "id": "6KJRuISZCUpf"
   },
   "source": [
    "#### 4. ROC and AUC\n",
    "Use all models except linear regression and GPC. For SVC add `probability = True` parameter. Use `cross-validation` to train each model and calculate `predict_proba` for the entire set. Then count `roc_curve` and` auc_score` for all models and plot it on a graph.\n",
    "\n",
    "First, use these commands to get a blank **ROC** plot:\n",
    "```\n",
    "figure(figsize=(5,5))\n",
    "plot([0,1],[0,1],color='black',lw=2,linestyle='--')\n",
    "xlabel('1 - specificity')\n",
    "ylabel('sensitivity')\n",
    "title('ROC')\n",
    "```\n",
    "\n",
    "For each classifier, use `plot` method to plot the `x = fpr` and `y = tpr` values ​​from `roc_curve` method. As `label` set the model name and its` AUC`. Finally, run the `legend (loc = 'lower right')` method to draw legend to the lower right corner of the chart."
   ]
  },
  {
   "cell_type": "code",
   "execution_count": null,
   "metadata": {
    "id": "q4tc6lh_dUmH",
    "outputId": "94e6e336-6b6b-4aff-fdf9-d6901b6e1fd0"
   },
   "outputs": [
    {
     "data": {
      "text/plain": [
       "<matplotlib.legend.Legend at 0x205ba3a1e50>"
      ]
     },
     "execution_count": 18,
     "metadata": {},
     "output_type": "execute_result"
    },
    {
     "data": {
      "image/png": "[encoded data removed]",
      "text/plain": [
       "<Figure size 576x576 with 1 Axes>"
      ]
     },
     "metadata": {
      "needs_background": "light"
     },
     "output_type": "display_data"
    }
   ],
   "source": [
    "import matplotlib.pyplot as plt\n",
    "\n",
    "models = {\n",
    "    'NB': GaussianNB(),\n",
    "    'MLP': MLPClassifier(),\n",
    "    'SVC': SVC(probability=True),\n",
    "    'KNN': KNeighborsClassifier(),\n",
    "    'SGD': SGDClassifier(loss='log')\n",
    "}\n",
    "\n",
    "SKF = StratifiedKFold(n_splits=5)\n",
    "\n",
    "figure(figsize=(8,8))\n",
    "plot([0,1],[0,1],color='black',lw=2,linestyle='--')\n",
    "xlabel('1 - specificity')\n",
    "ylabel('sensitivity')\n",
    "title('ROC')\n",
    "\n",
    "for model in models.keys():\n",
    "    for train_index, test_index in SKF.split(X, y):\n",
    "        X_train, X_test = X[train_index], X[test_index]\n",
    "        y_train, y_test = y[train_index], y[test_index]\n",
    "        models[model].fit(X_train, y_train)\n",
    "    \n",
    "    y_pred = models[model].predict_proba(X_test)[:,1]\n",
    "    fpr, tpr, thresholds = roc_curve(y_test, y_pred)\n",
    "    roc_auc = roc_auc_score(y_test, y_pred)  \n",
    "    plt.plot(fpr, tpr, label = model + ' (AUC = %0.3f)' % roc_auc)\n",
    "    \n",
    "plt.legend(loc='lower right')"
   ]
  },
  {
   "cell_type": "markdown",
   "metadata": {
    "id": "k23B89bxYaLp"
   },
   "source": [
    "#### Task 1 - multi-label classification\n",
    "Repeat above tasks on the wine dataset obtained with `load_wine` method from `sklearn.datasets module`. Note that this set defines 3 different classes.\n",
    "\n",
    "Use `sklearn.multiclass.OneVsRestClassifier` to apply previous classifiers to new data.\n",
    "\n",
    "During calculating `ROC` curve and `AUC` values, use `sklearn.preprocessing.label_binarize` on reference and `ravel()` method on output matrices before drawing."
   ]
  },
  {
   "cell_type": "code",
   "execution_count": 5,
   "metadata": {
    "colab": {
     "base_uri": "https://localhost:8080/"
    },
    "executionInfo": {
     "elapsed": 207,
     "status": "ok",
     "timestamp": 1662574251474,
     "user": {
      "displayName": "Grażyna Rozmysłowicz",
      "userId": "11356318807843777886"
     },
     "user_tz": -120
    },
    "id": "1nSoMv9QZy2q",
    "outputId": "58f20669-5c26-418a-b9ae-b767729340dc"
   },
   "outputs": [
    {
     "name": "stdout",
     "output_type": "stream",
     "text": [
      "keys:  dict_keys(['data', 'target', 'frame', 'target_names', 'DESCR', 'feature_names'])\n",
      "\n",
      "\n",
      "feature names:  ['alcohol', 'malic_acid', 'ash', 'alcalinity_of_ash', 'magnesium', 'total_phenols', 'flavanoids', 'nonflavanoid_phenols', 'proanthocyanins', 'color_intensity', 'hue', 'od280/od315_of_diluted_wines', 'proline']\n",
      "(178, 13)\n",
      "(178,)\n",
      "\n",
      "\n",
      "Data array \"data\":\n",
      "[[1.423e+01 1.710e+00 2.430e+00 ... 1.040e+00 3.920e+00 1.065e+03]\n",
      " [1.320e+01 1.780e+00 2.140e+00 ... 1.050e+00 3.400e+00 1.050e+03]\n",
      " [1.316e+01 2.360e+00 2.670e+00 ... 1.030e+00 3.170e+00 1.185e+03]\n",
      " ...\n",
      " [1.327e+01 4.280e+00 2.260e+00 ... 5.900e-01 1.560e+00 8.350e+02]\n",
      " [1.317e+01 2.590e+00 2.370e+00 ... 6.000e-01 1.620e+00 8.400e+02]\n",
      " [1.413e+01 4.100e+00 2.740e+00 ... 6.100e-01 1.600e+00 5.600e+02]]\n",
      "- shape:  (178, 13)\n",
      "- elements:  178\n",
      "- element length:  13\n",
      "\n",
      "\n",
      "Data array \"target\":\n",
      "[0 0 0 0 0 0 0 0 0 0 0 0 0 0 0 0 0 0 0 0 0 0 0 0 0 0 0 0 0 0 0 0 0 0 0 0 0\n",
      " 0 0 0 0 0 0 0 0 0 0 0 0 0 0 0 0 0 0 0 0 0 0 1 1 1 1 1 1 1 1 1 1 1 1 1 1 1\n",
      " 1 1 1 1 1 1 1 1 1 1 1 1 1 1 1 1 1 1 1 1 1 1 1 1 1 1 1 1 1 1 1 1 1 1 1 1 1\n",
      " 1 1 1 1 1 1 1 1 1 1 1 1 1 1 1 1 1 1 1 2 2 2 2 2 2 2 2 2 2 2 2 2 2 2 2 2 2\n",
      " 2 2 2 2 2 2 2 2 2 2 2 2 2 2 2 2 2 2 2 2 2 2 2 2 2 2 2 2 2 2]\n",
      "- klasy zbioru:  [0 1 2]\n",
      "- target names:  ['class_0', 'class_1', 'class_2']\n",
      "- shape:  (178,)\n",
      "- elements:  178\n",
      "- element length: 1\n"
     ]
    }
   ],
   "source": [
    "from sklearn.datasets import load_wine\n",
    "import numpy as np\n",
    "from sklearn.metrics import auc\n",
    "\n",
    "data = load_wine()\n",
    "X = data.data\n",
    "y = data.target\n",
    "X_train, X_test, y_train, y_test = train_test_split(X, y, test_size=0.1, random_state=42, stratify=y)\n",
    "\n",
    "\n",
    "print('keys: ', data.keys())\n",
    "print('\\n')\n",
    "print('feature names: ', list(data.feature_names))\n",
    "\n",
    "pd.DataFrame(data.data, columns=data.feature_names).head()\n",
    "\n",
    "print(data.data.shape)\n",
    "print(data.target.shape)\n",
    "print('\\n')\n",
    "\n",
    "print('Data array \"data\":')\n",
    "print(data.data)\n",
    "print('- shape: ', data.data.shape)\n",
    "print('- elements: ', len(data.data))\n",
    "print('- element length: ', len(data.data[0]))\n",
    "\n",
    "print('\\n')\n",
    "\n",
    "print('Data array \"target\":')\n",
    "print(data.target)\n",
    "print('- klasy zbioru: ', np.unique(y))\n",
    "print('- target names: ', list(data.target_names))\n",
    "print('- shape: ', data.target.shape)\n",
    "print('- elements: ', len(data.target))\n",
    "print('- element length: 1')"
   ]
  },
  {
   "cell_type": "code",
   "execution_count": null,
   "metadata": {
    "id": "fOflo02YUJxS",
    "outputId": "f04da4ba-2aad-43a5-f9db-bb8d9dd6d736"
   },
   "outputs": [
    {
     "name": "stdout",
     "output_type": "stream",
     "text": [
      "NB :\n",
      "- mean : 0.9607936507936508\n",
      "- stdev:  0.014928231770859033\n",
      "\n",
      "\n",
      "MLP :\n",
      "- mean : 0.5009523809523809\n",
      "- stdev:  0.08046734555820874\n",
      "\n",
      "\n",
      "SVC :\n",
      "- mean : 0.6857142857142857\n",
      "- stdev:  0.03839580502197427\n",
      "\n",
      "\n",
      "KNN :\n",
      "- mean : 0.6915873015873016\n",
      "- stdev:  0.07412800379979148\n",
      "\n",
      "\n",
      "SGD :\n",
      "- mean : 0.5331746031746032\n",
      "- stdev:  0.09266429574393432\n",
      "\n",
      "\n"
     ]
    },
    {
     "data": {
      "text/plain": [
       "<matplotlib.legend.Legend at 0x205ba28caf0>"
      ]
     },
     "execution_count": 20,
     "metadata": {},
     "output_type": "execute_result"
    },
    {
     "data": {
      "image/png": "[encoded data removed]",
      "text/plain": [
       "<Figure size 576x576 with 1 Axes>"
      ]
     },
     "metadata": {
      "needs_background": "light"
     },
     "output_type": "display_data"
    }
   ],
   "source": [
    "from sklearn.multiclass import OneVsRestClassifier\n",
    "from sklearn.preprocessing import label_binarize\n",
    "\n",
    "models = {\n",
    "    'NB': GaussianNB(),\n",
    "    'MLP': MLPClassifier(max_iter=3000),\n",
    "    'SVC': SVC(probability=True),\n",
    "    'KNN': KNeighborsClassifier(),\n",
    "    'SGD': SGDClassifier(loss='log')\n",
    "}\n",
    "\n",
    "accuracies = {\n",
    "    'LR': [],\n",
    "    'GP': [],\n",
    "    'NB': [],\n",
    "    'MLP': [],\n",
    "    'SVC': [],\n",
    "    'KNN': [],\n",
    "    'SGD': []\n",
    "}\n",
    "\n",
    "SKF = StratifiedKFold(n_splits=5)\n",
    "uniq_classes = np.unique(y)\n",
    "\n",
    "figure(figsize=(8,8))\n",
    "plot([0,1],[0,1],color='black',lw=2,linestyle='--')\n",
    "plt.xlabel('False Positive Rate')\n",
    "plt.ylabel('True Positive Rate')\n",
    "plt.title('ROC')\n",
    "\n",
    "for model in models.keys():\n",
    "    for train_index, test_index in SKF.split(X, y):\n",
    "        X_train, X_test = X[train_index], X[test_index]\n",
    "        y_train, y_test = y[train_index], y[test_index]\n",
    "        clf = OneVsRestClassifier(models[model])\n",
    "        clf.fit(X_train, y_train)\n",
    "        accuracies[model].append(clf.score(X_test,y_test))\n",
    "    \n",
    "    print(model,':')\n",
    "    print('- mean :', mean(accuracies[model]))\n",
    "    print('- stdev: ', stdev(accuracies[model]))\n",
    "    print('\\n')\n",
    "    \n",
    "    #For ROC curves we have to binarize lables\n",
    "    y_pred = clf.predict(X_test)\n",
    "    y_pred_bin = label_binarize(y_pred, classes=[0,1,2])\n",
    "    y_test_bin = label_binarize(y_test, classes=[0,1,2])\n",
    "    \n",
    "    fpr, tpr, roc_auc = {}, {}, {}\n",
    "    \n",
    "    # Compute micro-average ROC curve and ROC area\n",
    "    fpr[\"micro\"], tpr[\"micro\"], _ = roc_curve(y_test_bin.ravel(), y_pred_bin.ravel())\n",
    "    roc_auc[\"micro\"] = auc(fpr[\"micro\"], tpr[\"micro\"])\n",
    "    \n",
    "    plt.plot(fpr[\"micro\"], tpr[\"micro\"], label=model + ' (AUC = {:0.2f})'.format(roc_auc[\"micro\"]))\n",
    "   \n",
    "   \n",
    "plt.legend(loc='lower right')"
   ]
  },
  {
   "cell_type": "markdown",
   "metadata": {
    "id": "GCpAekshhd7S"
   },
   "source": [
    "#### Task 2 - hyperparameter optimisation \n",
    "Use **double** `cross-validation` to find average effectiveness of the SVC classifier (on `load_breast_cancer` data) for the optimal `C` parameter.\n",
    "\n",
    "The double `K-Fold` method should be used: \n",
    "- first we split our set into `train/test`,\n",
    "- and then in each iteration we split train set into `train/dev` with another `cross-validation` loop. \n",
    "\n",
    "By train/dev division, we are looking for which parameter `C` gives the best result (let's assume that we test ~10 different values ​​evenly distributed from 0.2 to 2), and then we will use this optimal value to experiment on the test set.\n",
    "\n"
   ]
  },
  {
   "cell_type": "code",
   "execution_count": 6,
   "metadata": {
    "colab": {
     "base_uri": "https://localhost:8080/"
    },
    "executionInfo": {
     "elapsed": 225,
     "status": "ok",
     "timestamp": 1662574724248,
     "user": {
      "displayName": "Grażyna Rozmysłowicz",
      "userId": "11356318807843777886"
     },
     "user_tz": -120
    },
    "id": "AhsV5eEVUJxW",
    "outputId": "db4538b2-fed3-4831-f3ef-5286c0512534"
   },
   "outputs": [
    {
     "data": {
      "text/plain": [
       "[0.2, 0.4, 0.6, 0.8, 1.0, 1.2, 1.4, 1.6, 1.8, 2.0]"
      ]
     },
     "execution_count": 6,
     "metadata": {},
     "output_type": "execute_result"
    }
   ],
   "source": [
    "my_list = list(range(2, 22, 2))\n",
    "[i/10 for i in my_list]"
   ]
  },
  {
   "cell_type": "code",
   "execution_count": 9,
   "metadata": {
    "colab": {
     "base_uri": "https://localhost:8080/"
    },
    "executionInfo": {
     "elapsed": 2036,
     "status": "ok",
     "timestamp": 1662574770109,
     "user": {
      "displayName": "Grażyna Rozmysłowicz",
      "userId": "11356318807843777886"
     },
     "user_tz": -120
    },
    "id": "1TQVXzFlUJxY",
    "outputId": "321de061-a0d8-47f1-f89d-d5940a9754ad"
   },
   "outputs": [
    {
     "name": "stdout",
     "output_type": "stream",
     "text": [
      "the best result: C=2.0, acc=0.807\n",
      "the best result: C=2.0, acc=0.895\n",
      "the best result: C=2.0, acc=0.974\n",
      "the best result: C=0.4, acc=0.947\n",
      "the best result: C=1.2, acc=0.956\n",
      "\n",
      "\n",
      "mean(accuracies): 0.91571 \n",
      "stdev(accuracies): 0.067\n"
     ]
    }
   ],
   "source": [
    "from sklearn.model_selection import KFold\n",
    "from sklearn.svm import SVC\n",
    "from sklearn.model_selection import train_test_split\n",
    "from sklearn.metrics import accuracy_score\n",
    "from statistics import mean,stdev\n",
    "\n",
    "\n",
    "dataset = load_breast_cancer()\n",
    "X = dataset['data']\n",
    "y = dataset['target']\n",
    "X_train, X_test, y_train, y_test = train_test_split(dataset['data'], dataset['target'], test_size=0.1, random_state=42, stratify=dataset['target'])\n",
    "\n",
    "KF_outer = KFold(n_splits=5)\n",
    "KF_inner = KFold(n_splits=5)\n",
    "accuracies = []\n",
    "\n",
    "my_list = list(range(2, 22, 2))\n",
    "c_values = [i/10 for i in my_list] #[0.2, 0.4, 0.6, 0.8, 1, 1.2, 1.4, 1.6, 1.8, 2.0]\n",
    "c_values.reverse()\n",
    "best_c_arr = []\n",
    "\n",
    "for outer_train_index, outer_test_index in KF_outer.split(X, y):\n",
    "    X_train, X_test = X[outer_train_index], X[outer_test_index]\n",
    "    y_train, y_test = y[outer_train_index], y[outer_test_index]\n",
    "    \n",
    "    for inner_train_index, inner_test_index in KF_inner.split(X_train, y_train):\n",
    "        X_train_inner, X_test_inner = X_train[inner_train_index], X_train[inner_test_index]\n",
    "        y_train_inner, y_test_inner = y_train[inner_train_index], y_train[inner_test_index]\n",
    "        \n",
    "        parameters_dict = {key: None for key in c_values}\n",
    "        \n",
    "        for c in c_values:\n",
    "            svc = SVC(C=c)\n",
    "            svc.fit(X_train_inner, y_train_inner)\n",
    "            y_pred = svc.predict(X_test_inner)\n",
    "            parameters_dict[c] = accuracy_score(y_test_inner, y_pred)\n",
    "            \n",
    "        best_c = max(parameters_dict, key=parameters_dict.get)\n",
    "        \n",
    "    svc = SVC(C=best_c)\n",
    "    svc.fit(X_train, y_train)\n",
    "    y_pred = svc.predict(X_test)\n",
    "    acc = accuracy_score(y_test, y_pred)\n",
    "    accuracies.append(acc)\n",
    "    \n",
    "    print('the best result: C={}, acc={:.3f}'.format(best_c, acc))\n",
    "    \n",
    "print('\\n')\n",
    "print('mean(accuracies): %.5f \\nstdev(accuracies): %.3f' % (mean(accuracies), stdev(accuracies)))"
   ]
  }
 ],
 "metadata": {
  "colab": {
   "collapsed_sections": [],
   "provenance": []
  },
  "kernelspec": {
   "display_name": "Python 3",
   "language": "python",
   "name": "python3"
  },
  "language_info": {
   "codemirror_mode": {
    "name": "ipython",
    "version": 3
   },
   "file_extension": ".py",
   "mimetype": "text/x-python",
   "name": "python",
   "nbconvert_exporter": "python",
   "pygments_lexer": "ipython3",
   "version": "3.8.5"
  }
 },
 "nbformat": 4,
 "nbformat_minor": 1
}
