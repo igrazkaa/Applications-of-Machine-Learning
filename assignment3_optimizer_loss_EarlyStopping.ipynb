{
 "cells": [
  {
   "cell_type": "markdown",
   "metadata": {
    "id": "Mn_XRemkR6fM"
   },
   "source": [
    "### Optimizer, loss function and early stopping\n",
    "\n",
    "The code known from previous classes is presented below. This time we will make \"improvements\" to it and consider the correct **optimizer** and **loss function**. We will also introduce the basic `Early Stopping` to our model, which will prevent our model from **overfitting**.\n",
    "\n",
    "\n",
    "[1. Importing libraries](#1.-Importing-libraries) <br>\n",
    "[2. Data preparation](#2.-Data-preparation) <br>\n",
    "[3. Model training](#3.-Model-training) <br>\n",
    "[Task 1](#Task-1) <br>\n",
    "[Task 2](#Task-2) <br>\n",
    "[Task 3](#Task-3) <br>"
   ]
  },
  {
   "cell_type": "markdown",
   "metadata": {
    "id": "gchK-2kPR6fM"
   },
   "source": [
    "### 1. Importing libraries\n"
   ]
  },
  {
   "cell_type": "code",
   "execution_count": null,
   "metadata": {
    "colab": {
     "base_uri": "https://localhost:8080/"
    },
    "id": "0hk22wZDYbVQ",
    "outputId": "fbee06d1-3c7e-4884-f230-d657e6f7b4de"
   },
   "outputs": [
    {
     "name": "stdout",
     "output_type": "stream",
     "text": [
      "Requirement already satisfied: mnist in c:\\programdata\\anaconda3\\lib\\site-packages (0.2.2)\n",
      "Requirement already satisfied: numpy in c:\\programdata\\anaconda3\\lib\\site-packages (from mnist) (1.19.2)\n"
     ]
    }
   ],
   "source": [
    "!pip install mnist\n",
    "\n",
    "import tensorflow as tf\n",
    "import numpy as np\n",
    "import mnist\n",
    "\n",
    "from keras.models import Sequential\n",
    "from keras.layers import Dense\n",
    "from keras.layers import Dropout\n",
    "from keras.callbacks import EarlyStopping\n",
    "from keras.callbacks import ModelCheckpoint\n",
    "from keras.models import load_model\n",
    "from matplotlib import pyplot\n",
    "from tensorflow.keras.utils import to_categorical\n",
    "\n",
    "from tensorflow import keras\n",
    "from tensorflow.keras import backend as K\n",
    "\n",
    "import pandas as pd\n",
    "import matplotlib.pyplot as plt"
   ]
  },
  {
   "cell_type": "markdown",
   "metadata": {
    "id": "APpHwz_fR6fN"
   },
   "source": [
    "### 2. Data preparation"
   ]
  },
  {
   "cell_type": "code",
   "execution_count": null,
   "metadata": {
    "id": "2CPZuB2vsqBS"
   },
   "outputs": [],
   "source": [
    "train_images = mnist.train_images()\n",
    "train_labels = mnist.train_labels()\n",
    "test_images = mnist.test_images()\n",
    "test_labels = mnist.test_labels()\n",
    "\n",
    "train_images = (train_images / 255) - 0.5\n",
    "test_images = (test_images / 255) - 0.5\n",
    "\n",
    "train_images = train_images.reshape((-1, 784))\n",
    "test_images = test_images.reshape((-1, 784))\n",
    "\n",
    "model = Sequential([\n",
    "  Dense(64, activation='relu', input_shape=(784,)),\n",
    "  Dense(64, activation='relu'),\n",
    "  Dense(10, activation='softmax'),\n",
    "])\n",
    "\n",
    "model.compile(\n",
    "  optimizer='adam', \n",
    "  loss='categorical_crossentropy', \n",
    "  metrics=['accuracy'],\n",
    ")"
   ]
  },
  {
   "cell_type": "code",
   "execution_count": null,
   "metadata": {
    "id": "oEO8Y_wecIM2",
    "outputId": "2bb08dd0-6376-4090-dd58-12706bc225d9"
   },
   "outputs": [
    {
     "data": {
      "text/plain": [
       "array([[0., 0., 0., ..., 0., 0., 0.],\n",
       "       [1., 0., 0., ..., 0., 0., 0.],\n",
       "       [0., 0., 0., ..., 0., 0., 0.],\n",
       "       ...,\n",
       "       [0., 0., 0., ..., 0., 0., 0.],\n",
       "       [0., 0., 0., ..., 0., 0., 0.],\n",
       "       [0., 0., 0., ..., 0., 1., 0.]], dtype=float32)"
      ]
     },
     "execution_count": 4,
     "metadata": {},
     "output_type": "execute_result"
    }
   ],
   "source": [
    "to_categorical(train_labels)"
   ]
  },
  {
   "cell_type": "markdown",
   "metadata": {
    "id": "2TyGYkqBR6fO"
   },
   "source": [
    "### 3. Model training"
   ]
  },
  {
   "cell_type": "code",
   "execution_count": null,
   "metadata": {
    "id": "9PR3R15KcIM4"
   },
   "outputs": [],
   "source": [
    "f1 = EarlyStopping()\n",
    "f2 = ModelCheckpoint()\n",
    "\n",
    "history = model.fit(x, y, validation_data = a, b, callbacks = [f1,f2])\n",
    "trained model = z\n",
    "\n",
    "train_accuracy = trained_model.evaluate(x, y)\n",
    "test_accuracy = trained_model.evaluate(a, b)\n",
    "\n",
    "print(train_accuracy + test_accuracy)"
   ]
  },
  {
   "cell_type": "markdown",
   "metadata": {
    "id": "li4Y1654R6fP"
   },
   "source": [
    "### Task 1\n",
    "Do the learning process with early stopping, follow the steps below.\n",
    "1. Create a `f1` variable, refer to **early stopping**, enter the appropriate values ​​for parameters such as `monitor`, `mode`, `verbose` and `patience`.\n",
    "2. Create a `f2` variable, refer to **ModelCheckpoint**, enter a name for your model and the appropriate values ​​for `monitor`, `mode`, `verbose` and `save_best_only` parameters.\n",
    "3. Create a `history` variable. It should contain the training data (x), training data labels (y), test data (a), and test data labels (b) created in the previous step, and corresponding `epochs` and `verbose` parameter values.\n",
    "4. Create a `trained_model` variable, load the model using the model name from point 2.\n",
    "5. Create a `train_accuracy` variable , refer to `trained_model.evaluate`, use training data (x) and training data labels (y).\n",
    "6. Create a `test_accuracy` variable, refer to `trained_model.evaluate`, use test data (a) and test data labels (b).\n",
    "7. Train the network for 100 `epochs` with a `patience` value = 10. At which epoch will the network training process stop?\n",
    "8. Display classification `accuracy` on training and test material."
   ]
  },
  {
   "cell_type": "code",
   "execution_count": null,
   "metadata": {
    "id": "BXvbfmDTcIM8"
   },
   "outputs": [],
   "source": [
    "f1 = EarlyStopping(\n",
    "    monitor='val_loss', \n",
    "    mode='min', \n",
    "    verbose=1, #To discover the training epoch on which training was stopped\n",
    "    patience=15, \n",
    "    min_delta=0, #=1 You may want to consider an improvement that is a specific increment, such as 1 unit for mean squared error or 1% for accuracy.\n",
    "    baseline=None #stop training if performance stays above or below a given threshold or baseline\n",
    ")\n",
    "\n",
    "f2 = ModelCheckpoint(\n",
    "    filepath=\"model.h5\", #save the best model observed during training for later use\n",
    "    monitor='val_loss',\n",
    "    mode='min',\n",
    "    verbose=1, #=1 know the value of the performance measure and at what epoch the model was saved\n",
    "    save_best_only=True\n",
    ")"
   ]
  },
  {
   "cell_type": "code",
   "execution_count": null,
   "metadata": {
    "id": "2L_GWy51cIM-",
    "outputId": "a5d03bff-6036-43b1-acc4-9d0b25732acc"
   },
   "outputs": [
    {
     "name": "stdout",
     "output_type": "stream",
     "text": [
      "Epoch 1/100\n",
      "1862/1875 [============================>.] - ETA: 0s - loss: 0.3614 - accuracy: 0.8932\n",
      "Epoch 00001: val_loss improved from inf to 0.23417, saving model to model.h5\n",
      "1875/1875 [==============================] - 3s 1ms/step - loss: 0.3608 - accuracy: 0.8934 - val_loss: 0.2342 - val_accuracy: 0.9282\n",
      "Epoch 2/100\n",
      "1868/1875 [============================>.] - ETA: 0s - loss: 0.1844 - accuracy: 0.9440\n",
      "Epoch 00002: val_loss improved from 0.23417 to 0.15494, saving model to model.h5\n",
      "1875/1875 [==============================] - 2s 1ms/step - loss: 0.1842 - accuracy: 0.9441 - val_loss: 0.1549 - val_accuracy: 0.9497\n",
      "Epoch 3/100\n",
      "1847/1875 [============================>.] - ETA: 0s - loss: 0.1398 - accuracy: 0.9567 ETA: 0s - loss: 0.1\n",
      "Epoch 00003: val_loss improved from 0.15494 to 0.12654, saving model to model.h5\n",
      "1875/1875 [==============================] - 2s 1ms/step - loss: 0.1398 - accuracy: 0.9567 - val_loss: 0.1265 - val_accuracy: 0.9594\n",
      "Epoch 4/100\n",
      "1872/1875 [============================>.] - ETA: 0s - loss: 0.1212 - accuracy: 0.9622\n",
      "Epoch 00004: val_loss improved from 0.12654 to 0.12640, saving model to model.h5\n",
      "1875/1875 [==============================] - 2s 1ms/step - loss: 0.1212 - accuracy: 0.9621 - val_loss: 0.1264 - val_accuracy: 0.9593\n",
      "Epoch 5/100\n",
      "1840/1875 [============================>.] - ETA: 0s - loss: 0.1048 - accuracy: 0.9661 ETA: 0s - loss:\n",
      "Epoch 00005: val_loss did not improve from 0.12640\n",
      "1875/1875 [==============================] - 2s 1ms/step - loss: 0.1048 - accuracy: 0.9661 - val_loss: 0.1342 - val_accuracy: 0.9551\n",
      "Epoch 6/100\n",
      "1870/1875 [============================>.] - ETA: 0s - loss: 0.0937 - accuracy: 0.9711\n",
      "Epoch 00006: val_loss improved from 0.12640 to 0.10817, saving model to model.h5\n",
      "1875/1875 [==============================] - 2s 1ms/step - loss: 0.0937 - accuracy: 0.9711 - val_loss: 0.1082 - val_accuracy: 0.9663\n",
      "Epoch 7/100\n",
      "1866/1875 [============================>.] - ETA: 0s - loss: 0.0840 - accuracy: 0.9729\n",
      "Epoch 00007: val_loss improved from 0.10817 to 0.10477, saving model to model.h5\n",
      "1875/1875 [==============================] - 2s 1ms/step - loss: 0.0840 - accuracy: 0.9729 - val_loss: 0.1048 - val_accuracy: 0.9688\n",
      "Epoch 8/100\n",
      "1854/1875 [============================>.] - ETA: 0s - loss: 0.0794 - accuracy: 0.9744\n",
      "Epoch 00008: val_loss did not improve from 0.10477\n",
      "1875/1875 [==============================] - 2s 1ms/step - loss: 0.0792 - accuracy: 0.9745 - val_loss: 0.1293 - val_accuracy: 0.9616\n",
      "Epoch 9/100\n",
      "1858/1875 [============================>.] - ETA: 0s - loss: 0.0728 - accuracy: 0.9771\n",
      "Epoch 00009: val_loss did not improve from 0.10477\n",
      "1875/1875 [==============================] - 2s 1ms/step - loss: 0.0728 - accuracy: 0.9771 - val_loss: 0.1154 - val_accuracy: 0.9662\n",
      "Epoch 10/100\n",
      "1832/1875 [============================>.] - ETA: 0s - loss: 0.0660 - accuracy: 0.9784\n",
      "Epoch 00010: val_loss did not improve from 0.10477\n",
      "1875/1875 [==============================] - 2s 1ms/step - loss: 0.0664 - accuracy: 0.9783 - val_loss: 0.1324 - val_accuracy: 0.9605\n",
      "Epoch 11/100\n",
      "1834/1875 [============================>.] - ETA: 0s - loss: 0.0631 - accuracy: 0.9800\n",
      "Epoch 00011: val_loss improved from 0.10477 to 0.10107, saving model to model.h5\n",
      "1875/1875 [==============================] - 2s 1ms/step - loss: 0.0633 - accuracy: 0.9799 - val_loss: 0.1011 - val_accuracy: 0.9699\n",
      "Epoch 12/100\n",
      "1841/1875 [============================>.] - ETA: 0s - loss: 0.0582 - accuracy: 0.9808\n",
      "Epoch 00012: val_loss improved from 0.10107 to 0.09466, saving model to model.h5\n",
      "1875/1875 [==============================] - 2s 1ms/step - loss: 0.0581 - accuracy: 0.9809 - val_loss: 0.0947 - val_accuracy: 0.9712\n",
      "Epoch 13/100\n",
      "1854/1875 [============================>.] - ETA: 0s - loss: 0.0562 - accuracy: 0.9814 ETA: 0s\n",
      "Epoch 00013: val_loss did not improve from 0.09466\n",
      "1875/1875 [==============================] - 2s 1ms/step - loss: 0.0560 - accuracy: 0.9814 - val_loss: 0.1050 - val_accuracy: 0.9689\n",
      "Epoch 14/100\n",
      "1869/1875 [============================>.] - ETA: 0s - loss: 0.0517 - accuracy: 0.9826\n",
      "Epoch 00014: val_loss did not improve from 0.09466\n",
      "1875/1875 [==============================] - 2s 1ms/step - loss: 0.0518 - accuracy: 0.9825 - val_loss: 0.1165 - val_accuracy: 0.9675\n",
      "Epoch 15/100\n",
      "1852/1875 [============================>.] - ETA: 0s - loss: 0.0501 - accuracy: 0.9835\n",
      "Epoch 00015: val_loss did not improve from 0.09466\n",
      "1875/1875 [==============================] - 2s 1ms/step - loss: 0.0503 - accuracy: 0.9833 - val_loss: 0.1200 - val_accuracy: 0.9676\n",
      "Epoch 16/100\n",
      "1848/1875 [============================>.] - ETA: 0s - loss: 0.0476 - accuracy: 0.9843\n",
      "Epoch 00016: val_loss did not improve from 0.09466\n",
      "1875/1875 [==============================] - 2s 1ms/step - loss: 0.0474 - accuracy: 0.9844 - val_loss: 0.1023 - val_accuracy: 0.9717\n",
      "Epoch 17/100\n",
      "1849/1875 [============================>.] - ETA: 0s - loss: 0.0437 - accuracy: 0.9849\n",
      "Epoch 00017: val_loss did not improve from 0.09466\n",
      "1875/1875 [==============================] - 2s 1ms/step - loss: 0.0439 - accuracy: 0.9849 - val_loss: 0.1109 - val_accuracy: 0.9712\n",
      "Epoch 18/100\n",
      "1856/1875 [============================>.] - ETA: 0s - loss: 0.0409 - accuracy: 0.9859\n",
      "Epoch 00018: val_loss did not improve from 0.09466\n",
      "1875/1875 [==============================] - 2s 1ms/step - loss: 0.0411 - accuracy: 0.9859 - val_loss: 0.1195 - val_accuracy: 0.9683\n",
      "Epoch 19/100\n",
      "1831/1875 [============================>.] - ETA: 0s - loss: 0.0423 - accuracy: 0.9853\n",
      "Epoch 00019: val_loss did not improve from 0.09466\n",
      "1875/1875 [==============================] - 2s 1ms/step - loss: 0.0424 - accuracy: 0.9854 - val_loss: 0.1041 - val_accuracy: 0.9724\n",
      "Epoch 20/100\n",
      "1846/1875 [============================>.] - ETA: 0s - loss: 0.0378 - accuracy: 0.9875\n",
      "Epoch 00020: val_loss did not improve from 0.09466\n",
      "1875/1875 [==============================] - 2s 1ms/step - loss: 0.0377 - accuracy: 0.9875 - val_loss: 0.1206 - val_accuracy: 0.9697\n",
      "Epoch 21/100\n",
      "1875/1875 [==============================] - ETA: 0s - loss: 0.0383 - accuracy: 0.9866\n",
      "Epoch 00021: val_loss did not improve from 0.09466\n",
      "1875/1875 [==============================] - 2s 1ms/step - loss: 0.0383 - accuracy: 0.9866 - val_loss: 0.1130 - val_accuracy: 0.9707\n",
      "Epoch 22/100\n",
      "1830/1875 [============================>.] - ETA: 0s - loss: 0.0376 - accuracy: 0.9872\n",
      "Epoch 00022: val_loss did not improve from 0.09466\n",
      "1875/1875 [==============================] - 2s 1ms/step - loss: 0.0377 - accuracy: 0.9872 - val_loss: 0.1254 - val_accuracy: 0.9672\n",
      "Epoch 23/100\n",
      "1860/1875 [============================>.] - ETA: 0s - loss: 0.0359 - accuracy: 0.9877\n",
      "Epoch 00023: val_loss did not improve from 0.09466\n",
      "1875/1875 [==============================] - 2s 1ms/step - loss: 0.0359 - accuracy: 0.9877 - val_loss: 0.1170 - val_accuracy: 0.9720\n",
      "Epoch 24/100\n",
      "1870/1875 [============================>.] - ETA: 0s - loss: 0.0314 - accuracy: 0.9892\n",
      "Epoch 00024: val_loss did not improve from 0.09466\n",
      "1875/1875 [==============================] - 2s 1ms/step - loss: 0.0314 - accuracy: 0.9893 - val_loss: 0.1255 - val_accuracy: 0.9721\n",
      "Epoch 25/100\n",
      "1839/1875 [============================>.] - ETA: 0s - loss: 0.0356 - accuracy: 0.9877\n",
      "Epoch 00025: val_loss did not improve from 0.09466\n",
      "1875/1875 [==============================] - 2s 1ms/step - loss: 0.0355 - accuracy: 0.9877 - val_loss: 0.1199 - val_accuracy: 0.9728\n",
      "Epoch 26/100\n",
      "1853/1875 [============================>.] - ETA: 0s - loss: 0.0316 - accuracy: 0.9892\n",
      "Epoch 00026: val_loss did not improve from 0.09466\n",
      "1875/1875 [==============================] - 2s 1ms/step - loss: 0.0315 - accuracy: 0.9893 - val_loss: 0.1261 - val_accuracy: 0.9701\n",
      "Epoch 27/100\n",
      "1842/1875 [============================>.] - ETA: 0s - loss: 0.0291 - accuracy: 0.9896\n",
      "Epoch 00027: val_loss did not improve from 0.09466\n",
      "1875/1875 [==============================] - 2s 1ms/step - loss: 0.0292 - accuracy: 0.9895 - val_loss: 0.1408 - val_accuracy: 0.9708\n",
      "Epoch 00027: early stopping\n"
     ]
    }
   ],
   "source": [
    "history = model.fit(\n",
    "    train_images, \n",
    "    to_categorical(train_labels), \n",
    "    validation_data = (test_images, to_categorical(test_labels)), \n",
    "    callbacks = [f1,f2],\n",
    "    epochs=100,\n",
    "    verbose=1\n",
    ")"
   ]
  },
  {
   "cell_type": "code",
   "execution_count": null,
   "metadata": {
    "id": "Z0sd_gDlcIM_",
    "outputId": "970bea71-c825-4264-d219-10bbf8ce842a"
   },
   "outputs": [
    {
     "data": {
      "image/png": "[encoded data removed]",
      "text/plain": [
       "<Figure size 576x432 with 1 Axes>"
      ]
     },
     "metadata": {
      "needs_background": "light"
     },
     "output_type": "display_data"
    }
   ],
   "source": [
    "pd.DataFrame(history.history).plot(figsize=(8,6))\n",
    "plt.show()"
   ]
  },
  {
   "cell_type": "code",
   "execution_count": null,
   "metadata": {
    "id": "jWyZVsDicINA"
   },
   "outputs": [],
   "source": [
    "trained_model = load_model('model.h5')"
   ]
  },
  {
   "cell_type": "code",
   "execution_count": null,
   "metadata": {
    "id": "G9f9It0ucINB",
    "outputId": "41a7951f-7f0e-4e6b-e774-37de5793f957"
   },
   "outputs": [
    {
     "name": "stdout",
     "output_type": "stream",
     "text": [
      "1875/1875 [==============================] - 1s 711us/step - loss: 0.0459 - accuracy: 0.9847\n"
     ]
    }
   ],
   "source": [
    "train_accuracy = trained_model.evaluate(train_images, to_categorical(train_labels))"
   ]
  },
  {
   "cell_type": "code",
   "execution_count": null,
   "metadata": {
    "id": "BmMiDi16cINB",
    "outputId": "f17a631a-6348-4f26-85de-cf407b734120"
   },
   "outputs": [
    {
     "name": "stdout",
     "output_type": "stream",
     "text": [
      "313/313 [==============================] - 0s 1ms/step - loss: 0.0947 - accuracy: 0.9712\n"
     ]
    }
   ],
   "source": [
    "test_accuracy = trained_model.evaluate(test_images, to_categorical(test_labels))"
   ]
  },
  {
   "cell_type": "code",
   "execution_count": null,
   "metadata": {
    "id": "Yc3M9lwUcINC",
    "outputId": "017f158f-b133-419c-ccd1-a2c69553d1c6"
   },
   "outputs": [
    {
     "name": "stdout",
     "output_type": "stream",
     "text": [
      "Epoch 1/100\n",
      "1869/1875 [============================>.] - ETA: 0s - loss: 0.0555 - accuracy: 0.9818\n",
      "Epoch 00001: val_loss did not improve from 0.09466\n",
      "1875/1875 [==============================] - 2s 1ms/step - loss: 0.0558 - accuracy: 0.9818 - val_loss: 0.1036 - val_accuracy: 0.9690\n",
      "Epoch 2/100\n",
      "1829/1875 [============================>.] - ETA: 0s - loss: 0.0519 - accuracy: 0.9824\n",
      "Epoch 00002: val_loss did not improve from 0.09466\n",
      "1875/1875 [==============================] - 2s 1ms/step - loss: 0.0523 - accuracy: 0.9822 - val_loss: 0.1095 - val_accuracy: 0.9674\n",
      "Epoch 3/100\n",
      "1830/1875 [============================>.] - ETA: 0s - loss: 0.0475 - accuracy: 0.9846\n",
      "Epoch 00003: val_loss did not improve from 0.09466\n",
      "1875/1875 [==============================] - 2s 1ms/step - loss: 0.0480 - accuracy: 0.9845 - val_loss: 0.1244 - val_accuracy: 0.9682\n",
      "Epoch 4/100\n",
      "1864/1875 [============================>.] - ETA: 0s - loss: 0.0489 - accuracy: 0.9841 ETA: 1s - loss: 0.0421 - ac - ETA\n",
      "Epoch 00004: val_loss did not improve from 0.09466\n",
      "1875/1875 [==============================] - 2s 1ms/step - loss: 0.0488 - accuracy: 0.9841 - val_loss: 0.1157 - val_accuracy: 0.9699\n",
      "Epoch 5/100\n",
      "1827/1875 [============================>.] - ETA: 0s - loss: 0.0449 - accuracy: 0.9848\n",
      "Epoch 00005: val_loss did not improve from 0.09466\n",
      "1875/1875 [==============================] - 2s 1ms/step - loss: 0.0450 - accuracy: 0.9847 - val_loss: 0.1123 - val_accuracy: 0.9712\n",
      "Epoch 6/100\n",
      "1829/1875 [============================>.] - ETA: 0s - loss: 0.0434 - accuracy: 0.9859\n",
      "Epoch 00006: val_loss did not improve from 0.09466\n",
      "1875/1875 [==============================] - 2s 1ms/step - loss: 0.0430 - accuracy: 0.9860 - val_loss: 0.0965 - val_accuracy: 0.9733\n",
      "Epoch 7/100\n",
      "1848/1875 [============================>.] - ETA: 0s - loss: 0.0407 - accuracy: 0.9857\n",
      "Epoch 00007: val_loss did not improve from 0.09466\n",
      "1875/1875 [==============================] - 2s 1ms/step - loss: 0.0405 - accuracy: 0.9858 - val_loss: 0.1261 - val_accuracy: 0.9687\n",
      "Epoch 8/100\n",
      "1839/1875 [============================>.] - ETA: 0s - loss: 0.0397 - accuracy: 0.9871\n",
      "Epoch 00008: val_loss did not improve from 0.09466\n",
      "1875/1875 [==============================] - 2s 1ms/step - loss: 0.0398 - accuracy: 0.9871 - val_loss: 0.1043 - val_accuracy: 0.9724\n",
      "Epoch 9/100\n",
      "1850/1875 [============================>.] - ETA: 0s - loss: 0.0391 - accuracy: 0.9868\n",
      "Epoch 00009: val_loss did not improve from 0.09466\n",
      "1875/1875 [==============================] - 2s 1ms/step - loss: 0.0391 - accuracy: 0.9868 - val_loss: 0.1264 - val_accuracy: 0.9693\n",
      "Epoch 10/100\n",
      "1869/1875 [============================>.] - ETA: 0s - loss: 0.0366 - accuracy: 0.9872\n",
      "Epoch 00010: val_loss did not improve from 0.09466\n",
      "1875/1875 [==============================] - 2s 1ms/step - loss: 0.0366 - accuracy: 0.9872 - val_loss: 0.1097 - val_accuracy: 0.9721\n",
      "Epoch 11/100\n",
      "1860/1875 [============================>.] - ETA: 0s - loss: 0.0336 - accuracy: 0.9886\n",
      "Epoch 00011: val_loss did not improve from 0.09466\n",
      "1875/1875 [==============================] - 2s 1ms/step - loss: 0.0340 - accuracy: 0.9885 - val_loss: 0.1210 - val_accuracy: 0.9691\n",
      "Epoch 12/100\n",
      "1858/1875 [============================>.] - ETA: 0s - loss: 0.0339 - accuracy: 0.9885\n",
      "Epoch 00012: val_loss did not improve from 0.09466\n",
      "1875/1875 [==============================] - 2s 1ms/step - loss: 0.0340 - accuracy: 0.9886 - val_loss: 0.1342 - val_accuracy: 0.9685\n",
      "Epoch 13/100\n",
      "1856/1875 [============================>.] - ETA: 0s - loss: 0.0311 - accuracy: 0.9897\n",
      "Epoch 00013: val_loss did not improve from 0.09466\n",
      "1875/1875 [==============================] - 2s 1ms/step - loss: 0.0311 - accuracy: 0.9897 - val_loss: 0.1097 - val_accuracy: 0.9703\n",
      "Epoch 14/100\n",
      "1843/1875 [============================>.] - ETA: 0s - loss: 0.0336 - accuracy: 0.9885\n",
      "Epoch 00014: val_loss did not improve from 0.09466\n",
      "1875/1875 [==============================] - 2s 1ms/step - loss: 0.0339 - accuracy: 0.9884 - val_loss: 0.1855 - val_accuracy: 0.9557\n",
      "Epoch 15/100\n",
      "1862/1875 [============================>.] - ETA: 0s - loss: 0.0313 - accuracy: 0.9894\n",
      "Epoch 00015: val_loss did not improve from 0.09466\n",
      "1875/1875 [==============================] - 2s 1ms/step - loss: 0.0312 - accuracy: 0.9894 - val_loss: 0.1339 - val_accuracy: 0.9696\n",
      "Epoch 16/100\n",
      "1850/1875 [============================>.] - ETA: 0s - loss: 0.0301 - accuracy: 0.9895\n",
      "Epoch 00016: val_loss did not improve from 0.09466\n",
      "1875/1875 [==============================] - 2s 1ms/step - loss: 0.0300 - accuracy: 0.9895 - val_loss: 0.1233 - val_accuracy: 0.9718\n",
      "Epoch 00016: early stopping\n"
     ]
    }
   ],
   "source": [
    "f1 = EarlyStopping(\n",
    "    monitor='val_loss',\n",
    "    mode='min',\n",
    "    verbose=1,\n",
    "    patience=10\n",
    ")\n",
    "\n",
    "history = trained_model.fit(\n",
    "    train_images,\n",
    "    to_categorical(train_labels),\n",
    "    epochs=100,\n",
    "    verbose=1,\n",
    "    validation_data=(test_images, to_categorical(test_labels)),\n",
    "    callbacks=[f1, f2]\n",
    "    )"
   ]
  },
  {
   "cell_type": "markdown",
   "metadata": {
    "id": "56-you-vcINC"
   },
   "source": [
    "**<u>Conclusion</u>**: The network training process stopped in the 16th epoch."
   ]
  },
  {
   "cell_type": "code",
   "execution_count": null,
   "metadata": {
    "id": "6buRb3w5cINC",
    "outputId": "ee1f018c-d1f8-4a42-a78d-79d269dc3fbe"
   },
   "outputs": [
    {
     "name": "stdout",
     "output_type": "stream",
     "text": [
      "[0.0459163673222065, 0.984749972820282, 0.09465626627206802, 0.9711999893188477]\n"
     ]
    }
   ],
   "source": [
    "print(train_accuracy + test_accuracy)"
   ]
  },
  {
   "cell_type": "code",
   "execution_count": null,
   "metadata": {
    "id": "y9BHKb9WcIND",
    "outputId": "d1131c09-d46d-400f-f98c-fefe16b16c7e"
   },
   "outputs": [
    {
     "name": "stdout",
     "output_type": "stream",
     "text": [
      "1875/1875 [==============================] - 2s 1ms/step - loss: 0.0387 - accuracy: 0.9873\n",
      "1875/1875 [==============================] - 2s 1ms/step - loss: 0.0387 - accuracy: 0.9873\n",
      "\n",
      "\n",
      "Not early stopping:\n",
      "Train accuracy: 0.985\n",
      "Test accuracy: 0.971\n",
      "\n",
      "\n",
      "Early stopping & patience=10:\n",
      "Train accuracy: 0.987\n",
      "Test accuracy: 0.987\n"
     ]
    }
   ],
   "source": [
    "train_accuracy_early = model.evaluate(train_images, to_categorical(train_labels))\n",
    "test_accuracy_early = model.evaluate(train_images, to_categorical(train_labels))\n",
    "print('\\n')\n",
    "print('Not early stopping:')\n",
    "print('Train accuracy: %.3f\\nTest accuracy: %.3f' % (train_accuracy[1], test_accuracy[1]))\n",
    "print('\\n')\n",
    "print('Early stopping & patience=10:')\n",
    "print('Train accuracy: %.3f\\nTest accuracy: %.3f' % (train_accuracy_early[1], test_accuracy_early[1]))"
   ]
  },
  {
   "cell_type": "markdown",
   "metadata": {
    "id": "9-vMmyrGR6fP"
   },
   "source": [
    "### Task 2\n",
    "Restart the network training process, this time making a change for the `loss` function and the `optimizer`.\n",
    "1. Try a different `loss` function (**Poisson** distribution). Does such a function make sense in the case of our data set?\n",
    "2. Try another `optimizer` (using the **Adadelta** algorithm). Do you see any changes in the learning process compared to the algorithm used in the tutorial (**adam**)? Where could the reasons for these differences lie? (see https://keras.io/api/optimizers/adadelta)."
   ]
  },
  {
   "cell_type": "markdown",
   "metadata": {
    "id": "hpxxzs6sR6fQ"
   },
   "source": [
    "Ad. 1."
   ]
  },
  {
   "cell_type": "code",
   "execution_count": null,
   "metadata": {
    "id": "2xiPZFscR6fQ",
    "outputId": "d14e55df-ada0-4b66-8b54-475be0ed32c0"
   },
   "outputs": [
    {
     "name": "stdout",
     "output_type": "stream",
     "text": [
      "Epoch 1/100\n",
      "1870/1875 [============================>.] - ETA: 0s - loss: 0.1016 - accuracy: 0.9955\n",
      "Epoch 00001: val_loss improved from inf to 0.11945, saving model to model.h5\n",
      "1875/1875 [==============================] - 2s 1ms/step - loss: 0.1016 - accuracy: 0.9955 - val_loss: 0.1194 - val_accuracy: 0.9740\n",
      "Epoch 2/100\n",
      "1870/1875 [============================>.] - ETA: 0s - loss: 0.1016 - accuracy: 0.9953\n",
      "Epoch 00002: val_loss did not improve from 0.11945\n",
      "1875/1875 [==============================] - 2s 1ms/step - loss: 0.1015 - accuracy: 0.9953 - val_loss: 0.1196 - val_accuracy: 0.9744\n",
      "Epoch 3/100\n",
      "1860/1875 [============================>.] - ETA: 0s - loss: 0.1013 - accuracy: 0.9962\n",
      "Epoch 00003: val_loss did not improve from 0.11945\n",
      "1875/1875 [==============================] - 2s 1ms/step - loss: 0.1013 - accuracy: 0.9962 - val_loss: 0.1220 - val_accuracy: 0.9709\n",
      "Epoch 4/100\n",
      "1859/1875 [============================>.] - ETA: 0s - loss: 0.1014 - accuracy: 0.9961 ETA: 0s - loss: 0.1013 - accu\n",
      "Epoch 00004: val_loss did not improve from 0.11945\n",
      "1875/1875 [==============================] - 2s 1ms/step - loss: 0.1014 - accuracy: 0.9961 - val_loss: 0.1220 - val_accuracy: 0.9711\n",
      "Epoch 5/100\n",
      "1837/1875 [============================>.] - ETA: 0s - loss: 0.1013 - accuracy: 0.9961\n",
      "Epoch 00005: val_loss did not improve from 0.11945\n",
      "1875/1875 [==============================] - 2s 1ms/step - loss: 0.1013 - accuracy: 0.9961 - val_loss: 0.1214 - val_accuracy: 0.9701\n",
      "Epoch 6/100\n",
      "1869/1875 [============================>.] - ETA: 0s - loss: 0.1016 - accuracy: 0.9952 ETA: 0s - los\n",
      "Epoch 00006: val_loss did not improve from 0.11945\n",
      "1875/1875 [==============================] - 2s 1ms/step - loss: 0.1016 - accuracy: 0.9952 - val_loss: 0.1225 - val_accuracy: 0.9704\n",
      "Epoch 7/100\n",
      "1824/1875 [============================>.] - ETA: 0s - loss: 0.1013 - accuracy: 0.9962\n",
      "Epoch 00007: val_loss did not improve from 0.11945\n",
      "1875/1875 [==============================] - 2s 1ms/step - loss: 0.1014 - accuracy: 0.9962 - val_loss: 0.1236 - val_accuracy: 0.9689\n",
      "Epoch 8/100\n",
      "1825/1875 [============================>.] - ETA: 0s - loss: 0.1016 - accuracy: 0.9956\n",
      "Epoch 00008: val_loss did not improve from 0.11945\n",
      "1875/1875 [==============================] - 2s 1ms/step - loss: 0.1016 - accuracy: 0.9956 - val_loss: 0.1223 - val_accuracy: 0.9715\n",
      "Epoch 9/100\n",
      "1859/1875 [============================>.] - ETA: 0s - loss: 0.1013 - accuracy: 0.9963\n",
      "Epoch 00009: val_loss did not improve from 0.11945\n",
      "1875/1875 [==============================] - 2s 1ms/step - loss: 0.1013 - accuracy: 0.9962 - val_loss: 0.1234 - val_accuracy: 0.9693\n",
      "Epoch 10/100\n",
      "1822/1875 [============================>.] - ETA: 0s - loss: 0.1017 - accuracy: 0.9954\n",
      "Epoch 00010: val_loss did not improve from 0.11945\n",
      "1875/1875 [==============================] - 2s 1ms/step - loss: 0.1017 - accuracy: 0.9954 - val_loss: 0.1210 - val_accuracy: 0.9717\n",
      "Epoch 11/100\n",
      "1837/1875 [============================>.] - ETA: 0s - loss: 0.1012 - accuracy: 0.9964\n",
      "Epoch 00011: val_loss did not improve from 0.11945\n",
      "1875/1875 [==============================] - 2s 1ms/step - loss: 0.1012 - accuracy: 0.9963 - val_loss: 0.1210 - val_accuracy: 0.9709\n",
      "Epoch 00011: early stopping\n"
     ]
    }
   ],
   "source": [
    "model.compile(\n",
    "    optimizer='adam',\n",
    "    loss='Poisson',\n",
    "    metrics=['accuracy'],\n",
    ")\n",
    "\n",
    "f1 = EarlyStopping(\n",
    "    monitor='val_loss',\n",
    "    mode='min', \n",
    "    verbose=1, \n",
    "    patience=10, \n",
    ")\n",
    "\n",
    "f2 = ModelCheckpoint(\n",
    "    filepath=\"model.h5\",\n",
    "    monitor='val_loss',\n",
    "    mode='min',\n",
    "    verbose=1,\n",
    "    save_best_only=True\n",
    ")\n",
    "\n",
    "history = model.fit(\n",
    "    train_images,\n",
    "    to_categorical(train_labels),\n",
    "    epochs=100,\n",
    "    verbose=1,\n",
    "    validation_data=(test_images, to_categorical(test_labels)),\n",
    "    callbacks=[f1, f2]\n",
    ")"
   ]
  },
  {
   "cell_type": "code",
   "execution_count": null,
   "metadata": {
    "id": "H78PC6ECcINF",
    "outputId": "ddd33d36-2fe0-4fe5-ae66-a67109f80883"
   },
   "outputs": [
    {
     "data": {
      "image/png": "[encoded data removed]",
      "text/plain": [
       "<Figure size 576x432 with 1 Axes>"
      ]
     },
     "metadata": {
      "needs_background": "light"
     },
     "output_type": "display_data"
    },
    {
     "name": "stdout",
     "output_type": "stream",
     "text": [
      "1875/1875 [==============================] - 2s 771us/step - loss: 0.1003 - accuracy: 0.9988\n",
      "313/313 [==============================] - 0s 993us/step - loss: 0.1194 - accuracy: 0.9740\n",
      "[0.10030167549848557, 0.9988499879837036, 0.11944528669118881, 0.9739999771118164]\n"
     ]
    }
   ],
   "source": [
    "pd.DataFrame(history.history).plot(figsize=(8,6))\n",
    "plt.show()\n",
    "\n",
    "trained_model = load_model('model.h5')\n",
    "train_accuracy = trained_model.evaluate(train_images, to_categorical(train_labels))\n",
    "test_accuracy = trained_model.evaluate(test_images, to_categorical(test_labels))\n",
    "print(train_accuracy + test_accuracy)"
   ]
  },
  {
   "cell_type": "code",
   "execution_count": null,
   "metadata": {
    "id": "TRA0Y7j8cINF",
    "outputId": "02e1d3e3-6209-44db-8dcb-cade63c9b59e"
   },
   "outputs": [
    {
     "name": "stdout",
     "output_type": "stream",
     "text": [
      "Train: 0.099, Test: 0.098\n"
     ]
    }
   ],
   "source": [
    "_, train_acc = model.evaluate(train_images, train_labels, verbose=0)\n",
    "_, test_acc = model.evaluate(test_images, test_labels, verbose=0)\n",
    "print('Train: %.3f, Test: %.3f' % (train_acc, test_acc))"
   ]
  },
  {
   "cell_type": "code",
   "execution_count": null,
   "metadata": {
    "id": "hibZO8JQcINF",
    "outputId": "dc949cf7-feea-4f4c-b9da-b10b7f03539c"
   },
   "outputs": [
    {
     "data": {
      "image/png": "[encoded data removed]",
      "text/plain": [
       "<Figure size 432x288 with 1 Axes>"
      ]
     },
     "metadata": {
      "needs_background": "light"
     },
     "output_type": "display_data"
    }
   ],
   "source": [
    "pyplot.plot(history.history['loss'], label='loss')\n",
    "pyplot.plot(history.history['val_loss'], label='val_loss')\n",
    "pyplot.legend()\n",
    "pyplot.show()"
   ]
  },
  {
   "cell_type": "code",
   "execution_count": null,
   "metadata": {
    "id": "GPfkVtcccING",
    "outputId": "c3cec7cb-70a0-42a1-ceb8-fb6d96cc76ce"
   },
   "outputs": [
    {
     "data": {
      "image/png": "[encoded data removed]",
      "text/plain": [
       "<Figure size 432x288 with 1 Axes>"
      ]
     },
     "metadata": {
      "needs_background": "light"
     },
     "output_type": "display_data"
    }
   ],
   "source": [
    "pyplot.plot(history.history['accuracy'], label='accuracy')\n",
    "pyplot.plot(history.history['val_accuracy'], label='val_accuracy')\n",
    "pyplot.legend()\n",
    "pyplot.show()"
   ]
  },
  {
   "cell_type": "markdown",
   "metadata": {
    "id": "eBLUffP0cINH"
   },
   "source": [
    "**<u> Conclusion </u>**: The loss function in the form of the `Poisson distribution` does not fully work in our case. The `categorical crossentropy` function fared better."
   ]
  },
  {
   "cell_type": "markdown",
   "metadata": {
    "id": "3lTRbdIHcINH"
   },
   "source": [
    "Ad. 2."
   ]
  },
  {
   "cell_type": "code",
   "execution_count": null,
   "metadata": {
    "id": "O64C8u3vR6fQ",
    "outputId": "7255dc86-0b7f-4f89-f52e-35c98d24f376"
   },
   "outputs": [
    {
     "name": "stdout",
     "output_type": "stream",
     "text": [
      "Epoch 1/100\n",
      "1832/1875 [============================>.] - ETA: 0s - loss: 0.0076 - accuracy: 0.9974\n",
      "Epoch 00001: val_loss improved from inf to 0.25209, saving model to model.h5\n",
      "1875/1875 [==============================] - 2s 1ms/step - loss: 0.0076 - accuracy: 0.9975 - val_loss: 0.2521 - val_accuracy: 0.9711\n",
      "Epoch 2/100\n",
      "1825/1875 [============================>.] - ETA: 0s - loss: 0.0072 - accuracy: 0.9976\n",
      "Epoch 00002: val_loss improved from 0.25209 to 0.25124, saving model to model.h5\n",
      "1875/1875 [==============================] - 2s 1ms/step - loss: 0.0072 - accuracy: 0.9976 - val_loss: 0.2512 - val_accuracy: 0.9714\n",
      "Epoch 3/100\n",
      "1856/1875 [============================>.] - ETA: 0s - loss: 0.0069 - accuracy: 0.9977\n",
      "Epoch 00003: val_loss improved from 0.25124 to 0.25048, saving model to model.h5\n",
      "1875/1875 [==============================] - 2s 1ms/step - loss: 0.0069 - accuracy: 0.9977 - val_loss: 0.2505 - val_accuracy: 0.9716\n",
      "Epoch 4/100\n",
      "1835/1875 [============================>.] - ETA: 0s - loss: 0.0064 - accuracy: 0.9979\n",
      "Epoch 00004: val_loss improved from 0.25048 to 0.24973, saving model to model.h5\n",
      "1875/1875 [==============================] - 2s 1ms/step - loss: 0.0065 - accuracy: 0.9979 - val_loss: 0.2497 - val_accuracy: 0.9717\n",
      "Epoch 5/100\n",
      "1823/1875 [============================>.] - ETA: 0s - loss: 0.0062 - accuracy: 0.9980\n",
      "Epoch 00005: val_loss improved from 0.24973 to 0.24906, saving model to model.h5\n",
      "1875/1875 [==============================] - 2s 1ms/step - loss: 0.0063 - accuracy: 0.9980 - val_loss: 0.2491 - val_accuracy: 0.9717\n",
      "Epoch 6/100\n",
      "1844/1875 [============================>.] - ETA: 0s - loss: 0.0060 - accuracy: 0.9980\n",
      "Epoch 00006: val_loss improved from 0.24906 to 0.24845, saving model to model.h5\n",
      "1875/1875 [==============================] - 2s 1ms/step - loss: 0.0060 - accuracy: 0.9980 - val_loss: 0.2485 - val_accuracy: 0.9717\n",
      "Epoch 7/100\n",
      "1875/1875 [==============================] - ETA: 0s - loss: 0.0058 - accuracy: 0.9981\n",
      "Epoch 00007: val_loss improved from 0.24845 to 0.24788, saving model to model.h5\n",
      "1875/1875 [==============================] - 2s 1ms/step - loss: 0.0058 - accuracy: 0.9981 - val_loss: 0.2479 - val_accuracy: 0.9718\n",
      "Epoch 8/100\n",
      "1868/1875 [============================>.] - ETA: 0s - loss: 0.0055 - accuracy: 0.9982\n",
      "Epoch 00008: val_loss improved from 0.24788 to 0.24735, saving model to model.h5\n",
      "1875/1875 [==============================] - 2s 1ms/step - loss: 0.0055 - accuracy: 0.9982 - val_loss: 0.2473 - val_accuracy: 0.9718\n",
      "Epoch 9/100\n",
      "1843/1875 [============================>.] - ETA: 0s - loss: 0.0054 - accuracy: 0.9983\n",
      "Epoch 00009: val_loss improved from 0.24735 to 0.24683, saving model to model.h5\n",
      "1875/1875 [==============================] - 2s 1ms/step - loss: 0.0053 - accuracy: 0.9983 - val_loss: 0.2468 - val_accuracy: 0.9719\n",
      "Epoch 10/100\n",
      "1823/1875 [============================>.] - ETA: 0s - loss: 0.0052 - accuracy: 0.9983\n",
      "Epoch 00010: val_loss improved from 0.24683 to 0.24636, saving model to model.h5\n",
      "1875/1875 [==============================] - 2s 1ms/step - loss: 0.0051 - accuracy: 0.9983 - val_loss: 0.2464 - val_accuracy: 0.9719\n",
      "Epoch 11/100\n",
      "1845/1875 [============================>.] - ETA: 0s - loss: 0.0047 - accuracy: 0.9984\n",
      "Epoch 00011: val_loss improved from 0.24636 to 0.24590, saving model to model.h5\n",
      "1875/1875 [==============================] - 2s 1ms/step - loss: 0.0049 - accuracy: 0.9984 - val_loss: 0.2459 - val_accuracy: 0.9720\n",
      "Epoch 12/100\n",
      "1837/1875 [============================>.] - ETA: 0s - loss: 0.0048 - accuracy: 0.9984\n",
      "Epoch 00012: val_loss improved from 0.24590 to 0.24547, saving model to model.h5\n",
      "1875/1875 [==============================] - 2s 1ms/step - loss: 0.0047 - accuracy: 0.9984 - val_loss: 0.2455 - val_accuracy: 0.9719\n",
      "Epoch 13/100\n",
      "1833/1875 [============================>.] - ETA: 0s - loss: 0.0045 - accuracy: 0.9985\n",
      "Epoch 00013: val_loss improved from 0.24547 to 0.24506, saving model to model.h5\n",
      "1875/1875 [==============================] - 3s 1ms/step - loss: 0.0046 - accuracy: 0.9985 - val_loss: 0.2451 - val_accuracy: 0.9718\n",
      "Epoch 14/100\n",
      "1846/1875 [============================>.] - ETA: 0s - loss: 0.0044 - accuracy: 0.9986\n",
      "Epoch 00014: val_loss improved from 0.24506 to 0.24466, saving model to model.h5\n",
      "1875/1875 [==============================] - 2s 1ms/step - loss: 0.0044 - accuracy: 0.9985 - val_loss: 0.2447 - val_accuracy: 0.9719\n",
      "Epoch 15/100\n",
      "1856/1875 [============================>.] - ETA: 0s - loss: 0.0043 - accuracy: 0.9986 ETA: 0s - loss: 0\n",
      "Epoch 00015: val_loss improved from 0.24466 to 0.24427, saving model to model.h5\n",
      "1875/1875 [==============================] - 3s 1ms/step - loss: 0.0043 - accuracy: 0.9986 - val_loss: 0.2443 - val_accuracy: 0.9719\n",
      "Epoch 16/100\n",
      "1842/1875 [============================>.] - ETA: 0s - loss: 0.0042 - accuracy: 0.9986\n",
      "Epoch 00016: val_loss improved from 0.24427 to 0.24391, saving model to model.h5\n",
      "1875/1875 [==============================] - 2s 1ms/step - loss: 0.0041 - accuracy: 0.9986 - val_loss: 0.2439 - val_accuracy: 0.9720\n",
      "Epoch 17/100\n",
      "1828/1875 [============================>.] - ETA: 0s - loss: 0.0040 - accuracy: 0.9986\n",
      "Epoch 00017: val_loss improved from 0.24391 to 0.24356, saving model to model.h5\n",
      "1875/1875 [==============================] - 2s 1ms/step - loss: 0.0040 - accuracy: 0.9987 - val_loss: 0.2436 - val_accuracy: 0.9722\n",
      "Epoch 18/100\n",
      "1831/1875 [============================>.] - ETA: 0s - loss: 0.0038 - accuracy: 0.9987\n",
      "Epoch 00018: val_loss improved from 0.24356 to 0.24323, saving model to model.h5\n",
      "1875/1875 [==============================] - 2s 1ms/step - loss: 0.0039 - accuracy: 0.9987 - val_loss: 0.2432 - val_accuracy: 0.9722\n",
      "Epoch 19/100\n",
      "1872/1875 [============================>.] - ETA: 0s - loss: 0.0036 - accuracy: 0.9987\n",
      "Epoch 00019: val_loss improved from 0.24323 to 0.24292, saving model to model.h5\n",
      "1875/1875 [==============================] - 2s 1ms/step - loss: 0.0038 - accuracy: 0.9987 - val_loss: 0.2429 - val_accuracy: 0.9723\n",
      "Epoch 20/100\n",
      "1835/1875 [============================>.] - ETA: 0s - loss: 0.0037 - accuracy: 0.9988\n",
      "Epoch 00020: val_loss improved from 0.24292 to 0.24262, saving model to model.h5\n",
      "1875/1875 [==============================] - 2s 1ms/step - loss: 0.0037 - accuracy: 0.9988 - val_loss: 0.2426 - val_accuracy: 0.9724\n",
      "Epoch 21/100\n",
      "1851/1875 [============================>.] - ETA: 0s - loss: 0.0036 - accuracy: 0.9988\n",
      "Epoch 00021: val_loss improved from 0.24262 to 0.24233, saving model to model.h5\n",
      "1875/1875 [==============================] - 2s 1ms/step - loss: 0.0036 - accuracy: 0.9988 - val_loss: 0.2423 - val_accuracy: 0.9724\n",
      "Epoch 22/100\n",
      "1843/1875 [============================>.] - ETA: 0s - loss: 0.0035 - accuracy: 0.9988\n",
      "Epoch 00022: val_loss improved from 0.24233 to 0.24205, saving model to model.h5\n",
      "1875/1875 [==============================] - 2s 1ms/step - loss: 0.0035 - accuracy: 0.9988 - val_loss: 0.2421 - val_accuracy: 0.9724\n",
      "Epoch 23/100\n",
      "1840/1875 [============================>.] - ETA: 0s - loss: 0.0034 - accuracy: 0.9988\n",
      "Epoch 00023: val_loss improved from 0.24205 to 0.24179, saving model to model.h5\n",
      "1875/1875 [==============================] - 2s 1ms/step - loss: 0.0034 - accuracy: 0.9989 - val_loss: 0.2418 - val_accuracy: 0.9725\n",
      "Epoch 24/100\n",
      "1855/1875 [============================>.] - ETA: 0s - loss: 0.0032 - accuracy: 0.9989\n",
      "Epoch 00024: val_loss improved from 0.24179 to 0.24155, saving model to model.h5\n",
      "1875/1875 [==============================] - 2s 1ms/step - loss: 0.0033 - accuracy: 0.9989 - val_loss: 0.2415 - val_accuracy: 0.9726\n",
      "Epoch 25/100\n",
      "1849/1875 [============================>.] - ETA: 0s - loss: 0.0032 - accuracy: 0.9989\n",
      "Epoch 00025: val_loss improved from 0.24155 to 0.24130, saving model to model.h5\n",
      "1875/1875 [==============================] - 2s 1ms/step - loss: 0.0032 - accuracy: 0.9990 - val_loss: 0.2413 - val_accuracy: 0.9727\n",
      "Epoch 26/100\n",
      "1857/1875 [============================>.] - ETA: 0s - loss: 0.0031 - accuracy: 0.9990\n",
      "Epoch 00026: val_loss improved from 0.24130 to 0.24106, saving model to model.h5\n",
      "1875/1875 [==============================] - 2s 1ms/step - loss: 0.0031 - accuracy: 0.9990 - val_loss: 0.2411 - val_accuracy: 0.9727\n",
      "Epoch 27/100\n",
      "1841/1875 [============================>.] - ETA: 0s - loss: 0.0030 - accuracy: 0.9990\n",
      "Epoch 00027: val_loss improved from 0.24106 to 0.24084, saving model to model.h5\n",
      "1875/1875 [==============================] - 2s 1ms/step - loss: 0.0030 - accuracy: 0.9990 - val_loss: 0.2408 - val_accuracy: 0.9728\n",
      "Epoch 28/100\n",
      "1872/1875 [============================>.] - ETA: 0s - loss: 0.0029 - accuracy: 0.9990\n",
      "Epoch 00028: val_loss improved from 0.24084 to 0.24064, saving model to model.h5\n",
      "1875/1875 [==============================] - 2s 1ms/step - loss: 0.0030 - accuracy: 0.9990 - val_loss: 0.2406 - val_accuracy: 0.9729\n",
      "Epoch 29/100\n",
      "1824/1875 [============================>.] - ETA: 0s - loss: 0.0030 - accuracy: 0.9990\n",
      "Epoch 00029: val_loss improved from 0.24064 to 0.24044, saving model to model.h5\n",
      "1875/1875 [==============================] - 2s 1ms/step - loss: 0.0029 - accuracy: 0.9991 - val_loss: 0.2404 - val_accuracy: 0.9729\n",
      "Epoch 30/100\n",
      "1856/1875 [============================>.] - ETA: 0s - loss: 0.0028 - accuracy: 0.9990\n",
      "Epoch 00030: val_loss improved from 0.24044 to 0.24024, saving model to model.h5\n",
      "1875/1875 [==============================] - 2s 1ms/step - loss: 0.0028 - accuracy: 0.9991 - val_loss: 0.2402 - val_accuracy: 0.9730\n",
      "Epoch 31/100\n",
      "1830/1875 [============================>.] - ETA: 0s - loss: 0.0027 - accuracy: 0.9991\n",
      "Epoch 00031: val_loss improved from 0.24024 to 0.24005, saving model to model.h5\n",
      "1875/1875 [==============================] - 2s 1ms/step - loss: 0.0027 - accuracy: 0.9991 - val_loss: 0.2400 - val_accuracy: 0.9730\n",
      "Epoch 32/100\n",
      "1869/1875 [============================>.] - ETA: 0s - loss: 0.0027 - accuracy: 0.9991\n",
      "Epoch 00032: val_loss improved from 0.24005 to 0.23986, saving model to model.h5\n",
      "1875/1875 [==============================] - 2s 1ms/step - loss: 0.0027 - accuracy: 0.9991 - val_loss: 0.2399 - val_accuracy: 0.9731\n",
      "Epoch 33/100\n",
      "1843/1875 [============================>.] - ETA: 0s - loss: 0.0026 - accuracy: 0.9991\n",
      "Epoch 00033: val_loss improved from 0.23986 to 0.23968, saving model to model.h5\n",
      "1875/1875 [==============================] - 2s 1ms/step - loss: 0.0026 - accuracy: 0.9991 - val_loss: 0.2397 - val_accuracy: 0.9732\n",
      "Epoch 34/100\n",
      "1838/1875 [============================>.] - ETA: 0s - loss: 0.0025 - accuracy: 0.9991\n",
      "Epoch 00034: val_loss improved from 0.23968 to 0.23951, saving model to model.h5\n",
      "1875/1875 [==============================] - 2s 1ms/step - loss: 0.0026 - accuracy: 0.9991 - val_loss: 0.2395 - val_accuracy: 0.9733\n",
      "Epoch 35/100\n",
      "1872/1875 [============================>.] - ETA: 0s - loss: 0.0025 - accuracy: 0.9991\n",
      "Epoch 00035: val_loss improved from 0.23951 to 0.23935, saving model to model.h5\n",
      "1875/1875 [==============================] - 2s 1ms/step - loss: 0.0025 - accuracy: 0.9991 - val_loss: 0.2393 - val_accuracy: 0.9732\n",
      "Epoch 36/100\n",
      "1843/1875 [============================>.] - ETA: 0s - loss: 0.0025 - accuracy: 0.9992\n",
      "Epoch 00036: val_loss improved from 0.23935 to 0.23919, saving model to model.h5\n",
      "1875/1875 [==============================] - 2s 1ms/step - loss: 0.0025 - accuracy: 0.9992 - val_loss: 0.2392 - val_accuracy: 0.9732\n",
      "Epoch 37/100\n",
      "1834/1875 [============================>.] - ETA: 0s - loss: 0.0024 - accuracy: 0.9992\n",
      "Epoch 00037: val_loss improved from 0.23919 to 0.23903, saving model to model.h5\n",
      "1875/1875 [==============================] - 2s 1ms/step - loss: 0.0024 - accuracy: 0.9992 - val_loss: 0.2390 - val_accuracy: 0.9732\n",
      "Epoch 38/100\n",
      "1833/1875 [============================>.] - ETA: 0s - loss: 0.0024 - accuracy: 0.9992\n",
      "Epoch 00038: val_loss improved from 0.23903 to 0.23889, saving model to model.h5\n",
      "1875/1875 [==============================] - 2s 1ms/step - loss: 0.0024 - accuracy: 0.9992 - val_loss: 0.2389 - val_accuracy: 0.9733\n",
      "Epoch 39/100\n",
      "1822/1875 [============================>.] - ETA: 0s - loss: 0.0023 - accuracy: 0.9992\n",
      "Epoch 00039: val_loss improved from 0.23889 to 0.23876, saving model to model.h5\n",
      "1875/1875 [==============================] - 2s 1ms/step - loss: 0.0023 - accuracy: 0.9992 - val_loss: 0.2388 - val_accuracy: 0.9732\n",
      "Epoch 40/100\n",
      "1859/1875 [============================>.] - ETA: 0s - loss: 0.0023 - accuracy: 0.9992\n",
      "Epoch 00040: val_loss improved from 0.23876 to 0.23862, saving model to model.h5\n",
      "1875/1875 [==============================] - 2s 1ms/step - loss: 0.0023 - accuracy: 0.9992 - val_loss: 0.2386 - val_accuracy: 0.9732\n",
      "Epoch 41/100\n",
      "1835/1875 [============================>.] - ETA: 0s - loss: 0.0022 - accuracy: 0.9993 ETA: 0s - loss: 0.0023 - accuracy\n",
      "Epoch 00041: val_loss improved from 0.23862 to 0.23851, saving model to model.h5\n",
      "1875/1875 [==============================] - 2s 1ms/step - loss: 0.0022 - accuracy: 0.9993 - val_loss: 0.2385 - val_accuracy: 0.9730\n",
      "Epoch 42/100\n",
      "1845/1875 [============================>.] - ETA: 0s - loss: 0.0021 - accuracy: 0.9993\n",
      "Epoch 00042: val_loss improved from 0.23851 to 0.23839, saving model to model.h5\n",
      "1875/1875 [==============================] - 2s 1ms/step - loss: 0.0022 - accuracy: 0.9993 - val_loss: 0.2384 - val_accuracy: 0.9729\n",
      "Epoch 43/100\n",
      "1853/1875 [============================>.] - ETA: 0s - loss: 0.0022 - accuracy: 0.9993\n",
      "Epoch 00043: val_loss improved from 0.23839 to 0.23828, saving model to model.h5\n",
      "1875/1875 [==============================] - 2s 1ms/step - loss: 0.0021 - accuracy: 0.9993 - val_loss: 0.2383 - val_accuracy: 0.9729\n",
      "Epoch 44/100\n",
      "1874/1875 [============================>.] - ETA: 0s - loss: 0.0021 - accuracy: 0.9993\n",
      "Epoch 00044: val_loss improved from 0.23828 to 0.23817, saving model to model.h5\n",
      "1875/1875 [==============================] - 3s 1ms/step - loss: 0.0021 - accuracy: 0.9993 - val_loss: 0.2382 - val_accuracy: 0.9730\n",
      "Epoch 45/100\n",
      "1871/1875 [============================>.] - ETA: 0s - loss: 0.0021 - accuracy: 0.9994\n",
      "Epoch 00045: val_loss improved from 0.23817 to 0.23806, saving model to model.h5\n",
      "1875/1875 [==============================] - 2s 1ms/step - loss: 0.0021 - accuracy: 0.9994 - val_loss: 0.2381 - val_accuracy: 0.9730\n",
      "Epoch 46/100\n",
      "1850/1875 [============================>.] - ETA: 0s - loss: 0.0020 - accuracy: 0.9994\n",
      "Epoch 00046: val_loss improved from 0.23806 to 0.23795, saving model to model.h5\n",
      "1875/1875 [==============================] - 2s 1ms/step - loss: 0.0020 - accuracy: 0.9994 - val_loss: 0.2379 - val_accuracy: 0.9730\n",
      "Epoch 47/100\n",
      "1874/1875 [============================>.] - ETA: 0s - loss: 0.0020 - accuracy: 0.9994\n",
      "Epoch 00047: val_loss improved from 0.23795 to 0.23783, saving model to model.h5\n",
      "1875/1875 [==============================] - 3s 1ms/step - loss: 0.0020 - accuracy: 0.9994 - val_loss: 0.2378 - val_accuracy: 0.9730\n",
      "Epoch 48/100\n",
      "1853/1875 [============================>.] - ETA: 0s - loss: 0.0020 - accuracy: 0.9994\n",
      "Epoch 00048: val_loss improved from 0.23783 to 0.23773, saving model to model.h5\n",
      "1875/1875 [==============================] - 2s 1ms/step - loss: 0.0020 - accuracy: 0.9994 - val_loss: 0.2377 - val_accuracy: 0.9730\n",
      "Epoch 49/100\n",
      "1829/1875 [============================>.] - ETA: 0s - loss: 0.0019 - accuracy: 0.9994\n",
      "Epoch 00049: val_loss improved from 0.23773 to 0.23763, saving model to model.h5\n",
      "1875/1875 [==============================] - 2s 1ms/step - loss: 0.0019 - accuracy: 0.9994 - val_loss: 0.2376 - val_accuracy: 0.9729\n",
      "Epoch 50/100\n",
      "1848/1875 [============================>.] - ETA: 0s - loss: 0.0019 - accuracy: 0.9994\n",
      "Epoch 00050: val_loss improved from 0.23763 to 0.23752, saving model to model.h5\n",
      "1875/1875 [==============================] - 2s 1ms/step - loss: 0.0019 - accuracy: 0.9994 - val_loss: 0.2375 - val_accuracy: 0.9729\n",
      "Epoch 51/100\n",
      "1857/1875 [============================>.] - ETA: 0s - loss: 0.0019 - accuracy: 0.9994\n",
      "Epoch 00051: val_loss improved from 0.23752 to 0.23743, saving model to model.h5\n",
      "1875/1875 [==============================] - 2s 1ms/step - loss: 0.0019 - accuracy: 0.9994 - val_loss: 0.2374 - val_accuracy: 0.9729\n",
      "Epoch 52/100\n",
      "1856/1875 [============================>.] - ETA: 0s - loss: 0.0018 - accuracy: 0.9995\n",
      "Epoch 00052: val_loss improved from 0.23743 to 0.23733, saving model to model.h5\n",
      "1875/1875 [==============================] - 2s 1ms/step - loss: 0.0018 - accuracy: 0.9995 - val_loss: 0.2373 - val_accuracy: 0.9730\n",
      "Epoch 53/100\n"
     ]
    },
    {
     "name": "stdout",
     "output_type": "stream",
     "text": [
      "1867/1875 [============================>.] - ETA: 0s - loss: 0.0018 - accuracy: 0.9995\n",
      "Epoch 00053: val_loss improved from 0.23733 to 0.23724, saving model to model.h5\n",
      "1875/1875 [==============================] - 2s 1ms/step - loss: 0.0018 - accuracy: 0.9995 - val_loss: 0.2372 - val_accuracy: 0.9730\n",
      "Epoch 54/100\n",
      "1847/1875 [============================>.] - ETA: 0s - loss: 0.0017 - accuracy: 0.9995\n",
      "Epoch 00054: val_loss improved from 0.23724 to 0.23714, saving model to model.h5\n",
      "1875/1875 [==============================] - 2s 1ms/step - loss: 0.0018 - accuracy: 0.9995 - val_loss: 0.2371 - val_accuracy: 0.9729\n",
      "Epoch 55/100\n",
      "1857/1875 [============================>.] - ETA: 0s - loss: 0.0017 - accuracy: 0.9995\n",
      "Epoch 00055: val_loss improved from 0.23714 to 0.23705, saving model to model.h5\n",
      "1875/1875 [==============================] - 2s 1ms/step - loss: 0.0017 - accuracy: 0.9995 - val_loss: 0.2371 - val_accuracy: 0.9730\n",
      "Epoch 56/100\n",
      "1861/1875 [============================>.] - ETA: 0s - loss: 0.0017 - accuracy: 0.9995 ETA: 0s - loss: 0.0017 - accu\n",
      "Epoch 00056: val_loss improved from 0.23705 to 0.23697, saving model to model.h5\n",
      "1875/1875 [==============================] - 2s 1ms/step - loss: 0.0017 - accuracy: 0.9995 - val_loss: 0.2370 - val_accuracy: 0.9730\n",
      "Epoch 57/100\n",
      "1826/1875 [============================>.] - ETA: 0s - loss: 0.0017 - accuracy: 0.9995\n",
      "Epoch 00057: val_loss improved from 0.23697 to 0.23688, saving model to model.h5\n",
      "1875/1875 [==============================] - 2s 1ms/step - loss: 0.0017 - accuracy: 0.9995 - val_loss: 0.2369 - val_accuracy: 0.9730\n",
      "Epoch 58/100\n",
      "1820/1875 [============================>.] - ETA: 0s - loss: 0.0017 - accuracy: 0.9995\n",
      "Epoch 00058: val_loss improved from 0.23688 to 0.23681, saving model to model.h5\n",
      "1875/1875 [==============================] - 2s 1ms/step - loss: 0.0017 - accuracy: 0.9995 - val_loss: 0.2368 - val_accuracy: 0.9730\n",
      "Epoch 59/100\n",
      "1869/1875 [============================>.] - ETA: 0s - loss: 0.0016 - accuracy: 0.9995\n",
      "Epoch 00059: val_loss improved from 0.23681 to 0.23673, saving model to model.h5\n",
      "1875/1875 [==============================] - 2s 1ms/step - loss: 0.0016 - accuracy: 0.9995 - val_loss: 0.2367 - val_accuracy: 0.9732\n",
      "Epoch 60/100\n",
      "1857/1875 [============================>.] - ETA: 0s - loss: 0.0016 - accuracy: 0.9995\n",
      "Epoch 00060: val_loss improved from 0.23673 to 0.23665, saving model to model.h5\n",
      "1875/1875 [==============================] - 2s 1ms/step - loss: 0.0016 - accuracy: 0.9995 - val_loss: 0.2366 - val_accuracy: 0.9732\n",
      "Epoch 61/100\n",
      "1857/1875 [============================>.] - ETA: 0s - loss: 0.0016 - accuracy: 0.9995\n",
      "Epoch 00061: val_loss improved from 0.23665 to 0.23657, saving model to model.h5\n",
      "1875/1875 [==============================] - 2s 1ms/step - loss: 0.0016 - accuracy: 0.9995 - val_loss: 0.2366 - val_accuracy: 0.9732\n",
      "Epoch 62/100\n",
      "1843/1875 [============================>.] - ETA: 0s - loss: 0.0016 - accuracy: 0.9995\n",
      "Epoch 00062: val_loss improved from 0.23657 to 0.23649, saving model to model.h5\n",
      "1875/1875 [==============================] - 2s 1ms/step - loss: 0.0016 - accuracy: 0.9995 - val_loss: 0.2365 - val_accuracy: 0.9732\n",
      "Epoch 63/100\n",
      "1856/1875 [============================>.] - ETA: 0s - loss: 0.0016 - accuracy: 0.9995\n",
      "Epoch 00063: val_loss improved from 0.23649 to 0.23641, saving model to model.h5\n",
      "1875/1875 [==============================] - 2s 1ms/step - loss: 0.0015 - accuracy: 0.9995 - val_loss: 0.2364 - val_accuracy: 0.9732\n",
      "Epoch 64/100\n",
      "1867/1875 [============================>.] - ETA: 0s - loss: 0.0015 - accuracy: 0.9995\n",
      "Epoch 00064: val_loss improved from 0.23641 to 0.23633, saving model to model.h5\n",
      "1875/1875 [==============================] - 2s 1ms/step - loss: 0.0015 - accuracy: 0.9995 - val_loss: 0.2363 - val_accuracy: 0.9732\n",
      "Epoch 65/100\n",
      "1832/1875 [============================>.] - ETA: 0s - loss: 0.0015 - accuracy: 0.9995\n",
      "Epoch 00065: val_loss improved from 0.23633 to 0.23625, saving model to model.h5\n",
      "1875/1875 [==============================] - 2s 992us/step - loss: 0.0015 - accuracy: 0.9995 - val_loss: 0.2363 - val_accuracy: 0.9732\n",
      "Epoch 66/100\n",
      "1860/1875 [============================>.] - ETA: 0s - loss: 0.0015 - accuracy: 0.9995\n",
      "Epoch 00066: val_loss improved from 0.23625 to 0.23618, saving model to model.h5\n",
      "1875/1875 [==============================] - 2s 1ms/step - loss: 0.0015 - accuracy: 0.9995 - val_loss: 0.2362 - val_accuracy: 0.9733\n",
      "Epoch 67/100\n",
      "1862/1875 [============================>.] - ETA: 0s - loss: 0.0015 - accuracy: 0.9995\n",
      "Epoch 00067: val_loss improved from 0.23618 to 0.23610, saving model to model.h5\n",
      "1875/1875 [==============================] - 2s 1ms/step - loss: 0.0015 - accuracy: 0.9995 - val_loss: 0.2361 - val_accuracy: 0.9734\n",
      "Epoch 68/100\n",
      "1816/1875 [============================>.] - ETA: 0s - loss: 0.0015 - accuracy: 0.9995\n",
      "Epoch 00068: val_loss improved from 0.23610 to 0.23603, saving model to model.h5\n",
      "1875/1875 [==============================] - 2s 1ms/step - loss: 0.0014 - accuracy: 0.9995 - val_loss: 0.2360 - val_accuracy: 0.9734\n",
      "Epoch 69/100\n",
      "1843/1875 [============================>.] - ETA: 0s - loss: 0.0014 - accuracy: 0.9995\n",
      "Epoch 00069: val_loss improved from 0.23603 to 0.23596, saving model to model.h5\n",
      "1875/1875 [==============================] - 2s 1ms/step - loss: 0.0014 - accuracy: 0.9995 - val_loss: 0.2360 - val_accuracy: 0.9733\n",
      "Epoch 70/100\n",
      "1852/1875 [============================>.] - ETA: 0s - loss: 0.0014 - accuracy: 0.9995\n",
      "Epoch 00070: val_loss improved from 0.23596 to 0.23589, saving model to model.h5\n",
      "1875/1875 [==============================] - 2s 1ms/step - loss: 0.0014 - accuracy: 0.9995 - val_loss: 0.2359 - val_accuracy: 0.9733\n",
      "Epoch 71/100\n",
      "1834/1875 [============================>.] - ETA: 0s - loss: 0.0013 - accuracy: 0.9995\n",
      "Epoch 00071: val_loss improved from 0.23589 to 0.23582, saving model to model.h5\n",
      "1875/1875 [==============================] - 2s 1ms/step - loss: 0.0014 - accuracy: 0.9995 - val_loss: 0.2358 - val_accuracy: 0.9733\n",
      "Epoch 72/100\n",
      "1847/1875 [============================>.] - ETA: 0s - loss: 0.0014 - accuracy: 0.9995\n",
      "Epoch 00072: val_loss improved from 0.23582 to 0.23575, saving model to model.h5\n",
      "1875/1875 [==============================] - 2s 1ms/step - loss: 0.0014 - accuracy: 0.9995 - val_loss: 0.2358 - val_accuracy: 0.9733\n",
      "Epoch 73/100\n",
      "1833/1875 [============================>.] - ETA: 0s - loss: 0.0013 - accuracy: 0.9995\n",
      "Epoch 00073: val_loss improved from 0.23575 to 0.23569, saving model to model.h5\n",
      "1875/1875 [==============================] - 2s 1ms/step - loss: 0.0013 - accuracy: 0.9995 - val_loss: 0.2357 - val_accuracy: 0.9733\n",
      "Epoch 74/100\n",
      "1839/1875 [============================>.] - ETA: 0s - loss: 0.0013 - accuracy: 0.9995\n",
      "Epoch 00074: val_loss improved from 0.23569 to 0.23563, saving model to model.h5\n",
      "1875/1875 [==============================] - 2s 1ms/step - loss: 0.0013 - accuracy: 0.9995 - val_loss: 0.2356 - val_accuracy: 0.9733\n",
      "Epoch 75/100\n",
      "1823/1875 [============================>.] - ETA: 0s - loss: 0.0013 - accuracy: 0.9995\n",
      "Epoch 00075: val_loss improved from 0.23563 to 0.23557, saving model to model.h5\n",
      "1875/1875 [==============================] - 2s 1ms/step - loss: 0.0013 - accuracy: 0.9995 - val_loss: 0.2356 - val_accuracy: 0.9733\n",
      "Epoch 76/100\n",
      "1868/1875 [============================>.] - ETA: 0s - loss: 0.0013 - accuracy: 0.9995\n",
      "Epoch 00076: val_loss improved from 0.23557 to 0.23550, saving model to model.h5\n",
      "1875/1875 [==============================] - 2s 1ms/step - loss: 0.0013 - accuracy: 0.9995 - val_loss: 0.2355 - val_accuracy: 0.9733\n",
      "Epoch 77/100\n",
      "1841/1875 [============================>.] - ETA: 0s - loss: 0.0013 - accuracy: 0.9995\n",
      "Epoch 00077: val_loss improved from 0.23550 to 0.23544, saving model to model.h5\n",
      "1875/1875 [==============================] - 2s 1ms/step - loss: 0.0013 - accuracy: 0.9995 - val_loss: 0.2354 - val_accuracy: 0.9733\n",
      "Epoch 78/100\n",
      "1844/1875 [============================>.] - ETA: 0s - loss: 0.0012 - accuracy: 0.9995\n",
      "Epoch 00078: val_loss improved from 0.23544 to 0.23537, saving model to model.h5\n",
      "1875/1875 [==============================] - 2s 1ms/step - loss: 0.0012 - accuracy: 0.9995 - val_loss: 0.2354 - val_accuracy: 0.9732\n",
      "Epoch 79/100\n"
     ]
    },
    {
     "name": "stdout",
     "output_type": "stream",
     "text": [
      "1826/1875 [============================>.] - ETA: 0s - loss: 0.0012 - accuracy: 0.9995\n",
      "Epoch 00079: val_loss improved from 0.23537 to 0.23531, saving model to model.h5\n",
      "1875/1875 [==============================] - 2s 1ms/step - loss: 0.0012 - accuracy: 0.9995 - val_loss: 0.2353 - val_accuracy: 0.9732\n",
      "Epoch 80/100\n",
      "1864/1875 [============================>.] - ETA: 0s - loss: 0.0012 - accuracy: 0.9995\n",
      "Epoch 00080: val_loss improved from 0.23531 to 0.23525, saving model to model.h5\n",
      "1875/1875 [==============================] - 2s 970us/step - loss: 0.0012 - accuracy: 0.9995 - val_loss: 0.2353 - val_accuracy: 0.9732\n",
      "Epoch 81/100\n",
      "1832/1875 [============================>.] - ETA: 0s - loss: 0.0012 - accuracy: 0.9995\n",
      "Epoch 00081: val_loss improved from 0.23525 to 0.23518, saving model to model.h5\n",
      "1875/1875 [==============================] - 2s 903us/step - loss: 0.0012 - accuracy: 0.9995 - val_loss: 0.2352 - val_accuracy: 0.9732\n",
      "Epoch 82/100\n",
      "1827/1875 [============================>.] - ETA: 0s - loss: 0.0012 - accuracy: 0.9995\n",
      "Epoch 00082: val_loss improved from 0.23518 to 0.23513, saving model to model.h5\n",
      "1875/1875 [==============================] - 2s 904us/step - loss: 0.0012 - accuracy: 0.9995 - val_loss: 0.2351 - val_accuracy: 0.9732\n",
      "Epoch 83/100\n",
      "1864/1875 [============================>.] - ETA: 0s - loss: 0.0012 - accuracy: 0.9996\n",
      "Epoch 00083: val_loss improved from 0.23513 to 0.23507, saving model to model.h5\n",
      "1875/1875 [==============================] - 2s 918us/step - loss: 0.0012 - accuracy: 0.9996 - val_loss: 0.2351 - val_accuracy: 0.9732\n",
      "Epoch 84/100\n",
      "1874/1875 [============================>.] - ETA: 0s - loss: 0.0012 - accuracy: 0.9996\n",
      "Epoch 00084: val_loss improved from 0.23507 to 0.23500, saving model to model.h5\n",
      "1875/1875 [==============================] - 2s 915us/step - loss: 0.0012 - accuracy: 0.9996 - val_loss: 0.2350 - val_accuracy: 0.9732\n",
      "Epoch 85/100\n",
      "1863/1875 [============================>.] - ETA: 0s - loss: 0.0011 - accuracy: 0.9996\n",
      "Epoch 00085: val_loss improved from 0.23500 to 0.23494, saving model to model.h5\n",
      "1875/1875 [==============================] - 2s 919us/step - loss: 0.0011 - accuracy: 0.9996 - val_loss: 0.2349 - val_accuracy: 0.9732\n",
      "Epoch 86/100\n",
      "1839/1875 [============================>.] - ETA: 0s - loss: 0.0011 - accuracy: 0.9996\n",
      "Epoch 00086: val_loss improved from 0.23494 to 0.23489, saving model to model.h5\n",
      "1875/1875 [==============================] - 2s 927us/step - loss: 0.0011 - accuracy: 0.9996 - val_loss: 0.2349 - val_accuracy: 0.9732\n",
      "Epoch 87/100\n",
      "1869/1875 [============================>.] - ETA: 0s - loss: 0.0011 - accuracy: 0.9996\n",
      "Epoch 00087: val_loss improved from 0.23489 to 0.23483, saving model to model.h5\n",
      "1875/1875 [==============================] - 2s 915us/step - loss: 0.0011 - accuracy: 0.9996 - val_loss: 0.2348 - val_accuracy: 0.9732\n",
      "Epoch 88/100\n",
      "1843/1875 [============================>.] - ETA: 0s - loss: 0.0010 - accuracy: 0.9996\n",
      "Epoch 00088: val_loss improved from 0.23483 to 0.23477, saving model to model.h5\n",
      "1875/1875 [==============================] - 2s 928us/step - loss: 0.0011 - accuracy: 0.9996 - val_loss: 0.2348 - val_accuracy: 0.9732\n",
      "Epoch 89/100\n",
      "1847/1875 [============================>.] - ETA: 0s - loss: 0.0011 - accuracy: 0.9996\n",
      "Epoch 00089: val_loss improved from 0.23477 to 0.23471, saving model to model.h5\n",
      "1875/1875 [==============================] - 2s 926us/step - loss: 0.0011 - accuracy: 0.9996 - val_loss: 0.2347 - val_accuracy: 0.9733\n",
      "Epoch 90/100\n",
      "1849/1875 [============================>.] - ETA: 0s - loss: 0.0011 - accuracy: 0.9996\n",
      "Epoch 00090: val_loss improved from 0.23471 to 0.23465, saving model to model.h5\n",
      "1875/1875 [==============================] - 2s 923us/step - loss: 0.0011 - accuracy: 0.9996 - val_loss: 0.2347 - val_accuracy: 0.9733\n",
      "Epoch 91/100\n",
      "1833/1875 [============================>.] - ETA: 0s - loss: 0.0011 - accuracy: 0.9996\n",
      "Epoch 00091: val_loss improved from 0.23465 to 0.23461, saving model to model.h5\n",
      "1875/1875 [==============================] - 2s 932us/step - loss: 0.0011 - accuracy: 0.9996 - val_loss: 0.2346 - val_accuracy: 0.9733\n",
      "Epoch 92/100\n",
      "1831/1875 [============================>.] - ETA: 0s - loss: 0.0010 - accuracy: 0.9996\n",
      "Epoch 00092: val_loss improved from 0.23461 to 0.23456, saving model to model.h5\n",
      "1875/1875 [==============================] - 2s 936us/step - loss: 0.0010 - accuracy: 0.9996 - val_loss: 0.2346 - val_accuracy: 0.9733\n",
      "Epoch 93/100\n",
      "1826/1875 [============================>.] - ETA: 0s - loss: 0.0010 - accuracy: 0.9996\n",
      "Epoch 00093: val_loss improved from 0.23456 to 0.23450, saving model to model.h5\n",
      "1875/1875 [==============================] - 2s 933us/step - loss: 0.0010 - accuracy: 0.9996 - val_loss: 0.2345 - val_accuracy: 0.9734\n",
      "Epoch 94/100\n",
      "1820/1875 [============================>.] - ETA: 0s - loss: 9.4445e-04 - accuracy: 0.9997\n",
      "Epoch 00094: val_loss improved from 0.23450 to 0.23446, saving model to model.h5\n",
      "1875/1875 [==============================] - 2s 945us/step - loss: 0.0010 - accuracy: 0.9997 - val_loss: 0.2345 - val_accuracy: 0.9734\n",
      "Epoch 95/100\n",
      "1828/1875 [============================>.] - ETA: 0s - loss: 0.0010 - accuracy: 0.9996\n",
      "Epoch 00095: val_loss improved from 0.23446 to 0.23441, saving model to model.h5\n",
      "1875/1875 [==============================] - 2s 937us/step - loss: 0.0010 - accuracy: 0.9997 - val_loss: 0.2344 - val_accuracy: 0.9735\n",
      "Epoch 96/100\n",
      "1820/1875 [============================>.] - ETA: 0s - loss: 0.0010 - accuracy: 0.9996\n",
      "Epoch 00096: val_loss improved from 0.23441 to 0.23436, saving model to model.h5\n",
      "1875/1875 [==============================] - 2s 941us/step - loss: 9.9039e-04 - accuracy: 0.9997 - val_loss: 0.2344 - val_accuracy: 0.9734\n",
      "Epoch 97/100\n",
      "1823/1875 [============================>.] - ETA: 0s - loss: 8.5258e-04 - accuracy: 0.9997\n",
      "Epoch 00097: val_loss improved from 0.23436 to 0.23431, saving model to model.h5\n",
      "1875/1875 [==============================] - 2s 936us/step - loss: 9.7790e-04 - accuracy: 0.9997 - val_loss: 0.2343 - val_accuracy: 0.9734\n",
      "Epoch 98/100\n",
      "1873/1875 [============================>.] - ETA: 0s - loss: 9.6782e-04 - accuracy: 0.9996\n",
      "Epoch 00098: val_loss improved from 0.23431 to 0.23426, saving model to model.h5\n",
      "1875/1875 [==============================] - 2s 942us/step - loss: 9.6686e-04 - accuracy: 0.9997 - val_loss: 0.2343 - val_accuracy: 0.9734\n",
      "Epoch 99/100\n",
      "1823/1875 [============================>.] - ETA: 0s - loss: 9.6667e-04 - accuracy: 0.9996\n",
      "Epoch 00099: val_loss improved from 0.23426 to 0.23420, saving model to model.h5\n",
      "1875/1875 [==============================] - 2s 972us/step - loss: 9.5511e-04 - accuracy: 0.9997 - val_loss: 0.2342 - val_accuracy: 0.9734\n",
      "Epoch 100/100\n",
      "1828/1875 [============================>.] - ETA: 0s - loss: 9.6278e-04 - accuracy: 0.9996\n",
      "Epoch 00100: val_loss improved from 0.23420 to 0.23416, saving model to model.h5\n",
      "1875/1875 [==============================] - 2s 1ms/step - loss: 9.4351e-04 - accuracy: 0.9997 - val_loss: 0.2342 - val_accuracy: 0.9734\n"
     ]
    }
   ],
   "source": [
    "model.compile(\n",
    "    optimizer='adadelta',\n",
    "    loss='categorical_crossentropy',\n",
    "    metrics=['accuracy'],\n",
    ")\n",
    "\n",
    "f1 = EarlyStopping(\n",
    "    monitor='val_loss',\n",
    "    mode='min', \n",
    "    verbose=1, \n",
    "    patience=10, \n",
    ")\n",
    "\n",
    "f2 = ModelCheckpoint(\n",
    "    filepath=\"model.h5\",\n",
    "    monitor='val_loss',\n",
    "    mode='min',\n",
    "    verbose=1,\n",
    "    save_best_only=True\n",
    ")\n",
    "\n",
    "history = model.fit(\n",
    "    train_images,\n",
    "    to_categorical(train_labels),\n",
    "    epochs=100,\n",
    "    verbose=1,\n",
    "    validation_data=(test_images, to_categorical(test_labels)),\n",
    "    callbacks=[f1, f2]\n",
    ")"
   ]
  },
  {
   "cell_type": "code",
   "execution_count": null,
   "metadata": {
    "id": "hAg3_5SPcINI",
    "outputId": "abd06c9c-97ba-460e-dc0a-f6cca96693e8"
   },
   "outputs": [
    {
     "data": {
      "image/png": "[encoded data removed]",
      "text/plain": [
       "<Figure size 576x432 with 1 Axes>"
      ]
     },
     "metadata": {
      "needs_background": "light"
     },
     "output_type": "display_data"
    },
    {
     "name": "stdout",
     "output_type": "stream",
     "text": [
      "1875/1875 [==============================] - 2s 762us/step - loss: 9.3661e-04 - accuracy: 0.9997\n",
      "313/313 [==============================] - 0s 1ms/step - loss: 0.2342 - accuracy: 0.9734\n",
      "[0.0009366142912767828, 0.9996500015258789, 0.2341572791337967, 0.9733999967575073]\n"
     ]
    }
   ],
   "source": [
    "pd.DataFrame(history.history).plot(figsize=(8,6))\n",
    "plt.show()\n",
    "\n",
    "trained_model = load_model('model.h5')\n",
    "train_accuracy = trained_model.evaluate(train_images, to_categorical(train_labels))\n",
    "test_accuracy = trained_model.evaluate(test_images, to_categorical(test_labels))\n",
    "print(train_accuracy + test_accuracy)"
   ]
  },
  {
   "cell_type": "code",
   "execution_count": null,
   "metadata": {
    "id": "YyluVSwhcINI",
    "outputId": "c4f48a17-816f-4825-8939-3858005bf75b"
   },
   "outputs": [
    {
     "data": {
      "image/png": "[encoded data removed]",
      "text/plain": [
       "<Figure size 432x288 with 1 Axes>"
      ]
     },
     "metadata": {
      "needs_background": "light"
     },
     "output_type": "display_data"
    }
   ],
   "source": [
    "pyplot.plot(history.history['loss'], label='loss')\n",
    "pyplot.plot(history.history['val_loss'], label='val_loss')\n",
    "pyplot.legend()\n",
    "pyplot.show()"
   ]
  },
  {
   "cell_type": "code",
   "execution_count": null,
   "metadata": {
    "id": "XekH8yetcINI",
    "outputId": "41f5aa76-e1cf-479f-9138-b62efb1d30d9"
   },
   "outputs": [
    {
     "data": {
      "image/png": "[encoded data removed]",
      "text/plain": [
       "<Figure size 432x288 with 1 Axes>"
      ]
     },
     "metadata": {
      "needs_background": "light"
     },
     "output_type": "display_data"
    }
   ],
   "source": [
    "pyplot.plot(history.history['accuracy'], label='accuracy')\n",
    "pyplot.plot(history.history['val_accuracy'], label='val_accuracy')\n",
    "pyplot.legend()\n",
    "pyplot.show()"
   ]
  },
  {
   "cell_type": "markdown",
   "metadata": {
    "id": "x61bwRH5R6fR"
   },
   "source": [
    "### Task 3\n",
    "Sometimes it is useful to be able to modify the `loss` function or build our own loss function from scratch. In Keras / Tensorflow it is quite a simple thing that we can do with basic operations.\n",
    "\n",
    "The following example illustrates how we can use the Root Mean Square Error (**RMSE**) loss function for two variables (`y_true` and `y_pred`)."
   ]
  },
  {
   "cell_type": "code",
   "execution_count": null,
   "metadata": {
    "colab": {
     "base_uri": "https://localhost:8080/"
    },
    "id": "i5kU6V0IR6fR",
    "outputId": "381fa7d8-4159-416a-de60-59d578ac669c"
   },
   "outputs": [
    {
     "data": {
      "text/plain": [
       "39.0"
      ]
     },
     "execution_count": 49,
     "metadata": {},
     "output_type": "execute_result"
    }
   ],
   "source": [
    "y_true = 43.2\n",
    "y_pred = 4.2\n",
    "\n",
    "x = tf.keras.metrics.RootMeanSquaredError()\n",
    "x(y_true, y_pred).numpy()"
   ]
  },
  {
   "cell_type": "markdown",
   "metadata": {
    "id": "Gc5btaV4R6fS"
   },
   "source": [
    "Recreate the Root Mean Squared Error function by creating a new function from scratch."
   ]
  },
  {
   "cell_type": "code",
   "execution_count": null,
   "metadata": {
    "id": "dZa95_oER6fS"
   },
   "outputs": [],
   "source": [
    "import math\n",
    "\n",
    "def custom_loss_function(y_true, y_pred):\n",
    "    MSE = np.square(y_true-y_pred).mean()\n",
    "    RMSE = np.sqrt(MSE)\n",
    "    return RMSE"
   ]
  },
  {
   "cell_type": "markdown",
   "metadata": {
    "id": "cj4DgCl2UmaC"
   },
   "source": [
    "![2fae41d2-cda7-466c-b672-f909e745e126.png](data:image/png;base64,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)"
   ]
  },
  {
   "cell_type": "code",
   "execution_count": null,
   "metadata": {
    "id": "B7imd4NEcINN",
    "outputId": "f056f1a4-5f0e-48fd-985e-ab66f29ba54b"
   },
   "outputs": [
    {
     "name": "stdout",
     "output_type": "stream",
     "text": [
      "RMSE: 39.0\n"
     ]
    }
   ],
   "source": [
    "loss = custom_loss_function(y_true, y_pred)\n",
    "print('RMSE: {}'.format(loss))"
   ]
  }
 ],
 "metadata": {
  "accelerator": "GPU",
  "colab": {
   "collapsed_sections": [],
   "provenance": []
  },
  "kernelspec": {
   "display_name": "Python 3",
   "language": "python",
   "name": "python3"
  },
  "language_info": {
   "codemirror_mode": {
    "name": "ipython",
    "version": 3
   },
   "file_extension": ".py",
   "mimetype": "text/x-python",
   "name": "python",
   "nbconvert_exporter": "python",
   "pygments_lexer": "ipython3",
   "version": "3.8.5"
  }
 },
 "nbformat": 4,
 "nbformat_minor": 1
}
